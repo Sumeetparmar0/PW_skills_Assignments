{
 "cells": [
  {
   "cell_type": "markdown",
   "id": "831aa1cb-52dc-4d54-9e21-875099ce793b",
   "metadata": {},
   "source": [
    "Q1. What is a database? Differentiate between SQL and NoSQL databases."
   ]
  },
  {
   "cell_type": "markdown",
   "id": "6100b5e1-ea12-4c77-ab67-5f4db38d8dee",
   "metadata": {},
   "source": [
    "ANS: Database is a structured collection of data that is organized and stored in a way that allows for efficient retrieval, management, and updating of the data.\n",
    "SQL (Structured Query Language) Databases\n",
    "SQL databases are relational databases that use a structured query language (SQL) for defining and manipulating the data.\n",
    "example- My SQL, MS SQL etc.\n",
    "-SQL databases use tables to represent data and relationships between tables using foreign keys.\n",
    "-SQL databases scale vertically by increasing the horsepower (CPU, RAM, SSD) of the existing server.\n",
    "-SQL databases are often used for applications where the data structure is unlikely to change frequently and transactions are critical (e.g., financial applications).\n",
    "\n",
    "NoSQL (Not Only SQL) Databases\n",
    "NoSQL databases are non-relational databases that provide a mechanism for storage and retrieval of data that is modeled in ways other than the tabular relations used in relational databases.\n",
    "example- MongoDB, Cassandra etc.\n",
    "-NoSQL databases can use various models (key-value, document, graph) to represent and store data.\n",
    "-NoSQL databases scale horizontally by adding more servers to the database.\n",
    "-NoSQL databases are suitable for applications with rapidly changing data or where scalability and flexibility are essential (e.g., web applications, big data)."
   ]
  },
  {
   "cell_type": "markdown",
   "id": "d2e79699-59ac-44cc-8ef7-c455f8e42849",
   "metadata": {},
   "source": [
    "Q2. What is DDL? Explain why CREATE, DROP, ALTER, and TRUNCATE are used with an example."
   ]
  },
  {
   "cell_type": "markdown",
   "id": "5262bdb3-82dc-44d6-9261-8bcfb150b97b",
   "metadata": {},
   "source": [
    "ANS:\n",
    "DDL (Data Definition Language):\n",
    "\n",
    "Data Definition Language (DDL) is a subset of SQL (Structured Query Language) that deals with the definition and management of database structures. DDL statements are used to define, modify, and remove the structure that holds the data. The primary DDL commands are CREATE, DROP, ALTER, TRUNCATE.\n",
    "CREATE: Used to create database objects such as tables, indexes, and views.\n",
    "ALTER: Used to modify the structure of an existing database object.\n",
    "DROP: Used to delete a database object, including tables and databases.\n",
    "TRUNCATE: Used to remove all records from a table, but the table structure and its columns, constraints, indexes, etc., remain.\n"
   ]
  },
  {
   "cell_type": "raw",
   "id": "a1a9ff97-ea0c-4db5-b2d2-1f110c137f46",
   "metadata": {},
   "source": [
    "example for CREATE:\n",
    "CREATE TABLE employees (\n",
    "    id INT PRIMARY KEY,\n",
    "    name VARCHAR(255),\n",
    "    salary DECIMAL(10, 2));\n",
    "\n",
    "example for ALTER:\n",
    "ALTER TABLE employees\n",
    "ADD COLUMN department VARCHAR(100);\n",
    "\n",
    "example for DROP:\n",
    "DROP TABLE employees;\n",
    "\n",
    "example for TEUNCATE:\n",
    "TRUNCATE TABLE employees;\n"
   ]
  },
  {
   "cell_type": "markdown",
   "id": "926a22a8-7b86-4b2b-a731-8d593baca6cf",
   "metadata": {},
   "source": [
    "Q3. What is DML? Explain INSERT, UPDATE, and DELETE with an example."
   ]
  },
  {
   "cell_type": "raw",
   "id": "1cd49d5e-0e84-4a10-8a30-af3764cb7a6f",
   "metadata": {},
   "source": [
    "ANS:\n",
    "DML (Data Manipulation Language)\n",
    "Data Manipulation Language (DML) is a subset of SQL (Structured Query Language) that deals with the manipulation of data stored in the database. DML statements allow users to insert, update, and delete data in a database.\n",
    "\n",
    "INSERT: Used to add new records (rows) to a table.\n",
    "example\n",
    "INSERT INTO employees (id, name, salary, department)\n",
    "VALUES (1, 'John Doe', 50000.00, 'HR');\n",
    "\n",
    "UPDATE: Used to modify existing records in a table.\n",
    "example\n",
    "UPDATE employees\n",
    "SET salary = 55000.00\n",
    "WHERE id = 1;\n",
    "\n",
    "DELETE: Used to remove records from a table.\n",
    "DELETE FROM employees\n",
    "WHERE id = 1;\n"
   ]
  },
  {
   "cell_type": "markdown",
   "id": "06276a89-b890-418e-a8f0-fa8a73b07951",
   "metadata": {},
   "source": [
    "Q4. What is DQL? Explain SELECT with an example."
   ]
  },
  {
   "cell_type": "raw",
   "id": "98703c74-7248-4ed1-ad70-a67d6d5730d6",
   "metadata": {},
   "source": [
    "ANS:\n",
    "Data Query Language (DQL) is a subset of SQL (Structured Query Language) that deals with the retrieval of data from a database. \n",
    "\n",
    "SELECT: Used to specify the columns that you want to retrieve from one or more tables. It is followed by the keywords FROM, which indicates the source table, and optionally, a WHERE clause to specify conditions for the selection.\n",
    "example\n",
    "Suppose you have a table named employees with columns id, name, salary, and department. You want to retrieve the names and salaries of all employees in the HR department whose salary is greater than 50000.00.\n",
    "\n",
    "\n",
    "SELECT name, salary\n",
    "FROM employees\n",
    "WHERE department = 'HR' AND salary > 50000.00;\n"
   ]
  },
  {
   "cell_type": "markdown",
   "id": "1fb384b6-d2a2-4c06-83d9-176bb3b13c20",
   "metadata": {},
   "source": [
    "Q5. Explain Primary Key and Foreign Key."
   ]
  },
  {
   "cell_type": "markdown",
   "id": "d00ef40e-8802-4ba1-98b2-cb2d6e0ce91a",
   "metadata": {},
   "source": [
    "ANS:\n",
    "A Primary Key is a field in a database table that uniquely identifies each record in that table. It must contain unique values, and it cannot contain NULL values. The primary key constraint is used to enforce the uniqueness and integrity of the data in a table.\n",
    "\n",
    "A Foreign Key is a field in a database table that is a primary key in another table. It establishes a link between the data in two tables by referencing the primary key of one table from another table. The foreign key constraint maintains referential integrity between the two tables."
   ]
  },
  {
   "cell_type": "markdown",
   "id": "84073e68-37eb-496c-804b-5be4589d3f55",
   "metadata": {},
   "source": [
    "Q6. Write a python code to connect MySQL to python. Explain the cursor() and execute() method."
   ]
  },
  {
   "cell_type": "code",
   "execution_count": 2,
   "id": "0d2d7309-ff59-4e93-bf0b-34e69e9dff0f",
   "metadata": {},
   "outputs": [
    {
     "name": "stdout",
     "output_type": "stream",
     "text": [
      "Collecting mysql-connector-python\n",
      "  Downloading mysql_connector_python-8.3.0-cp310-cp310-manylinux_2_17_x86_64.whl (21.5 MB)\n",
      "\u001b[2K     \u001b[90m━━━━━━━━━━━━━━━━━━━━━━━━━━━━━━━━━━━━━━━━\u001b[0m \u001b[32m21.5/21.5 MB\u001b[0m \u001b[31m53.1 MB/s\u001b[0m eta \u001b[36m0:00:00\u001b[0m00:01\u001b[0m00:01\u001b[0m\n",
      "\u001b[?25hInstalling collected packages: mysql-connector-python\n",
      "Successfully installed mysql-connector-python-8.3.0\n",
      "Note: you may need to restart the kernel to use updated packages.\n"
     ]
    }
   ],
   "source": [
    "pip install mysql-connector-python"
   ]
  },
  {
   "cell_type": "raw",
   "id": "6f46fe56-bed2-4965-9554-8d96be4ecc8a",
   "metadata": {},
   "source": [
    "import mysql.connector\n",
    "\n",
    "# Connect to MySQL\n",
    "connection = mysql.connector.connect(\n",
    "    host=\"localhost\",\n",
    "    user=\"abc\",\n",
    "    password=\"password\",\n",
    "    database=\"test\"\n",
    ")\n",
    "\n",
    "# Create a cursor object\n",
    "cursor = connection.cursor()\n",
    "\n",
    "# Example: Creating a table\n",
    "create_table_query = \"\"\"\n",
    "CREATE TABLE IF NOT EXISTS example_table (\n",
    "    id INT PRIMARY KEY,\n",
    "    name VARCHAR(255)\n",
    ")\n",
    "\"\"\"\n",
    "cursor.execute(create_table_query)\n",
    "\n",
    "# Example: Inserting data into the table\n",
    "insert_data_query = \"INSERT INTO example_table (id, name) VALUES (%s, %s)\"\n",
    "data_to_insert = (1, \"sumeet\")\n",
    "cursor.execute(insert_data_query, data_to_insert)\n",
    "\n",
    "# Commit the transaction\n",
    "connection.commit()\n",
    "\n",
    "# Example: Retrieving data from the table\n",
    "select_data_query = \"SELECT * FROM example_table\"\n",
    "cursor.execute(select_data_query)\n",
    "\n",
    "# Fetch all rows\n",
    "rows = cursor.fetchall()\n",
    "\n",
    "# Print the retrieved data\n",
    "for row in rows:\n",
    "    print(row)\n",
    "\n",
    "# Close the cursor and connection\n",
    "cursor.close()\n",
    "connection.close()\n",
    "# when we will run this program in MySQL+Python enviroment it will shows the result"
   ]
  },
  {
   "cell_type": "markdown",
   "id": "b3ae6c6d-0205-46c3-a6df-a5695a4fd08b",
   "metadata": {},
   "source": [
    "Q7. Give the order of execution of SQL clauses in an SQL query."
   ]
  },
  {
   "cell_type": "markdown",
   "id": "18d711a3-6f17-4d0c-854b-0f007a26f5b0",
   "metadata": {},
   "source": [
    "ANS:\n",
    "In a standard SQL query, the clauses are generally executed in the following order:\n",
    "\n",
    "FROM:\n",
    "Specifies the tables from which to retrieve data.\n",
    "\n",
    "WHERE:\n",
    "Filters the rows based on a specified condition.\n",
    "\n",
    "GROUP BY:\n",
    "Groups the rows that have the same values in specified columns into summary rows.\n",
    "\n",
    "HAVING:\n",
    "Filters the groups based on a specified condition.\n",
    "\n",
    "SELECT:\n",
    "Retrieves the columns specified in the SELECT clause.\n",
    "\n",
    "DISTINCT:\n",
    "Removes duplicate rows from the result set.\n",
    "\n",
    "ORDER BY:\n",
    "Sorts the result set based on specified columns.\n",
    "\n",
    "LIMIT/OFFSET:\n",
    "Limits the number of rows returned or skips a specified number of rows"
   ]
  },
  {
   "cell_type": "code",
   "execution_count": null,
   "id": "cd486982-56ef-4805-9e6c-a0c0e4843182",
   "metadata": {},
   "outputs": [],
   "source": []
  }
 ],
 "metadata": {
  "kernelspec": {
   "display_name": "Python 3 (ipykernel)",
   "language": "python",
   "name": "python3"
  },
  "language_info": {
   "codemirror_mode": {
    "name": "ipython",
    "version": 3
   },
   "file_extension": ".py",
   "mimetype": "text/x-python",
   "name": "python",
   "nbconvert_exporter": "python",
   "pygments_lexer": "ipython3",
   "version": "3.10.8"
  }
 },
 "nbformat": 4,
 "nbformat_minor": 5
}
