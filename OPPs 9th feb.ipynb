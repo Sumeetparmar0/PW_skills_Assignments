{
 "cells": [
  {
   "cell_type": "markdown",
   "id": "8b48229e-e71a-420e-ae10-109e2ec9e884",
   "metadata": {},
   "source": [
    "Q1, Create a vehicle class with an init method having instance variables as name_of_vehicle, max_speed\n",
    "and average_of_vehicle."
   ]
  },
  {
   "cell_type": "code",
   "execution_count": 18,
   "id": "87694304-8656-4358-a0f0-eb0f3586913c",
   "metadata": {},
   "outputs": [],
   "source": [
    "#ANS\n",
    "class Vehicle:\n",
    "    def __init__(self, name_of_vehicle, max_speed, average_of_vehicle):\n",
    "        self.name_of_vehicle = name_of_vehicle\n",
    "        self.max_speed = max_speed\n",
    "        self.average_of_vehicle = average_of_vehicle"
   ]
  },
  {
   "cell_type": "code",
   "execution_count": 19,
   "id": "1644bbc2-dfaf-40f2-8424-6e9e1b3f78cd",
   "metadata": {},
   "outputs": [
    {
     "name": "stdout",
     "output_type": "stream",
     "text": [
      "Name: car\n",
      "Max Speed: 200\n",
      "Average : 40\n"
     ]
    }
   ],
   "source": [
    "car = Vehicle(\"car\", 200, 40)\n",
    "print(\"Name:\", car.name_of_vehicle)\n",
    "print(\"Max Speed:\", car.max_speed)\n",
    "print(\"Average :\", car.average_of_vehicle)"
   ]
  },
  {
   "cell_type": "markdown",
   "id": "d93c7511-5c0f-496f-87dd-73bf72d377f3",
   "metadata": {},
   "source": [
    "Q2. Create a child class car from the vehicle class created in Que 1, which will inherit the vehicle class.\n",
    "Create a method named seating_capacity which takes capacity as an argument and returns the name of\n",
    "the vehicle and its seating capacity."
   ]
  },
  {
   "cell_type": "code",
   "execution_count": 20,
   "id": "0c5d9c5d-b79f-4f3a-8299-02022989d12f",
   "metadata": {},
   "outputs": [],
   "source": [
    "#ANS\n",
    "class Car(Vehicle):\n",
    "    def __init__(self, name_of_vehicle, max_speed, average_of_vehicle):\n",
    "        super().__init__(name_of_vehicle, max_speed, average_of_vehicle)\n",
    "\n",
    "    def seating_capacity(self, capacity):\n",
    "        return f\"{self.name_of_vehicle} has a seating capacity of {capacity} people.\"\n",
    "\n"
   ]
  },
  {
   "cell_type": "code",
   "execution_count": 21,
   "id": "cafedf93-79da-4dc2-b815-4efb09cc75f3",
   "metadata": {},
   "outputs": [
    {
     "name": "stdout",
     "output_type": "stream",
     "text": [
      "Sedan Car: Max Speed - 180, Average  - 20\n",
      "Sedan Car has a seating capacity of 5 people.\n"
     ]
    }
   ],
   "source": [
    "car = Car(\"Sedan Car\", 180, 20)\n",
    "\n",
    "print(f\"{car.name_of_vehicle}: Max Speed - {car.max_speed}, Average  - {car.average_of_vehicle}\")\n",
    "print(car.seating_capacity(5))"
   ]
  },
  {
   "cell_type": "markdown",
   "id": "12555eb4-4137-4057-9960-3776f9201ac9",
   "metadata": {},
   "source": [
    "Q3. What is multiple inheritance? Write a python code to demonstrate multiple inheritance."
   ]
  },
  {
   "cell_type": "code",
   "execution_count": 22,
   "id": "3c8cd3bd-d618-46f8-882d-001a69409bca",
   "metadata": {},
   "outputs": [],
   "source": [
    "#ANS: creating other class named \"Driver\"\n",
    "class Driver:\n",
    "    def __init__(self, name, age):\n",
    "        self.name = name\n",
    "        self.age = age"
   ]
  },
  {
   "cell_type": "code",
   "execution_count": 29,
   "id": "143d0580-7dae-40c7-b65b-e796a8c3d8f8",
   "metadata": {},
   "outputs": [],
   "source": [
    "class RTO(Vehicle, Driver):\n",
    "    def __init__(self,name_of_vehicle, max_speed, average_of_vehicle, name, age):\n",
    "        Vehicle.__init__(self, name_of_vehicle, max_speed, average_of_vehicle)\n",
    "        Driver.__init__(self, name, age)\n",
    "    def display_info(self):\n",
    "        print(\"RTO details are:\")\n",
    "        print(\"vehicle name:\", self.name_of_vehicle)\n",
    "        print(\"Cas Max speed is:\", self.max_speed)\n",
    "        print(\"Average :\", car.average_of_vehicle)\n",
    "        print(\"Driven name is:\", self.name)\n",
    "        print(\"age is:\", self.age)\n",
    "        "
   ]
  },
  {
   "cell_type": "code",
   "execution_count": 30,
   "id": "f1a4d374-a590-4c07-89c5-2dc408848b35",
   "metadata": {},
   "outputs": [
    {
     "name": "stdout",
     "output_type": "stream",
     "text": [
      "RTO details are:\n",
      "vehicle name: Sedan\n",
      "Cas Max speed is: 180\n",
      "Average : 20\n",
      "Driven name is: ajay\n",
      "age is: 32\n"
     ]
    }
   ],
   "source": [
    "RTO1= RTO(\"Sedan\", 180, 20,\"ajay\",32)\n",
    "RTO1.display_info()"
   ]
  },
  {
   "cell_type": "markdown",
   "id": "aec9a400-228b-41d0-8dd4-dbb3c6efc6d3",
   "metadata": {},
   "source": [
    "Q4. What are getter and setter in python? Create a class and create a getter and a setter method in this\n",
    "class."
   ]
  },
  {
   "cell_type": "markdown",
   "id": "afef3f6d-75aa-4435-82d0-35179e1a6403",
   "metadata": {},
   "source": [
    "ANS: In Python, getters and setters are methods used to access and modify the attributes (variables) of a class, respectively. They provide a way to encapsulate the access and modification of class attributes and allow you to control how attribute values are accessed and updated."
   ]
  },
  {
   "cell_type": "code",
   "execution_count": 25,
   "id": "7002adfe-7e7f-4d5d-9e1f-405cabaf7ebe",
   "metadata": {},
   "outputs": [],
   "source": [
    "#example\n",
    "class Business:\n",
    "    def __init__(self, Type, Location):\n",
    "        self._Type= Type\n",
    "        self._Location=Location\n",
    "\n",
    "    def get_Type(self):\n",
    "        return self._Type\n",
    "    def set_Type(self, Type):\n",
    "        self._Type = Type\n",
    "        \n",
    "    def get_Location(self):\n",
    "        return self._Location\n",
    "    def set_Location(self, Location):\n",
    "        self._Location = Location"
   ]
  },
  {
   "cell_type": "code",
   "execution_count": 26,
   "id": "72ae8729-28b7-4f57-9b8e-4ddcf582523f",
   "metadata": {},
   "outputs": [],
   "source": [
    "Business_obj= Business(\"Automobile\", \"Ahemdabad\")"
   ]
  },
  {
   "cell_type": "code",
   "execution_count": 27,
   "id": "322c465d-417a-487c-aba5-9b318ced8175",
   "metadata": {},
   "outputs": [
    {
     "name": "stdout",
     "output_type": "stream",
     "text": [
      "Type: Automobile\n",
      "Location: Ahemdabad\n"
     ]
    }
   ],
   "source": [
    "#get method\n",
    "print(\"Type:\", Business_obj.get_Type())\n",
    "print(\"Location:\", Business_obj.get_Location())"
   ]
  },
  {
   "cell_type": "code",
   "execution_count": 29,
   "id": "dd13de51-958a-4d74-ab3d-9f433372caa0",
   "metadata": {},
   "outputs": [
    {
     "name": "stdout",
     "output_type": "stream",
     "text": [
      "New_Location: Hydrabad\n"
     ]
    }
   ],
   "source": [
    "#set new type using the setter\n",
    "Business_obj.set_Location(\"Hydrabad\")\n",
    "print(\"New_Location:\", Business_obj.get_Location())"
   ]
  },
  {
   "cell_type": "markdown",
   "id": "8791b343-31b3-4a75-b314-bba6a08a5a4c",
   "metadata": {},
   "source": [
    "Q5.What is method overriding in python? Write a python code to demonstrate method overriding."
   ]
  },
  {
   "cell_type": "markdown",
   "id": "68f16609-e0eb-4e30-b756-1ded6ccdde67",
   "metadata": {},
   "source": [
    "ANS:Method overriding in Python refers to the ability of a subclass to provide a specific implementation for a method that is already defined in its superclass. When a method is overridden in the subclass, the version of the method in the subclass is used instead of the one in the superclass."
   ]
  },
  {
   "cell_type": "code",
   "execution_count": 32,
   "id": "fdd66263-b620-4b98-9a2e-a00891561e99",
   "metadata": {},
   "outputs": [],
   "source": [
    "#example\n",
    "class Animal:\n",
    "    def speak(self):\n",
    "        print(\"Animal speaks\")\n",
    "\n",
    "class Dog(Animal):\n",
    "    def speak(self):\n",
    "        print(\"Dog barks\")\n",
    "\n",
    "class Cat(Animal):\n",
    "    def speak(self):\n",
    "        print(\"Cat meows\")\n",
    "\n",
    "# instances of the subclasses\n",
    "dog = Dog()\n",
    "cat = Cat()"
   ]
  },
  {
   "cell_type": "code",
   "execution_count": 33,
   "id": "e062030d-3793-4590-ae12-1d0df301040e",
   "metadata": {},
   "outputs": [
    {
     "name": "stdout",
     "output_type": "stream",
     "text": [
      "Dog barks\n",
      "Cat meows\n"
     ]
    }
   ],
   "source": [
    "# Call the overridden speak method for each instance\n",
    "dog.speak()  \n",
    "cat.speak()  "
   ]
  },
  {
   "cell_type": "code",
   "execution_count": null,
   "id": "0ee00c96-4869-4600-8a9a-8a12fc762639",
   "metadata": {},
   "outputs": [],
   "source": []
  }
 ],
 "metadata": {
  "kernelspec": {
   "display_name": "Python 3 (ipykernel)",
   "language": "python",
   "name": "python3"
  },
  "language_info": {
   "codemirror_mode": {
    "name": "ipython",
    "version": 3
   },
   "file_extension": ".py",
   "mimetype": "text/x-python",
   "name": "python",
   "nbconvert_exporter": "python",
   "pygments_lexer": "ipython3",
   "version": "3.10.8"
  }
 },
 "nbformat": 4,
 "nbformat_minor": 5
}
