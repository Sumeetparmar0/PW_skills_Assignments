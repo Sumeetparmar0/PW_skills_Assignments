{
 "cells": [
  {
   "cell_type": "markdown",
   "id": "a52be3b4-6fdb-4b90-883f-f2d6302ae2d5",
   "metadata": {},
   "source": [
    "Q1. What is the Probability density function?"
   ]
  },
  {
   "cell_type": "markdown",
   "id": "ea499b6d-aaeb-4706-b838-4a77a5af3db4",
   "metadata": {},
   "source": [
    "ANS:\n",
    "The Probability Density Function (PDF) is a statistical function that describes the likelihood of obtaining a particular value from a continuous random variable. In other words, it specifies the probability of the random variable falling within a particular range of values. For a continuous random variable.\n",
    "\n",
    "The PDF is a fundamental concept in probability theory and is used to model and analyze the behavior of continuous random variables in statistics."
   ]
  },
  {
   "cell_type": "markdown",
   "id": "67955f4d-2458-4b4c-a18e-98e8f2e2441a",
   "metadata": {},
   "source": [
    "Q2. What are the types of Probability distribution?"
   ]
  },
  {
   "cell_type": "markdown",
   "id": "5324eccd-3517-4e73-b90f-9dea90f4de13",
   "metadata": {},
   "source": [
    "ANS:\n",
    "There are several types of probability distributions, each describing the likelihood of different outcomes in a set of possible values. \n",
    "\n",
    "1) Normal/ Gaussion Distribution\n",
    "2) Bernoulli distribution\n",
    "3) Uniform distribution\n",
    "4) log normal distribution\n",
    "5) Poisson distribution\n",
    "6) Powerlow distribution\n",
    "\n"
   ]
  },
  {
   "cell_type": "markdown",
   "id": "477c7b5e-25eb-4088-85ee-edc7b9a3754c",
   "metadata": {},
   "source": [
    "Q3. Write a Python function to calculate the probability density function of a normal distribution with\n",
    "given mean and standard deviation at a given point."
   ]
  },
  {
   "cell_type": "code",
   "execution_count": 2,
   "id": "d4d81eac-9250-468e-8779-11d137bd7d2f",
   "metadata": {},
   "outputs": [
    {
     "name": "stdout",
     "output_type": "stream",
     "text": [
      "PDF at x=2: 0.05399096651318806\n"
     ]
    }
   ],
   "source": [
    "from scipy.stats import norm\n",
    "\n",
    "def calculate_normal_pdf(x, mean, std_dev):\n",
    "    return norm.pdf(x, mean, std_dev)\n",
    "\n",
    "# Example usage\n",
    "mean = 0\n",
    "std_dev = 1\n",
    "x_value = 2\n",
    "result = calculate_normal_pdf(x_value, mean, std_dev)\n",
    "print(f\"PDF at x={x_value}: {result}\")"
   ]
  },
  {
   "cell_type": "markdown",
   "id": "ece1422b-b866-4044-ac4d-501ad589a933",
   "metadata": {},
   "source": [
    "Q4. What are the properties of Binomial distribution? Give two examples of events where binomial\n",
    "distribution can be applied."
   ]
  },
  {
   "cell_type": "markdown",
   "id": "3e607d3b-c945-43a3-b4fd-d09f31774982",
   "metadata": {},
   "source": [
    "ANS:\n",
    "Properties of the Binomial distribution:\n",
    "\n",
    "It represents the number of successes in a fixed number of independent Bernoulli trials.\n",
    "Each trial has only two possible outcomes: success or failure.\n",
    "The trials are independent and have a constant probability of success.\n",
    "\n",
    "\n",
    "Examples:\n",
    "\n",
    "Counting the number of heads in a series of coin flips.\n",
    "Examining the number of defective items in a batch produced by a manufacturing process."
   ]
  },
  {
   "cell_type": "markdown",
   "id": "5384de67-f466-446a-bb3d-b1964539b5b5",
   "metadata": {},
   "source": [
    "Q5. Generate a random sample of size 1000 from a binomial distribution with probability of success 0.4\n",
    "and plot a histogram of the results using matplotlib."
   ]
  },
  {
   "cell_type": "code",
   "execution_count": 3,
   "id": "96fd36cd-3b0c-4a9e-b343-f17d06b37a36",
   "metadata": {},
   "outputs": [
    {
     "data": {
      "image/png": "[encoded data removed]",
      "text/plain": [
       "<Figure size 640x480 with 1 Axes>"
      ]
     },
     "metadata": {},
     "output_type": "display_data"
    }
   ],
   "source": [
    "import matplotlib.pyplot as plt\n",
    "import numpy as np\n",
    "from scipy.stats import binom\n",
    "\n",
    "# Generate random sample\n",
    "sample_size = 1000\n",
    "probability_of_success = 0.4\n",
    "binomial_sample = np.random.binomial(1, probability_of_success, sample_size)\n",
    "\n",
    "# Plot histogram\n",
    "plt.hist(binomial_sample, bins=np.arange(-0.5, 2.5, 1), alpha=0.75, edgecolor='black')\n",
    "plt.title('Binomial Distribution Sample')\n",
    "plt.xlabel('Outcome')\n",
    "plt.ylabel('Frequency')\n",
    "plt.show()\n"
   ]
  },
  {
   "cell_type": "markdown",
   "id": "223c58fa-abb7-429f-a3d7-2da730d8e479",
   "metadata": {},
   "source": [
    "Q6. Write a Python function to calculate the cumulative distribution function of a Poisson distribution\n",
    "with given mean at a given point."
   ]
  },
  {
   "cell_type": "code",
   "execution_count": 4,
   "id": "5fb316d8-521c-484b-a9e5-3e466a5cb667",
   "metadata": {},
   "outputs": [
    {
     "name": "stdout",
     "output_type": "stream",
     "text": [
      "CDF at x=2: 0.42319008112684364\n"
     ]
    }
   ],
   "source": [
    "from scipy.stats import poisson\n",
    "\n",
    "def calculate_poisson_cdf(x, mean):\n",
    "    return poisson.cdf(x, mean)\n",
    "\n",
    "# Example usage\n",
    "mean = 3\n",
    "x_value = 2\n",
    "result = calculate_poisson_cdf(x_value, mean)\n",
    "print(f\"CDF at x={x_value}: {result}\")\n"
   ]
  },
  {
   "cell_type": "markdown",
   "id": "6f276340-80a6-496f-92fe-dfb532e83a21",
   "metadata": {},
   "source": [
    "Q7. How Binomial distribution different from Poisson distribution?"
   ]
  },
  {
   "cell_type": "markdown",
   "id": "b5583474-b56f-469c-b0d2-d6ad2fd47a3b",
   "metadata": {},
   "source": [
    "ANS:\n",
    "Binomial Distribution: Used for a fixed number of trials with a binary outcome (success/failure). Requires a fixed number of trials n and a constant probability of success p.\n",
    "\n",
    "Poisson Distribution: Used for the number of events occurring in a fixed interval of time or space. It is characterized by the average rate of occurrence λ, and events must be independent and occur with a constant rate."
   ]
  },
  {
   "cell_type": "markdown",
   "id": "e52d75c0-7fa9-4cef-ba70-5cae8aeb6cec",
   "metadata": {},
   "source": [
    "Q8. Generate a random sample of size 1000 from a Poisson distribution with mean 5 and calculate the\n",
    "sample mean and variance."
   ]
  },
  {
   "cell_type": "code",
   "execution_count": 5,
   "id": "28ff268b-2430-4e27-9e26-d37adc22aaad",
   "metadata": {},
   "outputs": [
    {
     "name": "stdout",
     "output_type": "stream",
     "text": [
      "Sample Mean: 5.065\n",
      "Sample Variance: 4.9487749999999995\n"
     ]
    }
   ],
   "source": [
    "import numpy as np\n",
    "from scipy.stats import poisson\n",
    "\n",
    "# Generate random sample\n",
    "sample_size = 1000\n",
    "mean = 5\n",
    "poisson_sample = np.random.poisson(mean, sample_size)\n",
    "\n",
    "# Calculate sample mean and variance\n",
    "sample_mean = np.mean(poisson_sample)\n",
    "sample_variance = np.var(poisson_sample)\n",
    "\n",
    "print(f\"Sample Mean: {sample_mean}\")\n",
    "print(f\"Sample Variance: {sample_variance}\")\n"
   ]
  },
  {
   "cell_type": "markdown",
   "id": "2ec0aa17-f8a8-4ab5-8bc4-1bf080a2b147",
   "metadata": {},
   "source": [
    "Q9. How mean and variance are related in Binomial distribution and Poisson distribution?"
   ]
  },
  {
   "cell_type": "markdown",
   "id": "3fae71b6-cd5f-4808-936d-0e1d54c61a6b",
   "metadata": {},
   "source": [
    "ANS:\n",
    "in both Binomial and poisson distributions, the mean and variance have a direct relatioonship , but the specific relationship differs between the two.\n",
    "\n",
    "Binomial distribution:\n",
    "\n",
    "in this with paramerets n number of traials and p probablity of success in each trial , the mean adn  variance are related as follows:\n",
    "\n",
    "u(myu)=np\n",
    "sigma sq = np(1-p)\n",
    "\n",
    "Poisson distribution:\n",
    "in this the parameter lamda (avrage rate of mean number of events in a fixed interval), the mean and variance are equal:\n",
    "\n",
    "u(myu) = sigma sq = lamda"
   ]
  },
  {
   "cell_type": "markdown",
   "id": "19bc5244-3d5c-4512-9a36-87ab5959b6db",
   "metadata": {},
   "source": [
    "Q10. In normal distribution with respect to mean position, where does the least frequent data appear?"
   ]
  },
  {
   "cell_type": "markdown",
   "id": "fd550d09-d8d9-4dca-a29f-87e672c861e5",
   "metadata": {},
   "source": [
    "ANS:\n",
    "In a normal distribution, which is symmetric, the least frequent data appears in the tails, farther away from the mean. The tails of a normal distribution extend infinitely in both directions, becoming less and less likely as you move away from the mean. The data points in the tails represent extreme values, and their occurrence is less frequent compared to values closer to the mean.\n",
    "\n",
    "In a standard normal distribution (with a mean of 0 and a standard deviation of 1), data points in the tails are typically quantified in terms of standard deviations from the mean. For instance:\n",
    "\n",
    "About 68% of the data falls within one standard deviation from the mean.\n",
    "\n",
    "About 95% falls within two standard deviations.\n",
    "\n",
    "About 99.7% falls within three standard deviations.\n",
    "\n",
    "Data points beyond three standard deviations from the mean are considered outliers and are very infrequent in a normal distribution."
   ]
  },
  {
   "cell_type": "code",
   "execution_count": null,
   "id": "e2eb72c9-7950-4515-9858-ebc4ee72c1af",
   "metadata": {},
   "outputs": [],
   "source": []
  }
 ],
 "metadata": {
  "kernelspec": {
   "display_name": "Python 3 (ipykernel)",
   "language": "python",
   "name": "python3"
  },
  "language_info": {
   "codemirror_mode": {
    "name": "ipython",
    "version": 3
   },
   "file_extension": ".py",
   "mimetype": "text/x-python",
   "name": "python",
   "nbconvert_exporter": "python",
   "pygments_lexer": "ipython3",
   "version": "3.10.8"
  }
 },
 "nbformat": 4,
 "nbformat_minor": 5
}
