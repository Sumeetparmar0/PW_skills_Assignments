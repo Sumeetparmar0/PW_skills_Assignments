{
 "cells": [
  {
   "cell_type": "markdown",
   "id": "fbaf1845-d380-4400-a179-a7eee6ef740e",
   "metadata": {},
   "source": [
    "Q1 What is an Exception in python? write the deference between Exception and syntax errors."
   ]
  },
  {
   "cell_type": "markdown",
   "id": "00695406-c2d7-473c-bcc8-0f46f7e7ef73",
   "metadata": {},
   "source": [
    "ANS: An exception in Python is an event that occurs during the execution of a program that disrupts the normal flow of the program's instructions. Exceptions are used to handle runtime errors, such as division by zero, file not found, or invalid input. When an exception occurs, Python raises an exception object and the program flow is transferred to an appropriate exception-handling code block.\n",
    "\n",
    "Key deference between exception and syntax error:\n",
    "\n",
    "-Exception typically arises due to unforeseen circumstances, like user input, resource unavailability, or mathematical errors. on other hand Syntax error occurs when you violate the rules of the Python language, such as using an invalid keyword, missing parentheses, or misplacing colons.\n",
    "\n",
    "-Exceptions are raised by Python's built-in functions or by your own code using the raise statement on other hand Syntax errors are caught by Python's interpreter before the program runs, and they prevent the program from running at all."
   ]
  },
  {
   "cell_type": "markdown",
   "id": "4efdb594-a549-4718-b860-09f719f23215",
   "metadata": {},
   "source": [
    "Q2: what happens when and exception is not handled? explain with an example."
   ]
  },
  {
   "cell_type": "markdown",
   "id": "3195fb0d-4a90-46af-b748-624b8159f70c",
   "metadata": {},
   "source": [
    "ANS:When an exception is not handled, it leads to the termination of the program's normal execution and an error message is displayed, indicating the type of exception that occurred."
   ]
  },
  {
   "cell_type": "code",
   "execution_count": 13,
   "id": "b6b64891-8f0d-4998-895d-ed6abf886769",
   "metadata": {},
   "outputs": [
    {
     "name": "stdin",
     "output_type": "stream",
     "text": [
      "enter the number 0\n"
     ]
    },
    {
     "ename": "ZeroDivisionError",
     "evalue": "division by zero",
     "output_type": "error",
     "traceback": [
      "\u001b[0;31m---------------------------------------------------------------------------\u001b[0m",
      "\u001b[0;31mZeroDivisionError\u001b[0m                         Traceback (most recent call last)",
      "Cell \u001b[0;32mIn[13], line 3\u001b[0m\n\u001b[1;32m      1\u001b[0m \u001b[38;5;66;03m# Example\u001b[39;00m\n\u001b[1;32m      2\u001b[0m Num\u001b[38;5;241m=\u001b[39m \u001b[38;5;28mint\u001b[39m(\u001b[38;5;28minput\u001b[39m(\u001b[38;5;124m'\u001b[39m\u001b[38;5;124menter the number\u001b[39m\u001b[38;5;124m'\u001b[39m))\n\u001b[0;32m----> 3\u001b[0m X\u001b[38;5;241m=\u001b[39m \u001b[38;5;241;43m10\u001b[39;49m\u001b[38;5;241;43m/\u001b[39;49m\u001b[43mNum\u001b[49m\n\u001b[1;32m      4\u001b[0m \u001b[38;5;28mprint\u001b[39m(\u001b[38;5;124m\"\u001b[39m\u001b[38;5;124mResult:\u001b[39m\u001b[38;5;124m\"\u001b[39m, X)\n",
      "\u001b[0;31mZeroDivisionError\u001b[0m: division by zero"
     ]
    }
   ],
   "source": [
    "# Example\n",
    "Num= int(input('enter the number'))\n",
    "X= 10/Num\n",
    "print(\"Result:\", X)"
   ]
  },
  {
   "cell_type": "code",
   "execution_count": 14,
   "id": "56ed18f2-c40a-4ca4-b1f7-11c5071f6905",
   "metadata": {},
   "outputs": [
    {
     "name": "stdin",
     "output_type": "stream",
     "text": [
      "enter the number 0\n"
     ]
    },
    {
     "name": "stdout",
     "output_type": "stream",
     "text": [
      "Exaption: division by zero\n"
     ]
    }
   ],
   "source": [
    "try:\n",
    "    Num= int(input('enter the number'))\n",
    "    X= 10/Num\n",
    "    print(\"Result:\", X)\n",
    "except ZeroDivisionError as e:\n",
    "    print(\"Exaption:\", e)"
   ]
  },
  {
   "cell_type": "markdown",
   "id": "cfce00ef-f9c0-4bfe-8210-352e77fc4168",
   "metadata": {},
   "source": [
    "Q3. Which python statements are used to catch and handle exceptions? Explain with and example."
   ]
  },
  {
   "cell_type": "markdown",
   "id": "a51ac8d0-8d33-4fc2-9428-8ddd4c04397c",
   "metadata": {},
   "source": [
    "ANS:In Python, the try and except statements are used to catch and handle exceptions. The try block contains the code that might raise an exception, and the except block contains the code to handle the exception if it occurs."
   ]
  },
  {
   "cell_type": "code",
   "execution_count": 18,
   "id": "10dec70d-f238-4cbb-a63f-01a243269248",
   "metadata": {},
   "outputs": [
    {
     "name": "stdin",
     "output_type": "stream",
     "text": [
      "enter the number 2\n"
     ]
    },
    {
     "name": "stdout",
     "output_type": "stream",
     "text": [
      "Result: 5.0\n",
      "Execution completed\n"
     ]
    }
   ],
   "source": [
    "#example\n",
    "try:\n",
    "    Num= int(input('enter the number'))\n",
    "    X= 10/Num\n",
    "except ZeroDivisionError as e:\n",
    "    print(\"Exaption:\", e)\n",
    "else:\n",
    "    print(\"Result:\", X)\n",
    "finally:\n",
    "    print(\"Execution completed\")\n",
    "    "
   ]
  },
  {
   "cell_type": "markdown",
   "id": "de47231d-40f7-46af-92b6-c9bd8e9ebb3f",
   "metadata": {},
   "source": [
    "Q4. explain with an example, a. try and else, b. finally, c.raise."
   ]
  },
  {
   "cell_type": "markdown",
   "id": "af08528f-fb2f-45bc-b68b-770ba6c149d6",
   "metadata": {},
   "source": [
    "ANS: \n",
    "A: try and else\n",
    "The else block is executed when no exceptions occur in the try block. It's typically used to execute code that should run only if the try block completes without raising any exceptions. example same as above Zero devision.\n",
    "\n",
    "B:finally\n",
    "The finally block is used to specify code that should be executed regardless of whether an exception occurs or not.\n",
    " example same as above Zero devision if you enter 0 value then also Execution completed msg will be shown.\n",
    "\n",
    "C. raise\n",
    "The raise statement is used to raise an exception explicitly. we can customize the type of exception and the error message to provide meaningful information."
   ]
  },
  {
   "cell_type": "code",
   "execution_count": 19,
   "id": "6f5622bc-8cd3-44bf-b6f3-2ed06b8bdd41",
   "metadata": {},
   "outputs": [
    {
     "name": "stdin",
     "output_type": "stream",
     "text": [
      "Enter your age:  -200\n"
     ]
    },
    {
     "name": "stdout",
     "output_type": "stream",
     "text": [
      "Error: Age cannot be negative\n"
     ]
    }
   ],
   "source": [
    "#raise example\n",
    "try:\n",
    "    age = int(input(\"Enter your age: \"))\n",
    "    if age < 0:\n",
    "        raise ValueError(\"Age cannot be negative\")\n",
    "except ValueError as ve:\n",
    "    print(\"Error:\", ve)"
   ]
  },
  {
   "cell_type": "markdown",
   "id": "54298732-c2cf-4a16-ba7e-10beeacd1596",
   "metadata": {},
   "source": [
    "Q5. What are custom Exceptions in python? why do we need Custom exceptions? expalin with and example."
   ]
  },
  {
   "cell_type": "markdown",
   "id": "9979801c-bb9e-4eb7-a0bf-edf784541d2d",
   "metadata": {},
   "source": [
    "ANS: In some of condition system will not give an error and run the code , but according to our requirements some preticular conditions must be filfulled for excuting the operation , so we need to make manuall coditions and error handling according to that its called custom exception handling in python . we need custom exception for user defined exceptions , maintenace , debugging etc."
   ]
  },
  {
   "cell_type": "code",
   "execution_count": 25,
   "id": "82b0c54e-1f29-45a8-8b14-133c977bed0a",
   "metadata": {},
   "outputs": [],
   "source": [
    "#example\n",
    "class InsufficientFundsError(Exception):\n",
    "    def __init__(self, amount, balance):\n",
    "        self.amount = amount\n",
    "        self.balance = balance\n",
    "        self.message = f\"Insufficient funds: Amount {amount} exceeds balance {balance}\"\n",
    "\n",
    "def withdraw(balance, amount):\n",
    "    if amount > balance:\n",
    "        raise InsufficientFundsError(amount, balance)\n",
    "    return balance - amount"
   ]
  },
  {
   "cell_type": "code",
   "execution_count": 26,
   "id": "f93c5205-722b-4e0d-bea7-90468a43f46a",
   "metadata": {},
   "outputs": [
    {
     "name": "stdout",
     "output_type": "stream",
     "text": [
      "Error: Insufficient funds: Amount 150 exceeds balance 100\n"
     ]
    }
   ],
   "source": [
    "try:\n",
    "    account_balance = 100\n",
    "    withdrawal_amount = 150\n",
    "    new_balance = withdraw(account_balance, withdrawal_amount)\n",
    "    print(\"Withdrawal successful. New balance:\", new_balance)\n",
    "except InsufficientFundsError as e:\n",
    "    print(\"Error:\", e.message)"
   ]
  },
  {
   "cell_type": "markdown",
   "id": "1af6e05b-ef7f-4296-89ee-2b8fd3924b39",
   "metadata": {},
   "source": [
    "Q6. Create a custom exception class. use this class to handle an exception."
   ]
  },
  {
   "cell_type": "code",
   "execution_count": 51,
   "id": "47c6c79e-2cfb-46eb-9a93-f705c6908c7f",
   "metadata": {},
   "outputs": [
    {
     "name": "stdin",
     "output_type": "stream",
     "text": [
      "enter time: -23\n"
     ]
    },
    {
     "name": "stdout",
     "output_type": "stream",
     "text": [
      "EROOR: Enter time within 0 to 24\n"
     ]
    }
   ],
   "source": [
    "class Wish_Error(Exception):\n",
    "    def __init__(self, time):\n",
    "        self.time=time\n",
    "        self.message = \"Enter time within 0 to 24\"\n",
    "        \n",
    "def Wish(time):\n",
    "    if time > 24 or time < 0:\n",
    "        raise Wish_Error(time)\n",
    "    elif time >= 0 and time < 12:\n",
    "        print(\"Good Morning\")\n",
    "    elif time >= 12 and time < 16:\n",
    "        print(\"Good Afternoon\")\n",
    "    elif time >=16 and time < 22:\n",
    "        print(\"Good evening\")\n",
    "    else:\n",
    "        print(\"Good night\")\n",
    "    \n",
    "try:\n",
    "    input_time= int(input(\"enter time:\"))\n",
    "    result= Wish(input_time)\n",
    "    print(result)\n",
    "except Wish_Error as W:\n",
    "    print(\"EROOR:\", W.message)"
   ]
  },
  {
   "cell_type": "code",
   "execution_count": null,
   "id": "7145c995-7dab-4986-9670-d130b1fd9a74",
   "metadata": {},
   "outputs": [],
   "source": []
  }
 ],
 "metadata": {
  "kernelspec": {
   "display_name": "Python 3 (ipykernel)",
   "language": "python",
   "name": "python3"
  },
  "language_info": {
   "codemirror_mode": {
    "name": "ipython",
    "version": 3
   },
   "file_extension": ".py",
   "mimetype": "text/x-python",
   "name": "python",
   "nbconvert_exporter": "python",
   "pygments_lexer": "ipython3",
   "version": "3.10.8"
  }
 },
 "nbformat": 4,
 "nbformat_minor": 5
}
