{
 "cells": [
  {
   "cell_type": "markdown",
   "id": "e1314267-43f1-46ca-95a5-6c38fa2fd5dc",
   "metadata": {},
   "source": [
    "Q1. what is multithreading in python? Why is it used? Name the module used to handle threads in python."
   ]
  },
  {
   "cell_type": "markdown",
   "id": "cebe706d-49f9-4697-9579-ea11f0389d94",
   "metadata": {},
   "source": [
    "ANS: Multithreading in Python refers to the concurrent execution of multiple threads (smaller units of a process) within a single process. Each thread operates independently and can perform tasks concurrently, allowing for better utilization of multi-core processors and improved responsiveness in applications that require parallelism.\n",
    "\n",
    "Multithreading is maily used to execute multiple task or operation simultaneously , taking advantage of multi core processors, which lead to significant performance improvements.\n",
    "\n",
    "Module used is 'threading' we need to import threading first , then other things like for preticular function we can write code like Function_name = threading.Thread(targe= XYZ)..etc amd call it by '.start()'."
   ]
  },
  {
   "cell_type": "markdown",
   "id": "5f9049f9-005c-4d36-b383-54c50bbf16e5",
   "metadata": {},
   "source": [
    "Q2. why threading module used? write the use of the following functions\n",
    "1. activeCount()\n",
    "2. currentThread()\n",
    "3. enumerate()"
   ]
  },
  {
   "cell_type": "markdown",
   "id": "8cc6bd1a-eef3-487f-8be9-2e3942fb5183",
   "metadata": {},
   "source": [
    "ANS: The threading module in Python is used for creating, managing, and synchronizing threads. It provides a high-level, object-oriented interface for working with threads, making it easier to handle multithreaded applications.\n",
    "1. activeCount():\n",
    "\n",
    "threading.activeCount() returns the number of Thread objects currently alive.\n",
    "\n",
    "2. currentThread():\n",
    "\n",
    "threading.currentThread() returns the currently executing Thread object.\n",
    "\n",
    "3. enumerate():\n",
    "\n",
    "threading.enumerate() returns a list of all Thread objects currently alive."
   ]
  },
  {
   "cell_type": "markdown",
   "id": "456d7b39-53b1-48d1-bc37-19e1de1500dd",
   "metadata": {},
   "source": [
    "Q3. Explain the following functions\n",
    "run()\n",
    "start()\n",
    "join()\n",
    "isAlive()"
   ]
  },
  {
   "cell_type": "markdown",
   "id": "bc7fb575-db45-43b7-bfaa-f874984d9726",
   "metadata": {},
   "source": [
    "ANS:\n",
    "1.The run() method is the entry point for the thread's activity or functionality.When we create a custom thread class by subclassing threading.Thread, we typically override the run() method to specify the thread's behavior.\n",
    "\n",
    "2.The start() method is used to initiate the execution of a thread. It creates a new thread of execution and calls the run() method of the thread.\n",
    "\n",
    "3.he join() method is used to wait for a thread to complete its execution before proceeding with the rest of the program.\n",
    "\n",
    "4.The isAlive() method is used to check if a thread is currently active or running. It returns True if the thread is alive (running) and False if it has finished its execution."
   ]
  },
  {
   "cell_type": "markdown",
   "id": "e1058e5e-6513-4c3b-8167-a0175db8b8c4",
   "metadata": {},
   "source": [
    "Q4. write a python program to create two threads. Thread one must print the list of squares and thread\n",
    "two must print the list of cubes"
   ]
  },
  {
   "cell_type": "code",
   "execution_count": 18,
   "id": "7d3ff226-3534-4b8d-85a0-7e4762eb2030",
   "metadata": {},
   "outputs": [
    {
     "name": "stdout",
     "output_type": "stream",
     "text": [
      "Square of 1 is 1\n",
      "Cube of 1 is 1\n",
      "Square of 2 is 4\n",
      "Cube of 2 is 8\n",
      "Square of 3 is 9\n",
      "Cube of 3 is 27\n",
      "Square of 4 is 16\n",
      "Cube of 4 is 64\n",
      "Square of 5 is 25\n",
      "Cube of 5 is 125\n"
     ]
    }
   ],
   "source": [
    "import threading\n",
    "\n",
    "def print_squares():\n",
    "    for i in range(1, 6):\n",
    "        print(f\"Square of {i} is {i * i}\")\n",
    "        time.sleep(1)\n",
    "\n",
    "def print_cubes():\n",
    "    for i in range(1, 6):\n",
    "        print(f\"Cube of {i} is {i * i * i}\")\n",
    "        time.sleep(1)\n",
    "\n",
    "thread1 = threading.Thread(target=print_squares)\n",
    "thread2 = threading.Thread(target=print_cubes)\n",
    "\n",
    "\n",
    "thread1.start()\n",
    "thread2.start()\n",
    "\n",
    "\n",
    "thread1.join()\n",
    "thread2.join()\n"
   ]
  },
  {
   "cell_type": "markdown",
   "id": "07a0109f-148f-45a0-b25f-dfc7fb36594b",
   "metadata": {},
   "source": [
    "Q5. State advantages and disadvantages of multithreading"
   ]
  },
  {
   "cell_type": "markdown",
   "id": "0f619aa8-89a1-427e-974c-e383e766063e",
   "metadata": {},
   "source": [
    "ANS: \n",
    "Advantages of Multithreading\n",
    "Improve performance especially on multicore processors, respnsiveness, resource sharing, modular design, parallelism.. etc.\n",
    "\n",
    "Disadvantages of Multithreading\n",
    "Complexity: writing code can be bit comlex coditions, deadlocks etc need to be managed carefully.\n",
    "debugging challanges, compatibility, synchronization overheads etc."
   ]
  },
  {
   "cell_type": "markdown",
   "id": "abb1f3c2-2f56-48ad-9a6a-50e69397e8ea",
   "metadata": {},
   "source": [
    "Q6. Explain deadlocks and race conditions."
   ]
  },
  {
   "cell_type": "markdown",
   "id": "752d164e-515d-437c-8334-38609d73df1d",
   "metadata": {},
   "source": [
    "ANS:\n",
    "A deadlock is a situation in which two or more threads or processes are unable to proceed because they are each waiting for the other(s) to release a resource. This leads to a standstill where no progress can be made. Deadlocks typically involve mutual exclusion, hold and wait, no preemption, and circular wait conditions.\n",
    "\n",
    "A race condition is a situation in which the behavior of a program depends on the relative timing of events, such as the execution order of threads or processes, rather than just the logical flow of the program. In a race condition, multiple threads access shared data concurrently, and the final outcome is unpredictable or incorrect due to non-deterministic execution."
   ]
  },
  {
   "cell_type": "code",
   "execution_count": null,
   "id": "dc289731-8267-401e-9687-05b53402b7ad",
   "metadata": {},
   "outputs": [],
   "source": []
  }
 ],
 "metadata": {
  "kernelspec": {
   "display_name": "Python 3 (ipykernel)",
   "language": "python",
   "name": "python3"
  },
  "language_info": {
   "codemirror_mode": {
    "name": "ipython",
    "version": 3
   },
   "file_extension": ".py",
   "mimetype": "text/x-python",
   "name": "python",
   "nbconvert_exporter": "python",
   "pygments_lexer": "ipython3",
   "version": "3.10.8"
  }
 },
 "nbformat": 4,
 "nbformat_minor": 5
}
