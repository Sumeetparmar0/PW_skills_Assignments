{
 "cells": [
  {
   "cell_type": "markdown",
   "id": "d5d668b8-bde8-4f80-83a7-2edf19760ad3",
   "metadata": {},
   "source": [
    "Q1. What are the characteristics of the tuples? Is tuple immutable?\n",
    "\n",
    "Ans.\n",
    "Tuples are ordered, immutable data structures in Python. They have the following characteristics:\n",
    "\n",
    "Ordered: Tuples maintain the order of elements as they are inserted. Each element in a tuple is assigned a specific index, and the order of elements is preserved.\n",
    "\n",
    "Immutable: Tuples are immutable, which means once a tuple is created, its elements cannot be changed, added, or removed. You cannot modify individual elements in a tuple. However, you can create a new tuple with different elements if needed.\n",
    "\n",
    "Heterogeneous: Tuples can contain elements of different data types, such as integers, strings, floats, and other tuples.\n",
    "\n",
    "Nesting: Tuples can be nested, meaning you can have tuples as elements within other tuples.\n",
    "\n",
    "Indexed Access: You can access elements in a tuple using their index. Indexing starts from 0, where the first element has an index of 0, the second element has an index of 1, and so on.\n",
    "\n",
    "Hashable: Since tuples are immutable, they are hashable. This means tuples can be used as keys in dictionaries, unlike lists, which are mutable and cannot be used as dictionary keys."
   ]
  },
  {
   "cell_type": "markdown",
   "id": "218e402b-a14d-444f-921d-069087047902",
   "metadata": {},
   "source": [
    "Q2. What are the two tuple methods in python? Give an example of each method. Give a reason why\n",
    "tuples have only two in-built methods as compared to Lists.\n",
    "\n",
    "1.count(): This method is used to count the number of occurrences of a specific element in the tuple.\n",
    "2.index(): This method is used to find the index of the first occurrence of a specific element in the tuple.\n",
    "\n",
    "Reason for having only two in-built methods in tuples compared to lists:\n",
    "Tuples are designed to be immutable, meaning their elements cannot be changed after creation. The limited number of methods in tuples reflects this immutability. Since tuples are not meant to be modified, there is no need for methods like append(), remove(), or insert(), which are available for lists but would not be appropriate for tuples."
   ]
  },
  {
   "cell_type": "code",
   "execution_count": 7,
   "id": "884e7fe7-a405-4ea9-893b-365d6277a50a",
   "metadata": {},
   "outputs": [
    {
     "name": "stdout",
     "output_type": "stream",
     "text": [
      "3\n"
     ]
    }
   ],
   "source": [
    "#example for count()\n",
    "one_tuple = (1, 2, 3, 2, 4, 2)\n",
    "count_of_2 = one_tuple.count(2)\n",
    "print(count_of_2)"
   ]
  },
  {
   "cell_type": "code",
   "execution_count": 9,
   "id": "af813607-6b94-4d6a-959d-aa4664089669",
   "metadata": {},
   "outputs": [
    {
     "name": "stdout",
     "output_type": "stream",
     "text": [
      "2\n"
     ]
    }
   ],
   "source": [
    "#example for index()\n",
    "two_tuple = (10, 20, 30, 40, 50)\n",
    "index_of_30 = two_tuple.index(30)\n",
    "print(index_of_30)"
   ]
  },
  {
   "cell_type": "markdown",
   "id": "36d2f62b-4bc0-416a-a263-588d91e31676",
   "metadata": {},
   "source": [
    "Q3. Which collection datatypes in python do not allow duplicate items? Write a code using a set to remove\n",
    "duplicates from the given list.\n",
    "\n",
    "In Python, the collection datatype that does not allow duplicate items is the set. Sets are unordered collections of unique elements, meaning each element can only appear once in a set.\n"
   ]
  },
  {
   "cell_type": "code",
   "execution_count": 10,
   "id": "81e949b4-493e-44ee-adcc-039c9ee0456f",
   "metadata": {},
   "outputs": [
    {
     "name": "stdout",
     "output_type": "stream",
     "text": [
      "[1, 2, 3, 4]\n"
     ]
    }
   ],
   "source": [
    "my_list = [1, 1, 1, 2, 1, 3, 1, 4, 2, 1, 2, 2, 2, 3, 2, 4, 3, 1, 3, 2, 3, 3, 3, 4, 4, 1, 4, 2, 4, 3, 4, 4]\n",
    "my_set = set(my_list)\n",
    "unique_list = list(my_set)\n",
    "print(unique_list)\n"
   ]
  },
  {
   "cell_type": "markdown",
   "id": "fb35eb6a-3cb2-48db-a654-3384470d5407",
   "metadata": {},
   "source": [
    "Q4. Explain the difference between the union() and update() methods for a set. Give an example of\n",
    "each method.\n",
    "\n",
    "ANS:while using union() in operation on sets it gives new set having all uniq elements from both sets , on other hand update() modify the original set and gives updated set having all uniqe elements."
   ]
  },
  {
   "cell_type": "code",
   "execution_count": 11,
   "id": "85bbeeee-0579-41d4-8d05-3634c00cd88a",
   "metadata": {},
   "outputs": [
    {
     "name": "stdout",
     "output_type": "stream",
     "text": [
      "{1, 2, 3, 4, 5}\n"
     ]
    }
   ],
   "source": [
    "#exmple of union()\n",
    "set1 = {1, 2, 3}\n",
    "set2 = {3, 4, 5}\n",
    "union_set = set1.union(set2)\n",
    "print(union_set) "
   ]
  },
  {
   "cell_type": "code",
   "execution_count": 12,
   "id": "71bf0b6b-7d58-4d09-9463-9bdf1b70d34d",
   "metadata": {},
   "outputs": [
    {
     "name": "stdout",
     "output_type": "stream",
     "text": [
      "{1, 2, 3, 4, 5}\n"
     ]
    }
   ],
   "source": [
    "#example of update()\n",
    "set1 = {1, 2, 3}\n",
    "set2 = {3, 4, 5}\n",
    "set1.update(set2)\n",
    "print(set1)  "
   ]
  },
  {
   "cell_type": "markdown",
   "id": "8bc43220-bf6b-4626-83ec-a64b54eb4af0",
   "metadata": {},
   "source": [
    "Q5. What is a dictionary? Give an example. Also, state whether a dictionary is ordered or unordered.\n",
    "\n",
    "ANS: Dictionary used to store a collection of key-value pairs.Each key in a dictionary must be unique, and it is associated with a value. The keys can be of various data types such as strings, integers, or tuples, while the values can be of any data type, including strings, numbers, lists, or even other dictionaries.dictionary is ordered."
   ]
  },
  {
   "cell_type": "code",
   "execution_count": 15,
   "id": "dac0be29-5445-41cc-9629-206aec24566b",
   "metadata": {},
   "outputs": [
    {
     "name": "stdout",
     "output_type": "stream",
     "text": [
      "12\n",
      "6\n"
     ]
    }
   ],
   "source": [
    "car_brands = {\"Toyota\": 12,\"Honda\": 8,\"Ford\": 7,\"Chevrolet\": 6,\"Nissan\": 9}\n",
    "print(car_brands[\"Toyota\"])  \n",
    "print(car_brands[\"Chevrolet\"])"
   ]
  },
  {
   "cell_type": "markdown",
   "id": "93b378a3-5685-4486-ba90-14ea9952c9ec",
   "metadata": {},
   "source": [
    "Q6. Can we create a nested dictionary? If so, please give an example by creating a simple one-level\n",
    "nested dictionary.\n",
    "\n",
    "Ans:\n",
    "Yes we can create a nested dictionary, example is given below"
   ]
  },
  {
   "cell_type": "code",
   "execution_count": 16,
   "id": "f8d1d410-4e2c-4255-97dc-09dea1726ece",
   "metadata": {},
   "outputs": [
    {
     "name": "stdout",
     "output_type": "stream",
     "text": [
      "25\n",
      "['History', 'Geography', 'Hindi']\n",
      "A+\n"
     ]
    }
   ],
   "source": [
    "student_details = {\"Ajay\": {\"age\": 25,\"grade\": \"A\",\"courses\": [\"Math\", \"Science\", \"English\"]},\n",
    "    \"Alia\": {\"age\": 23,\"grade\": \"B\",\"courses\": [\"History\", \"Geography\", \"Hindi\"] },\n",
    "    \"Amit\": {\"age\": 21,\"grade\": \"A+\",\"courses\": [\"Physics\", \"Chemistry\", \"Biology\"]}}\n",
    "\n",
    "\n",
    "print(student_details[\"Ajay\"][\"age\"])  \n",
    "#Output: 25\n",
    "print(student_details[\"Alia\"][\"courses\"]) \n",
    "#Output: ['History', 'Geography', 'Hindi']\n",
    "print(student_details[\"Amit\"][\"grade\"]) \n",
    "#Output: A+"
   ]
  },
  {
   "cell_type": "markdown",
   "id": "729c1c45-07d0-47b5-a755-acc58beef082",
   "metadata": {},
   "source": [
    "Q7. Using setdefault() method, create key named topics in the given dictionary and also add the value of\n",
    "the key as this list ['Python', 'Machine Learning’, 'Deep Learning']\n",
    "dict1 = {'language' : 'Python', 'course': 'Data Science Masters'}"
   ]
  },
  {
   "cell_type": "code",
   "execution_count": 17,
   "id": "35293c4d-2c60-4861-8a24-7349c2f2501d",
   "metadata": {},
   "outputs": [
    {
     "name": "stdout",
     "output_type": "stream",
     "text": [
      "{'language': 'Python', 'course': 'Data Science Masters', 'topics': ['Python', 'Machine Learning', 'Deep Learning']}\n"
     ]
    }
   ],
   "source": [
    "dict1 = {'language': 'Python', 'course': 'Data Science Masters'}\n",
    "dict1.setdefault('topics', ['Python', 'Machine Learning', 'Deep Learning'])\n",
    "print(dict1)"
   ]
  },
  {
   "cell_type": "markdown",
   "id": "49e43deb-045b-469e-b408-be28b7aa0b50",
   "metadata": {},
   "source": [
    "Q8. What are the three view objects in dictionaries? Use the three in-built methods in python to display\n",
    "these three view objects for the given dictionary.\n",
    "dict1 = {'Sport': 'Cricket' , 'Teams': ['India', 'Australia', 'England', 'South Africa', 'Sri Lanka', 'New Zealand']}\n",
    "\n",
    "ANS: Three view objects in dictionaries are 1. keys() 2.values() 3.items()."
   ]
  },
  {
   "cell_type": "code",
   "execution_count": 19,
   "id": "d54482d9-d59b-4654-843c-327a3ede8354",
   "metadata": {},
   "outputs": [],
   "source": [
    "dict1 = {'Sport': 'Cricket', 'Teams': ['India', 'Australia', 'England', 'South Africa', 'Sri Lanka', 'New Zealand']}\n"
   ]
  },
  {
   "cell_type": "code",
   "execution_count": 20,
   "id": "df9a46df-2f9b-427d-9e5b-c6dfebc5aa0f",
   "metadata": {},
   "outputs": [
    {
     "name": "stdout",
     "output_type": "stream",
     "text": [
      "dict_keys: dict_keys(['Sport', 'Teams'])\n"
     ]
    }
   ],
   "source": [
    "# Display the dict_keys view object\n",
    "keys_view = dict1.keys()\n",
    "print(\"dict_keys:\", keys_view)"
   ]
  },
  {
   "cell_type": "code",
   "execution_count": 21,
   "id": "ed3eb252-6684-4191-9a4b-69b216337601",
   "metadata": {},
   "outputs": [
    {
     "name": "stdout",
     "output_type": "stream",
     "text": [
      "dict_values: dict_values(['Cricket', ['India', 'Australia', 'England', 'South Africa', 'Sri Lanka', 'New Zealand']])\n"
     ]
    }
   ],
   "source": [
    "# Display the dict_values view object\n",
    "values_view = dict1.values()\n",
    "print(\"dict_values:\", values_view)"
   ]
  },
  {
   "cell_type": "code",
   "execution_count": 22,
   "id": "07329092-57e9-4e30-b7e3-84aba59c97bb",
   "metadata": {},
   "outputs": [
    {
     "name": "stdout",
     "output_type": "stream",
     "text": [
      "dict_items: dict_items([('Sport', 'Cricket'), ('Teams', ['India', 'Australia', 'England', 'South Africa', 'Sri Lanka', 'New Zealand'])])\n"
     ]
    }
   ],
   "source": [
    "# Display the dict_items view object\n",
    "items_view = dict1.items()\n",
    "print(\"dict_items:\", items_view)"
   ]
  },
  {
   "cell_type": "code",
   "execution_count": null,
   "id": "2acc60aa-b311-40a4-93c4-705b388476f8",
   "metadata": {},
   "outputs": [],
   "source": []
  }
 ],
 "metadata": {
  "kernelspec": {
   "display_name": "Python 3 (ipykernel)",
   "language": "python",
   "name": "python3"
  },
  "language_info": {
   "codemirror_mode": {
    "name": "ipython",
    "version": 3
   },
   "file_extension": ".py",
   "mimetype": "text/x-python",
   "name": "python",
   "nbconvert_exporter": "python",
   "pygments_lexer": "ipython3",
   "version": "3.10.8"
  }
 },
 "nbformat": 4,
 "nbformat_minor": 5
}
