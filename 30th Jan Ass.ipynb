{
 "cells": [
  {
   "cell_type": "markdown",
   "id": "4db9c079-7675-47c5-b9d1-98df816d25e9",
   "metadata": {},
   "source": [
    "Q1. Write a program to accept percentage from the user and display the grade according to the criteria."
   ]
  },
  {
   "cell_type": "code",
   "execution_count": 1,
   "id": "e4f75176-7a1f-4d6e-bc16-9afee7964bd2",
   "metadata": {},
   "outputs": [
    {
     "name": "stdin",
     "output_type": "stream",
     "text": [
      "enter marks 95\n"
     ]
    },
    {
     "name": "stdout",
     "output_type": "stream",
     "text": [
      "the grade is A\n"
     ]
    }
   ],
   "source": [
    "#ANs \n",
    "a=int(input(\"enter marks\"))\n",
    "if a > 90:\n",
    "    print ('the grade is A')\n",
    "elif a>80 and a<=90:\n",
    "    print ('the grade is B')\n",
    "elif a>=60 and a<=80:\n",
    "    print ('the grade is C')\n",
    "elif a<60:\n",
    "    print(\"the grade is D\")"
   ]
  },
  {
   "cell_type": "markdown",
   "id": "fd7e8f40-c157-4cf9-8e90-3862ff27da53",
   "metadata": {},
   "source": [
    "Q2. write a program to accept the cost price of a bike and display the road tax to be paid according to the criteria."
   ]
  },
  {
   "cell_type": "code",
   "execution_count": 7,
   "id": "e5d0683e-1258-4349-a6cb-20ed3c120b89",
   "metadata": {},
   "outputs": [
    {
     "name": "stdin",
     "output_type": "stream",
     "text": [
      "enter the cost price of a bike 65000\n"
     ]
    },
    {
     "name": "stdout",
     "output_type": "stream",
     "text": [
      "The road tax to be paid is 10%\n"
     ]
    }
   ],
   "source": [
    "#ANS\n",
    "b=int(input(\"enter the cost price of a bike\"))\n",
    "if b > 100000:\n",
    "    print ('The road tax to be paid is 15%')\n",
    "elif b>50000 and a<=100000:\n",
    "    print ('The road tax to be paid is 10%')\n",
    "elif b<=50000:\n",
    "    print ('The road tax to be paid is 5%')"
   ]
  },
  {
   "cell_type": "markdown",
   "id": "a69127fd-474e-496e-b226-4df8bf7719c9",
   "metadata": {},
   "source": [
    "Q3. accept any city from the user and display monuments of that city."
   ]
  },
  {
   "cell_type": "code",
   "execution_count": 12,
   "id": "5d95f402-ce61-40b0-a03d-d01beffd2cfe",
   "metadata": {},
   "outputs": [
    {
     "name": "stdin",
     "output_type": "stream",
     "text": [
      "enter the the city delhi , agra or jaipur agra\n"
     ]
    },
    {
     "name": "stdout",
     "output_type": "stream",
     "text": [
      "Monument of agra is Taj Mahal\n"
     ]
    }
   ],
   "source": [
    "#ans\n",
    "c=input(\"enter the the city delhi , agra or jaipur\")\n",
    "if c== \"delhi\":\n",
    "    print ('Monument of delhi is Red Fort')\n",
    "elif c=='agra':\n",
    "    print ('Monument of agra is Taj Mahal')\n",
    "elif c=='jaipur':\n",
    "    print ('Monument of jaipur is Jal Mahal')\n",
    "else:\n",
    "    print('Please enter city from given list')"
   ]
  },
  {
   "cell_type": "markdown",
   "id": "7d513f61-09bb-4a44-9724-b7cbcc7f46f6",
   "metadata": {},
   "source": [
    "Q4. Check how many times a given number can be divided by 3 befor it is less than equal to 10."
   ]
  },
  {
   "cell_type": "code",
   "execution_count": 14,
   "id": "881a04a1-45f2-4682-9260-e933574982fc",
   "metadata": {},
   "outputs": [
    {
     "name": "stdin",
     "output_type": "stream",
     "text": [
      "Enter a number:  110\n"
     ]
    },
    {
     "name": "stdout",
     "output_type": "stream",
     "text": [
      "The number 110.0 can be divided by 3 3 times before it is less than or equal to 10.\n"
     ]
    }
   ],
   "source": [
    "#ans\n",
    "def division_count(number):\n",
    "    count = 0\n",
    "    while number > 10:\n",
    "        number /= 3\n",
    "        count += 1\n",
    "    return count\n",
    "\n",
    "# Input: Enter a number\n",
    "num = float(input(\"Enter a number: \"))\n",
    "\n",
    "result = division_count(num)\n",
    "\n",
    "print(f\"The number {num} can be divided by 3 {result} times before it is less than or equal to 10.\")"
   ]
  },
  {
   "cell_type": "markdown",
   "id": "cb4c87e9-0bd2-4ae2-82bb-9ac50fd455f9",
   "metadata": {},
   "source": [
    "Q5.Why and when to use while loop in python give a detailed dicription with example."
   ]
  },
  {
   "cell_type": "markdown",
   "id": "21601130-d430-46a4-ab2b-66b44ffda9f2",
   "metadata": {},
   "source": [
    "Ans:A while loop in Python is used to repeatedly execute a block of code as long as a certain condition is true. The loop continues executing the block of code until the condition becomes false. This type of loop is useful when you want to repeat an action multiple times, but you don't know in advance exactly how many times the loop will run. Example given below."
   ]
  },
  {
   "cell_type": "code",
   "execution_count": 15,
   "id": "c0f17bcf-9406-4dfd-b1f3-051b242e9d99",
   "metadata": {},
   "outputs": [],
   "source": [
    "def factorial(n):\n",
    "    if n < 0:\n",
    "        return None  # Factorial is not defined for negative numbers\n",
    "    elif n == 0 or n == 1:\n",
    "        return 1  # Factorial of 0 and 1 is 1\n",
    "\n",
    "    result = 1\n",
    "    while n > 1:\n",
    "        result *= n\n",
    "        n -= 1\n",
    "\n",
    "    return result"
   ]
  },
  {
   "cell_type": "code",
   "execution_count": 16,
   "id": "77f5b64a-ab15-4967-95c5-feca37d22cc6",
   "metadata": {},
   "outputs": [
    {
     "name": "stdin",
     "output_type": "stream",
     "text": [
      "Enter a positive integer:  15\n"
     ]
    },
    {
     "name": "stdout",
     "output_type": "stream",
     "text": [
      "The factorial of 15 is 1307674368000\n"
     ]
    }
   ],
   "source": [
    "# Input: Enter a positive integer\n",
    "num = int(input(\"Enter a positive integer: \"))\n",
    "\n",
    "if num < 0:\n",
    "    print(\"Factorial is not defined for negative numbers.\")\n",
    "else:\n",
    "    fact = factorial(num)\n",
    "    print(f\"The factorial of {num} is {fact}\")"
   ]
  },
  {
   "cell_type": "markdown",
   "id": "8ed5f8b8-415f-4bd7-a1c3-d26392715ad8",
   "metadata": {},
   "source": [
    "Q6. use nested while loop to print 3 different pattern."
   ]
  },
  {
   "cell_type": "code",
   "execution_count": 20,
   "id": "95e8dff8-f86a-4198-9897-4595a3da294d",
   "metadata": {},
   "outputs": [
    {
     "name": "stdout",
     "output_type": "stream",
     "text": [
      "*\n",
      "**\n",
      "***\n",
      "****\n",
      "*****\n"
     ]
    }
   ],
   "source": [
    "rows = 5\n",
    "i = 1\n",
    "while i <= rows:\n",
    "    j = 1\n",
    "    while j <= i:\n",
    "        print(\"*\", end=\"\")\n",
    "        j += 1\n",
    "    print()\n",
    "    i += 1"
   ]
  },
  {
   "cell_type": "code",
   "execution_count": 22,
   "id": "b4d79cf5-2ec5-491c-802a-38ae587d422f",
   "metadata": {},
   "outputs": [
    {
     "name": "stdout",
     "output_type": "stream",
     "text": [
      "*****\n",
      "*   *\n",
      "*   *\n",
      "*   *\n",
      "*****\n"
     ]
    }
   ],
   "source": [
    "rows = 5\n",
    "i = 1\n",
    "while i <= rows:\n",
    "    j = 1\n",
    "    while j <= rows:\n",
    "        if i == 1 or i == rows or j == 1 or j == rows:\n",
    "            print(\"*\", end=\"\")\n",
    "        else:\n",
    "            print(\" \", end=\"\")\n",
    "        j += 1\n",
    "    print()\n",
    "    i += 1"
   ]
  },
  {
   "cell_type": "code",
   "execution_count": 23,
   "id": "474f6c20-ad8b-4bd4-b31f-cffc49e25ff8",
   "metadata": {},
   "outputs": [
    {
     "name": "stdout",
     "output_type": "stream",
     "text": [
      "    *\n",
      "   ***\n",
      "  *****\n",
      " *******\n",
      "*********\n"
     ]
    }
   ],
   "source": [
    "rows = 5\n",
    "i = 1\n",
    "while i <= rows:\n",
    "    spaces = rows - i\n",
    "    while spaces > 0:\n",
    "        print(\" \", end=\"\")\n",
    "        spaces -= 1\n",
    "    \n",
    "    stars = 1\n",
    "    while stars <= i * 2 - 1:\n",
    "        print(\"*\", end=\"\")\n",
    "        stars += 1\n",
    "    \n",
    "    print()\n",
    "    i += 1"
   ]
  },
  {
   "cell_type": "markdown",
   "id": "2a0cb1a0-7021-4947-8a6b-2e4e5c083bee",
   "metadata": {},
   "source": [
    "Q7. Reverse a while loop to display numbers from 10 to 1.(Q8 is also same)"
   ]
  },
  {
   "cell_type": "code",
   "execution_count": 25,
   "id": "fe8fa694-5d6e-49e2-87c9-ae5fd9058fff",
   "metadata": {},
   "outputs": [
    {
     "name": "stdout",
     "output_type": "stream",
     "text": [
      "10\n",
      "9\n",
      "8\n",
      "7\n",
      "6\n",
      "5\n",
      "4\n",
      "3\n",
      "2\n",
      "1\n"
     ]
    }
   ],
   "source": [
    "num = 10\n",
    "while num >= 1:\n",
    "    print(num)\n",
    "    num -= 1"
   ]
  },
  {
   "cell_type": "code",
   "execution_count": null,
   "id": "6fb0d654-de65-47f8-af15-a19c439d3fd7",
   "metadata": {},
   "outputs": [],
   "source": []
  }
 ],
 "metadata": {
  "kernelspec": {
   "display_name": "Python 3 (ipykernel)",
   "language": "python",
   "name": "python3"
  },
  "language_info": {
   "codemirror_mode": {
    "name": "ipython",
    "version": 3
   },
   "file_extension": ".py",
   "mimetype": "text/x-python",
   "name": "python",
   "nbconvert_exporter": "python",
   "pygments_lexer": "ipython3",
   "version": "3.10.8"
  }
 },
 "nbformat": 4,
 "nbformat_minor": 5
}
