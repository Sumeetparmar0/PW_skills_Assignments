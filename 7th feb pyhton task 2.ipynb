{
 "cells": [
  {
   "cell_type": "markdown",
   "id": "981cbcbc-226b-4a07-9745-dd1aa5d2f9f3",
   "metadata": {},
   "source": [
    "Q1. You are writing code for a company. The requirement of the company is that you create a python\n",
    "function that will check whether the password entered by the user is correct or not. The function should\n",
    "take the password as input and return the string “Valid Password” if the entered password follows the\n",
    "below-given password guidelines else it should return “Invalid Password”.\n",
    "Note: 1. The Password should contain at least two uppercase letters and at least two lowercase letters.\n",
    "2. The Password should contain at least a number and three special characters.\n",
    "3. The length of the password should be 10 characters long."
   ]
  },
  {
   "cell_type": "code",
   "execution_count": 5,
   "id": "92912372-db62-45ae-822e-14f57ca00b2f",
   "metadata": {},
   "outputs": [
    {
     "name": "stdin",
     "output_type": "stream",
     "text": [
      "Enter the password:  SUmeet123#$%^\n"
     ]
    },
    {
     "name": "stdout",
     "output_type": "stream",
     "text": [
      "Valid Password\n"
     ]
    }
   ],
   "source": [
    "def check_password(password):\n",
    "    # Check length\n",
    "    if len(password) <= 10:\n",
    "        return \"Invalid Password\"\n",
    "    \n",
    "    # Initialize counters for uppercase, lowercase, numbers, and special characters\n",
    "    upper_count = 0\n",
    "    lower_count = 0\n",
    "    number_count = 0\n",
    "    special_count = 0\n",
    "    \n",
    "    special_characters = \"!@#$%^&*(),.?\\\":{}|<>\"\n",
    "    \n",
    "    for char in password:\n",
    "        if char.isupper():\n",
    "            upper_count += 1\n",
    "        elif char.islower():\n",
    "            lower_count += 1\n",
    "        elif char.isdigit():\n",
    "            number_count += 1\n",
    "        elif char in special_characters:\n",
    "            special_count += 1\n",
    "    \n",
    "    # Check uppercase letters\n",
    "    if upper_count < 2:\n",
    "        return \"Invalid Password\"\n",
    "    \n",
    "    # Check lowercase letters\n",
    "    if lower_count < 2:\n",
    "        return \"Invalid Password\"\n",
    "    \n",
    "    # Check numbers\n",
    "    if number_count < 1:\n",
    "        return \"Invalid Password\"\n",
    "    \n",
    "    # Check special characters\n",
    "    if special_count < 3:\n",
    "        return \"Invalid Password\"\n",
    "    \n",
    "    return \"Valid Password\"\n",
    "\n",
    "# Input: Enter the password\n",
    "password = input(\"Enter the password: \")\n",
    "\n",
    "result = check_password(password)\n",
    "print(result)\n"
   ]
  },
  {
   "cell_type": "markdown",
   "id": "cd84d537-8393-4861-9bea-5b1615a42654",
   "metadata": {},
   "source": [
    "Q2. Solve the below-given questions using at least one of the following:\n",
    "1. Lambda function\n",
    "2. Filter function\n",
    "3. Zap function\n",
    "4. List Comprehension"
   ]
  },
  {
   "cell_type": "markdown",
   "id": "8f110ae1-dd0e-4226-bdfd-56304ae90176",
   "metadata": {},
   "source": [
    "Check if the string starts with a particular letter Y"
   ]
  },
  {
   "cell_type": "code",
   "execution_count": 8,
   "id": "e217177f-56b7-42eb-b784-0c27643dfb82",
   "metadata": {},
   "outputs": [
    {
     "name": "stdout",
     "output_type": "stream",
     "text": [
      "['Yellow', 'Yes', 'Yonder']\n"
     ]
    }
   ],
   "source": [
    "strings = [\"Yellow\", \"Yes\", \"No\", \"Yonder\", \"Maybe\"]\n",
    "\n",
    "starts_with_Y = filter(lambda s: s.startswith(\"Y\"), strings)\n",
    "result = list(starts_with_Y)\n",
    "\n",
    "print(result)\n"
   ]
  },
  {
   "cell_type": "markdown",
   "id": "e178ded9-065f-4b0d-9273-132d146b00e0",
   "metadata": {},
   "source": [
    "Check if the string is numeric."
   ]
  },
  {
   "cell_type": "code",
   "execution_count": 9,
   "id": "923c45e5-39c6-4184-a36a-9ebd5f73ab8e",
   "metadata": {},
   "outputs": [
    {
     "name": "stdout",
     "output_type": "stream",
     "text": [
      "['123', '789', '0']\n"
     ]
    }
   ],
   "source": [
    "strings = [\"123\", \"45.6\", \"abc\", \"789\", \"0\"]\n",
    "\n",
    "numeric_strings = filter(lambda s: s.isnumeric(), strings)\n",
    "result = list(numeric_strings)\n",
    "\n",
    "print(result)\n"
   ]
  },
  {
   "cell_type": "markdown",
   "id": "dba2cad3-7969-49e8-a016-5623d0a54a8f",
   "metadata": {},
   "source": [
    "Sort a list of tuples having fruit names and their quantity. [(\"mango\",99),(\"orange\",80), (\"grapes\", 1000)]"
   ]
  },
  {
   "cell_type": "code",
   "execution_count": 17,
   "id": "c6e6fffc-d0c4-4ddf-a3d5-d4aa0b336c21",
   "metadata": {},
   "outputs": [
    {
     "name": "stdout",
     "output_type": "stream",
     "text": [
      "[('orange', 80), ('mango', 99), ('grapes', 1000)]\n"
     ]
    }
   ],
   "source": [
    "fruits = [(\"mango\", 99), (\"orange\", 80), (\"grapes\", 1000)]\n",
    "\n",
    "sorted_fruits = sorted(fruits, key=lambda x: x[1])\n",
    "\n",
    "print(sorted_fruits)\n"
   ]
  },
  {
   "cell_type": "code",
   "execution_count": 19,
   "id": "31cca7ed-c7f7-43eb-a460-5703a5fd24e6",
   "metadata": {},
   "outputs": [
    {
     "name": "stdout",
     "output_type": "stream",
     "text": [
      "[1, 4, 9, 16, 25, 36, 49, 64, 81, 100]\n"
     ]
    }
   ],
   "source": [
    "# Find the squares of numbers from 1 to 10.\n",
    "numbers = list(range(1, 11))\n",
    "\n",
    "squares = [x ** 2 for x in numbers]\n",
    "\n",
    "print(squares)\n"
   ]
  },
  {
   "cell_type": "code",
   "execution_count": 22,
   "id": "8348a7dc-9614-4dc2-a5c1-a952e22626ac",
   "metadata": {},
   "outputs": [
    {
     "name": "stdout",
     "output_type": "stream",
     "text": [
      "[1.0, 1.2599210498948732, 1.4422495703074083, 1.5874010519681994, 1.7099759466766968, 1.8171205928321397, 1.912931182772389, 2.0, 2.080083823051904, 2.154434690031884]\n"
     ]
    }
   ],
   "source": [
    "#Find the cube root of numbers from 1 to 10.\n",
    "import math\n",
    "\n",
    "numbers = list(range(1, 11))\n",
    "\n",
    "cube_roots = [math.pow(x, 1/3) for x in numbers]\n",
    "\n",
    "print(cube_roots)\n"
   ]
  },
  {
   "cell_type": "code",
   "execution_count": 24,
   "id": "eccdd5a4-2d39-45b0-ba95-97c5d767d0f2",
   "metadata": {},
   "outputs": [
    {
     "name": "stdout",
     "output_type": "stream",
     "text": [
      "Even numbers: [2, 14, 30, 42]\n"
     ]
    }
   ],
   "source": [
    "#Check if a given number is even.\n",
    "numbers = [2, 7, 14, 25, 30, 42]\n",
    "\n",
    "even_numbers = [x for x in numbers if x % 2 == 0]\n",
    "\n",
    "print(\"Even numbers:\", even_numbers)\n",
    "# in addition we can have input from user also , using input method and can use lamdafuction too."
   ]
  },
  {
   "cell_type": "code",
   "execution_count": 25,
   "id": "24281b58-a585-4b16-ac77-cbf46b43f37c",
   "metadata": {},
   "outputs": [
    {
     "name": "stdout",
     "output_type": "stream",
     "text": [
      "Odd numbers: [1, 3, 5, 7, 9]\n"
     ]
    }
   ],
   "source": [
    "#Filter odd numbers from the given list. [1,2,3,4,5,6,7,8,9,10]\n",
    "numbers = [1, 2, 3, 4, 5, 6, 7, 8, 9, 10]\n",
    "\n",
    "odd_numbers = filter(lambda x: x % 2 != 0, numbers)\n",
    "filtered_list = list(odd_numbers)\n",
    "\n",
    "print(\"Odd numbers:\", filtered_list)\n"
   ]
  },
  {
   "cell_type": "code",
   "execution_count": 27,
   "id": "9fe2a350-8c6a-4f0f-a37f-715a0f3b83d4",
   "metadata": {},
   "outputs": [
    {
     "name": "stdout",
     "output_type": "stream",
     "text": [
      "Positive numbers: [1, 2, 3, 4, 5, 6]\n",
      "Negative numbers: [-1, -2, -3, -4, -5]\n"
     ]
    }
   ],
   "source": [
    "#Sort a list of integers into positive and negative integers lists. [1,2,3,4,5,6,-1,-2,-3,-4,-5,0]\n",
    "numbers = [1, 2, 3, 4, 5, 6, -1, -2, -3, -4, -5, 0]\n",
    "\n",
    "positive_numbers = [x for x in numbers if x > 0]\n",
    "negative_numbers = [x for x in numbers if x < 0]\n",
    "\n",
    "print(\"Positive numbers:\", positive_numbers)\n",
    "print(\"Negative numbers:\", negative_numbers)\n"
   ]
  },
  {
   "cell_type": "code",
   "execution_count": null,
   "id": "def8ec73-d345-4d2b-9bd1-4261fcd7fe0a",
   "metadata": {},
   "outputs": [],
   "source": []
  }
 ],
 "metadata": {
  "kernelspec": {
   "display_name": "Python 3 (ipykernel)",
   "language": "python",
   "name": "python3"
  },
  "language_info": {
   "codemirror_mode": {
    "name": "ipython",
    "version": 3
   },
   "file_extension": ".py",
   "mimetype": "text/x-python",
   "name": "python",
   "nbconvert_exporter": "python",
   "pygments_lexer": "ipython3",
   "version": "3.10.8"
  }
 },
 "nbformat": 4,
 "nbformat_minor": 5
}
