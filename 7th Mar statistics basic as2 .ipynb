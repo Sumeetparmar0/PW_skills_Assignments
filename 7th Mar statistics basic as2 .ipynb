{
 "cells": [
  {
   "cell_type": "markdown",
   "id": "d2ec86be-b2ef-4928-b6e3-6254a3d00846",
   "metadata": {},
   "source": [
    "Q1. What are the three measures of central tendency?"
   ]
  },
  {
   "cell_type": "markdown",
   "id": "3b40c5d2-5fd7-4908-bf82-c068f66522e9",
   "metadata": {},
   "source": [
    "ANS:\n",
    "The three measures of central tendency are:\n",
    "\n",
    "\n",
    "Mean: The mean, also known as the average, is calculated by summing up all the values in a dataset and dividing the sum by the number of values.\n",
    "\n",
    "\n",
    "Median: The median is the middle value of a dataset when it is ordered from least to greatest. If there is an even number of observations, the median is the average of the two middle values.\n",
    "\n",
    "\n",
    "Mode: The mode is the value that occurs most frequently in a dataset. A dataset may have one mode (unimodal), more than one mode (multimodal), or no mode at all."
   ]
  },
  {
   "cell_type": "markdown",
   "id": "79d0cc4c-76d8-4243-ba6a-ab9981dcf30a",
   "metadata": {},
   "source": [
    "Q2. What is the difference between the mean, median, and mode? How are they used to measure the\n",
    "central tendency of a dataset?"
   ]
  },
  {
   "cell_type": "markdown",
   "id": "41cf658f-8db2-49c8-8dfe-e908b6f00d28",
   "metadata": {},
   "source": [
    "ANS:\n",
    "he mean, median, and mode are three different measures of central tendency used to describe the \"center\" or \"typical\" value of a dataset. Here are the key differences between them and how they are used:\n",
    "\n",
    "Mean:\n",
    "\n",
    "Calculation: The mean is calculated by summing up all the values in a dataset and dividing the sum by the number of values.\n",
    "\n",
    "Usage: The mean is sensitive to extreme values (outliers) and is most appropriate for datasets with a roughly symmetrical distribution.\n",
    "\n",
    "Median:\n",
    "\n",
    "Calculation: The median is the middle value of a dataset when it is ordered from least to greatest. If there is an even number of observations, the median is the average of the two middle values.\n",
    "\n",
    "Usage: The median is less sensitive to extreme values and is suitable for datasets with skewed distributions. It is a good measure when the goal is to find the central value that divides the dataset into two halves.\n",
    "\n",
    "Mode:\n",
    "\n",
    "Calculation: The mode is the value that occurs most frequently in a dataset. A dataset may have one mode (unimodal), more than one mode (multimodal), or no mode at all.\n",
    "\n",
    "Usage: The mode is useful for categorical data and datasets where the frequency of values is important. It is less commonly used for continuous data but can still be informative, especially in identifying the most common category or value.\n"
   ]
  },
  {
   "cell_type": "markdown",
   "id": "a81053a0-bd89-4a77-9073-8d9c781d1b07",
   "metadata": {},
   "source": [
    "Q3. Measure the three measures of central tendency for the given height data:\n",
    "[178,177,176,177,178.2,178,175,179,180,175,178.9,176.2,177,172.5,178,176.5]"
   ]
  },
  {
   "cell_type": "markdown",
   "id": "1c71f64d-8b93-444b-939e-03c24b732e8c",
   "metadata": {},
   "source": [
    "ANS:\n",
    "Mean:\n",
    "X(bar)=2844.3 / 16 = 177.76875\n",
    "\n",
    "Median:\n",
    "=( 177+178 )/ 2 = 177.5\n",
    "\n",
    "Mode:\n",
    "177 comes three times in data set"
   ]
  },
  {
   "cell_type": "markdown",
   "id": "3780d77d-1844-40ae-81df-0f88d33a89e8",
   "metadata": {},
   "source": [
    "Q4. Find the standard deviation for the given data:\n",
    "[178,177,176,177,178.2,178,175,179,180,175,178.9,176.2,177,172.5,178,176.5]"
   ]
  },
  {
   "cell_type": "markdown",
   "id": "5990b01e-8a4d-4f27-99bf-92d90ce7ae0f",
   "metadata": {},
   "source": [
    "Ans:\n",
    "Standard deviation for given data is 1.7885814036548633\n"
   ]
  },
  {
   "cell_type": "markdown",
   "id": "4a1336e4-4d82-4fb9-8ca0-c275925bf96f",
   "metadata": {},
   "source": [
    "Q5. How are measures of dispersion such as range, variance, and standard deviation used to describe\n",
    "the spread of a dataset? Provide an example."
   ]
  },
  {
   "cell_type": "markdown",
   "id": "72dfd8be-c2c7-471f-bca9-aec50368884c",
   "metadata": {},
   "source": [
    "ANS:\n",
    "Measures of dispersion, such as range, variance, and standard deviation, are used to quantify the spread or variability of a dataset. They provide insights into how much individual data points deviate from the central tendency measures (mean, median, mode). Here's how they are used:\n",
    "\n",
    "Range:\n",
    "\n",
    "Definition: Range is the difference between the maximum and minimum values in a dataset.\n",
    "Use: It gives a simple and quick measure of how spread out the values are. A larger range indicates greater variability.\n",
    "Example: If the scores of two students are 90 and 60, the range is \n",
    "90−60=30. A larger range suggests more variability in the students' scores.\n",
    "\n",
    "Variance:\n",
    "\n",
    "Definition: Variance measures the average squared deviation of each data point from the mean.\n",
    "Use: It provides a more detailed measure of dispersion. A higher variance indicates greater variability.\n",
    "Example: Consider three datasets with means of 50 and variances of 10, 20, and 30. The one with variance 30 has the most spread-out values.\n",
    "\n",
    "Standard Deviation:\n",
    "\n",
    "Definition: Standard deviation is the square root of the variance. It's expressed in the same units as the data.\n",
    "Use: Like variance, it measures the spread of data points. A higher standard deviation indicates greater variability.\n",
    "Example: If two sets of exam scores have means of 70 and standard deviations of 5 and 15, respectively, the second set has more spread-out scores."
   ]
  },
  {
   "cell_type": "markdown",
   "id": "ff26e394-dbc6-4565-90f8-ab770d9d21c1",
   "metadata": {},
   "source": [
    "Q6. What is a Venn diagram?"
   ]
  },
  {
   "cell_type": "markdown",
   "id": "2ccfb737-a775-410f-9634-b1613764808c",
   "metadata": {},
   "source": [
    "ANS:\n",
    "A Venn diagram is a visual representation that illustrates the relationships between sets. It uses circles to represent sets, and the overlapping regions show the common elements between sets. The primary purpose of a Venn diagram is to provide a clear and intuitive way to visualize the intersections and differences between different sets.\n",
    "\n",
    "Here are the key components of a Venn diagram:\n",
    "\n",
    "Circles or Ellipses: Each circle or ellipse represents a set. The elements of the set are contained within the boundaries of the circle.\n",
    "\n",
    "Overlapping Regions: The overlapping regions between circles represent the elements that are common to the sets they connect. The size of the overlap indicates the degree of intersection or shared elements between sets.\n",
    "\n",
    "Non-overlapping Regions: The non-overlapping parts of the circles represent the elements unique to each set.\n",
    "\n",
    "Universal Set: Sometimes, a rectangle or another shape surrounding the circles is used to represent the universal set, which includes all the elements under consideration."
   ]
  },
  {
   "cell_type": "markdown",
   "id": "587b154f-1d67-4f48-9014-e1b2ed4a18fd",
   "metadata": {},
   "source": [
    "Q7. For the two given sets A = (2,3,4,5,6,7) & B = (0,2,6,8,10). Find:\n",
    "(i) A B\n",
    "(ii) A ⋃ B"
   ]
  },
  {
   "cell_type": "markdown",
   "id": "381a84f7-f1f1-484f-b480-e1505a9c077b",
   "metadata": {},
   "source": [
    "ANS:\n",
    "1) intersection of A and B will be (2,6)\n",
    "2) Union of A and B will be (0,2,3,4,5,6,7,8,10)"
   ]
  },
  {
   "cell_type": "markdown",
   "id": "0553a8bc-a581-4e56-9d22-77f54c34eed5",
   "metadata": {},
   "source": [
    "Q8. What do you understand about skewness in data?"
   ]
  },
  {
   "cell_type": "markdown",
   "id": "53c4c072-3c6c-4320-b299-943e2fd2de52",
   "metadata": {},
   "source": [
    "ANS:\n",
    "Skewness is a statistical measure that describes the asymmetry or lack of symmetry in a dataset's distribution. In simpler terms, it quantifies the degree and direction of skew (departure from horizontal symmetry) in the data. The skewness of a distribution can be classified into three main types:\n",
    "\n",
    "Negative Skewness (Left Skewness):\n",
    "\n",
    "If the distribution's tail is skewed to the left, it is said to have negative skewness.\n",
    "In a negatively skewed distribution, the left tail is longer or fatter than the right tail, and the bulk of the data points are concentrated on the right side.\n",
    "The mean is typically less than the median in a negatively skewed distribution.\n",
    "\n",
    "Zero Skewness:\n",
    "\n",
    "If the distribution is perfectly symmetrical, it has zero skewness.\n",
    "In a symmetrical distribution, the left and right tails are of equal length, and the mean is equal to the median.\n",
    "\n",
    "Positive Skewness (Right Skewness):\n",
    "\n",
    "If the distribution's tail is skewed to the right, it is said to have positive skewness.\n",
    "In a positively skewed distribution, the right tail is longer or fatter than the left tail, and the bulk of the data points are concentrated on the left side.\n",
    "The mean is typically greater than the median in a positively skewed distribution."
   ]
  },
  {
   "cell_type": "markdown",
   "id": "9df05028-5bf6-40e0-8bbf-55895455b2c9",
   "metadata": {},
   "source": [
    "Q9. If a data is right skewed then what will be the position of median with respect to mean?"
   ]
  },
  {
   "cell_type": "markdown",
   "id": "f497140e-3cf9-486b-9108-611634fd697d",
   "metadata": {},
   "source": [
    "ANS:\n",
    "If a dataset is right-skewed (positively skewed), the position of the median with respect to the mean will typically follow this pattern:\n",
    "\n",
    "Mean: The mean will be greater than the median.\n",
    "Median: The median will be less than the mean.\n",
    "\n",
    "In a right-skewed distribution, the right tail is longer or fatter than the left tail. This means that there are some relatively large values on the right side, pulling the mean in that direction. Consequently, the mean is influenced by these larger values and tends to be greater than the median."
   ]
  },
  {
   "cell_type": "markdown",
   "id": "4e1c6228-321b-40bc-8386-c0b28f80db98",
   "metadata": {},
   "source": [
    "Q10. Explain the difference between covariance and correlation. How are these measures used in\n",
    "statistical analysis?"
   ]
  },
  {
   "cell_type": "markdown",
   "id": "138558c3-801d-48f9-bd33-e5f9b44d9d94",
   "metadata": {},
   "source": [
    "ANS:\n",
    "\n",
    "Covariance:\n",
    "\n",
    "Definition: Covariance is a measure of how much two variables change together. It indicates whether an increase in one variable is associated with an increase or decrease in another.\n",
    "\n",
    "Correlation:\n",
    "\n",
    "Definition: Correlation is a standardized measure of the strength and direction of the linear relationship between two variables. It provides a more interpretable measure compared to covariance.\n",
    "\n",
    "Differences:\n",
    "\n",
    "Scale:\n",
    "\n",
    "Covariance is not standardized and depends on the scales of the variables.\n",
    "Correlation is standardized, and its values are independent of the scales of the variables.\n",
    "Interpretability:\n",
    "\n",
    "Covariance is in the original units of the variables, making it less interpretable.\n",
    "Correlation provides a standardized measure that is easier to interpret."
   ]
  },
  {
   "cell_type": "markdown",
   "id": "ede81552-17c7-4fa2-b44a-2eb1ee8e2a5f",
   "metadata": {},
   "source": [
    "Q11. What is the formula for calculating the sample mean? Provide an example calculation for a\n",
    "dataset."
   ]
  },
  {
   "cell_type": "markdown",
   "id": "a1f2fa63-38e5-486c-877d-4ef9f8db2b35",
   "metadata": {},
   "source": [
    "ANS:\n",
    "The formula for calculating the sample mean (X bar) is the sum of all values in the dataset divided by the number of observations (data points) in the dataset. Mathematically, it is expressed as:\n",
    "\n",
    "X (bar) = sigma of n i=1 of Xi devided by n\n",
    "\n",
    "whre x bar is sample men, Xi represents each individual value in the dataset, n is the number of observation in the dataset.\n",
    "\n",
    "Example Calculation:\n",
    "Consider the following dataset:\n",
    "\n",
    "{10,15,20,25,30}\n",
    "\n",
    "sample mean will be 20."
   ]
  },
  {
   "cell_type": "markdown",
   "id": "7d873b95-b431-4dd4-bfdd-aab8e2ff145f",
   "metadata": {},
   "source": [
    "Q12. For a normal distribution data what is the relationship between its measure of central tendency?"
   ]
  },
  {
   "cell_type": "markdown",
   "id": "53319647-c388-47d2-953c-9d1721388267",
   "metadata": {},
   "source": [
    "ANS:\n",
    "For a normal distribution, the relationship between its measures of central tendency (mean, median, and mode) is as follows:\n",
    "\n",
    "Mean (μ):\n",
    "\n",
    "The mean of a normal distribution is equal to the median.\n",
    "For a perfectly symmetrical normal distribution, the mean is located at the center, and the distribution is balanced around it.\n",
    "Median:\n",
    "\n",
    "The median of a normal distribution is equal to the mean.\n",
    "In a perfectly symmetrical normal distribution, the median is located at the center, just like the mean.\n",
    "Mode:\n",
    "\n",
    "The mode of a normal distribution is also equal to the mean and median.\n",
    "In a normal distribution, there is a unique mode, and it occurs at the peak of the distribution, where the values are most concentrated.\n",
    "\n",
    "In summary, for a normal distribution:\n",
    "Mean=Median=Mode"
   ]
  },
  {
   "cell_type": "markdown",
   "id": "01ca911e-9883-4fce-90d2-c2f5b0aa1a27",
   "metadata": {},
   "source": [
    "Q13. How is covariance different from correlation?"
   ]
  },
  {
   "cell_type": "markdown",
   "id": "0392f2a5-d665-4acf-8eec-f3fdef37d5dd",
   "metadata": {},
   "source": [
    "ANS:\n",
    "Covariance and correlation are both measures of the relationship between two variables, but they differ in their scale and interpretability.\n",
    "\n",
    "Covariance:\n",
    "\n",
    "Scale: Covariance is not standardized and depends on the scales of the variables. It can take any value, positive or negative, and its magnitude is influenced by the scale of the variables.\n",
    "Interpretation: Covariance does not provide a clear measure of the strength or direction of the relationship. It is affected by the units in which the variables are measured.\n",
    "\n",
    "\n",
    "\n",
    "Correlation:\n",
    "\n",
    "Scale: Correlation is a standardized measure, always ranging between -1 and 1. It is independent of the scales of the variables.\n",
    "Interpretation: Correlation provides a clearer interpretation of the strength and direction of the linear relationship between two variables. A correlation of 1 indicates a perfect positive linear relationship, -1 indicates a perfect negative linear relationship, and 0 indicates no linear relationship."
   ]
  },
  {
   "cell_type": "markdown",
   "id": "074a5c73-a3eb-4195-b910-a6efab2d1946",
   "metadata": {},
   "source": [
    "Q14. How do outliers affect measures of central tendency and dispersion? Provide an example."
   ]
  },
  {
   "cell_type": "markdown",
   "id": "55ba5a5a-ef1d-4689-89e2-b26310ff1c8e",
   "metadata": {},
   "source": [
    "ANS:\n",
    "Outliers can have a significant impact on measures of central tendency (mean, median, mode) and dispersion (range, variance, standard deviation). Their presence can distort the overall picture of the dataset, leading to inaccurate summaries of the central tendency and spread.\n",
    "\n",
    "Effects on Measures of Central Tendency: Mean, Meadia, Mode.\n",
    "\n",
    "Example:\n",
    "Consider the following dataset of exam scores: \n",
    "75,80,85,90,95,300. The majority of scores are between 75 and 95, but there is an outlier, 300.\n",
    "\n",
    "Mean =112.5, Meadian 87.5, impact on range = 225, Impact on standard deviation = 88.21\n",
    "\n",
    "In this example, the outlier has a substantial impact on the mean, range, and standard deviation, highlighting the sensitivity of these measures to extreme values."
   ]
  },
  {
   "cell_type": "code",
   "execution_count": null,
   "id": "a4584d5c-8499-4f06-816d-617b7d0af7ef",
   "metadata": {},
   "outputs": [],
   "source": []
  }
 ],
 "metadata": {
  "kernelspec": {
   "display_name": "Python 3 (ipykernel)",
   "language": "python",
   "name": "python3"
  },
  "language_info": {
   "codemirror_mode": {
    "name": "ipython",
    "version": 3
   },
   "file_extension": ".py",
   "mimetype": "text/x-python",
   "name": "python",
   "nbconvert_exporter": "python",
   "pygments_lexer": "ipython3",
   "version": "3.10.8"
  }
 },
 "nbformat": 4,
 "nbformat_minor": 5
}
