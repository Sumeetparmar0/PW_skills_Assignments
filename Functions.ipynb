{
 "cells": [
  {
   "cell_type": "markdown",
   "id": "060a85d7-4e4c-4e12-9f5e-ccf51703c6d9",
   "metadata": {},
   "source": [
    "Q1. Which keyword is used to create a function? Create a function to return a list of odd numbers in the\n",
    "range of 1 to 25."
   ]
  },
  {
   "cell_type": "markdown",
   "id": "3461d9e5-2e82-4556-b3f1-be6b01f820eb",
   "metadata": {},
   "source": [
    "Ans. Keyword used to creat a function is def, coding for odd number is given below."
   ]
  },
  {
   "cell_type": "code",
   "execution_count": 2,
   "id": "c771b269-ffe3-448d-816d-85e1e8f42ebc",
   "metadata": {},
   "outputs": [],
   "source": [
    "def oddnum():\n",
    "    a=[]\n",
    "    for i in range(1,26):\n",
    "        if i%2 !=0:\n",
    "            a.append(i)\n",
    "    return a"
   ]
  },
  {
   "cell_type": "code",
   "execution_count": 3,
   "id": "42f9a1a2-5d74-4187-8f44-3cde2f6d7a15",
   "metadata": {},
   "outputs": [
    {
     "data": {
      "text/plain": [
       "[1, 3, 5, 7, 9, 11, 13, 15, 17, 19, 21, 23, 25]"
      ]
     },
     "execution_count": 3,
     "metadata": {},
     "output_type": "execute_result"
    }
   ],
   "source": [
    "oddnum()"
   ]
  },
  {
   "cell_type": "markdown",
   "id": "e4bcbf92-fba3-43f7-a56a-a18f095d5814",
   "metadata": {},
   "source": [
    "Q2. Why *args and **kwargs is used in some functions? Create a function each for *args and **kwargs to\n",
    "demonstrate their use."
   ]
  },
  {
   "cell_type": "markdown",
   "id": "789c5294-5fce-441c-8048-e675652c8a34",
   "metadata": {},
   "source": [
    "Ans:The term args stands for \"arguments\" and allows you to pass a variable number of positional arguments to a function. When a function parameter is preceded by an asterisk (), it means that the function can accept any number of positional arguments, which will be bundled into a tuple. Inside the function, you can then iterate over the *args tuple to process each argument accordingly."
   ]
  },
  {
   "cell_type": "code",
   "execution_count": 5,
   "id": "b4d65054-b96a-4b77-a01b-96ce673ddde3",
   "metadata": {},
   "outputs": [
    {
     "name": "stdout",
     "output_type": "stream",
     "text": [
      "name Sumeet\n",
      "age 25\n",
      "city Jamnagar\n"
     ]
    }
   ],
   "source": [
    "def print_args(*args):\n",
    "    for arg in args:\n",
    "        print(arg)\n",
    "        \n",
    "def my_function(**kwargs):\n",
    "    for key, value in kwargs.items():\n",
    "        print(key, value)\n",
    "\n",
    "my_function(name='Sumeet', age=25, city='Jamnagar')"
   ]
  },
  {
   "cell_type": "markdown",
   "id": "04f08bd4-9dec-4256-b7a4-c7aa31d830e4",
   "metadata": {},
   "source": [
    "Q3. What is an iterator in python? Name the method used to initialise the iterator object and the method\n",
    "used for iteration. Use these methods to print the first five elements of the given list [2, 4, 6, 8, 10, 12, 14, 16,\n",
    "18, 20]."
   ]
  },
  {
   "cell_type": "markdown",
   "id": "60d088b8-12a0-4d1d-a2b8-46e59c0fa5c6",
   "metadata": {},
   "source": [
    "ANS:In Python, an iterator is an object that allows you to traverse a sequence of elements one by one without having to know the underlying structure of the data. It provides a common interface for iterating over different data types like lists, tuples, dictionaries, strings, etc.\n",
    "\n",
    "To initialize an iterator object, you can use the built-in iter() function. This function takes a sequence (like a list, tuple, or string) and returns an iterator object associated with that sequence. The iterator object keeps track of the current position during iteration.\n",
    "\n",
    "The method used for iteration with an iterator is next(). The next() method is called on the iterator object, and it returns the next element from the sequence. As you call next() repeatedly, it moves through the sequence until all elements have been exhausted, at which point it raises the StopIteration exception to indicate that there are no more elements to retrieve."
   ]
  },
  {
   "cell_type": "code",
   "execution_count": 7,
   "id": "77681ea2-0d7b-4565-9c08-12ce891f8b0f",
   "metadata": {},
   "outputs": [
    {
     "name": "stdout",
     "output_type": "stream",
     "text": [
      "2\n",
      "4\n",
      "6\n",
      "8\n",
      "10\n"
     ]
    }
   ],
   "source": [
    "List = [2, 4, 6, 8, 10, 12, 14, 16, 18, 20]\n",
    "\n",
    "my_iterator = iter(List)\n",
    "print(next(my_iterator)) \n",
    "print(next(my_iterator)) \n",
    "print(next(my_iterator)) \n",
    "print(next(my_iterator)) \n",
    "print(next(my_iterator)) "
   ]
  },
  {
   "cell_type": "markdown",
   "id": "28fb3737-c3a7-445d-b16d-001367cb4398",
   "metadata": {},
   "source": [
    "Q4. What is a generator function in python? Why yield keyword is used? Give an example of a generator\n",
    "function."
   ]
  },
  {
   "cell_type": "markdown",
   "id": "fa05d2fa-a85f-4b03-94b7-ab1cd4ce84c2",
   "metadata": {},
   "source": [
    "ANS: In Python, a generator function is a special type of function that generates a sequence of values using the yield keyword. Unlike regular functions that use the return statement to return a single value and terminate the function's execution, generator functions can be paused and resumed, allowing them to produce a series of values over time.\n",
    "\n",
    "The yield keyword is used to emit a value from the generator function while maintaining its internal state. It works similarly to return, but it doesn't terminate the function; instead, it temporarily suspends it, allowing us to produce more values on subsequent calls to the generator function.\n",
    "\n",
    "Here's an example of a generator function that generates a sequence of even numbers:"
   ]
  },
  {
   "cell_type": "code",
   "execution_count": 8,
   "id": "e07b2504-6bc5-4fdc-b84e-3c2a35a7b2e8",
   "metadata": {},
   "outputs": [
    {
     "name": "stdout",
     "output_type": "stream",
     "text": [
      "0\n",
      "2\n",
      "4\n",
      "6\n",
      "8\n"
     ]
    }
   ],
   "source": [
    "def even_numbers_generator(limit):\n",
    "    num = 0\n",
    "    while num < limit:\n",
    "        yield num\n",
    "        num += 2\n",
    "\n",
    "even_gen = even_numbers_generator(10)\n",
    "\n",
    "for num in even_gen:\n",
    "    print(num)"
   ]
  },
  {
   "cell_type": "markdown",
   "id": "a344ccbd-23ed-4e41-8cbc-3313cf54c7fd",
   "metadata": {},
   "source": [
    "Q5. Create a generator function for prime numbers less than 1000. Use the next() method to print the\n",
    "first 20 prime numbers."
   ]
  },
  {
   "cell_type": "code",
   "execution_count": 11,
   "id": "f8b8c17b-daa0-4c74-8570-9e78838aa081",
   "metadata": {},
   "outputs": [
    {
     "name": "stdout",
     "output_type": "stream",
     "text": [
      "2 3 5 7 11 13 17 19 23 29 31 37 41 43 47 53 59 61 67 71 "
     ]
    }
   ],
   "source": [
    "def is_prime(num):\n",
    "    if num < 2:\n",
    "        return False\n",
    "    for i in range(2, int(num ** 0.5) + 1):\n",
    "        if num % i == 0:\n",
    "            return False\n",
    "    return True\n",
    "\n",
    "def prime_numbers_generator(limit):\n",
    "    num = 2\n",
    "    while num < limit:\n",
    "        if is_prime(num):\n",
    "            yield num\n",
    "        num += 1\n",
    "\n",
    "prime_gen = prime_numbers_generator(1000)\n",
    "\n",
    "\n",
    "for _ in range(20):\n",
    "    print(next(prime_gen), end=' ')"
   ]
  },
  {
   "cell_type": "code",
   "execution_count": null,
   "id": "5be96169-1fd5-4d79-973e-6ac80cafb80f",
   "metadata": {},
   "outputs": [],
   "source": []
  }
 ],
 "metadata": {
  "kernelspec": {
   "display_name": "Python 3 (ipykernel)",
   "language": "python",
   "name": "python3"
  },
  "language_info": {
   "codemirror_mode": {
    "name": "ipython",
    "version": 3
   },
   "file_extension": ".py",
   "mimetype": "text/x-python",
   "name": "python",
   "nbconvert_exporter": "python",
   "pygments_lexer": "ipython3",
   "version": "3.10.8"
  }
 },
 "nbformat": 4,
 "nbformat_minor": 5
}
