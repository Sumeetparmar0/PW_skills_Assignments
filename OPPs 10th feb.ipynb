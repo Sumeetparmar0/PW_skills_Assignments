{
 "cells": [
  {
   "cell_type": "markdown",
   "id": "9e9367fb-195e-4cbf-9acf-7c2aa9310988",
   "metadata": {},
   "source": [
    "Q1. Which function is used to open a file? What are the different modes of opening a file? Explain each mode\n",
    "of file opening."
   ]
  },
  {
   "cell_type": "markdown",
   "id": "9f9e5bdf-738f-4571-a84b-ea5b9875f4d2",
   "metadata": {},
   "source": [
    "ANS: in Python, the open() function is used to open a file. It takes two arguments: the file path and the mode in which the file should be opened. The mode specifies the purpose for which the file is being opened, whether it's for reading, writing, or both."
   ]
  },
  {
   "cell_type": "code",
   "execution_count": 4,
   "id": "c42168ad-bdf5-45f6-a9e8-aca095e77cd6",
   "metadata": {},
   "outputs": [],
   "source": [
    "# Read mode\n",
    "with open('example.txt', 'r') as file:\n",
    "    content = file.read()\n",
    "\n",
    "# Write mode\n",
    "with open('example.txt', 'w') as file:\n",
    "    file.write(\"Hello, world!\")\n",
    "\n",
    "# Append mode\n",
    "with open('example.txt', 'a') as file:\n",
    "    file.write(\"\\nAppending a new line.\")\n",
    "\n",
    "# Binary mode\n",
    "with open('image.jpg', 'rb') as file:\n",
    "    image_data = file.read()\n",
    "\n",
    "# Read and Write mode\n",
    "with open('example.txt', 'r+') as file:\n",
    "    content = file.read()\n",
    "    file.write(\"\\nAdding new data.\")\n",
    "#so as we can see on above examples , 'r' is used for reading mode , 'w' is used for writing mode, if we use + along with r , it gives read and write both rights.\n",
    "#to append something on file we need to use 'a', and opening file as binary we need to use 'rb'."
   ]
  },
  {
   "cell_type": "markdown",
   "id": "75d5b410-6be0-4fa4-b2b0-d3f94357bcf6",
   "metadata": {},
   "source": [
    "Q2. Why close() function is used? Why is it important to close a file?"
   ]
  },
  {
   "cell_type": "markdown",
   "id": "d2120dbf-ff76-4121-8614-e54b6ea2f413",
   "metadata": {},
   "source": [
    "ANS: The close() function in Python is used to explicitly close a file that has been opened using the open() function. It's important to close a file after we done working with it because failing to close a file properly can lead to several issues like data integrity, resource management, flie locking etc..\n",
    "\n",
    "'with' statement automatically close the file when we exit the block of code. also we can use close() as well."
   ]
  },
  {
   "cell_type": "markdown",
   "id": "ec54da2f-98e5-4a3f-bee3-dc5a8dce6e43",
   "metadata": {},
   "source": [
    "Q3. Write a python program to create a text file. Write ‘I want to become a Data Scientist’ in that file. Then\n",
    "close the file. Open this file and read the content of the file."
   ]
  },
  {
   "cell_type": "code",
   "execution_count": 5,
   "id": "d3fd0e61-44f8-4376-87b8-bf42aa8bf9d0",
   "metadata": {},
   "outputs": [],
   "source": [
    "#ans\n",
    "with open('data.txt', 'w') as file:\n",
    "    file.write('I want to become a Data Scientist')\n"
   ]
  },
  {
   "cell_type": "code",
   "execution_count": 6,
   "id": "7e3c2bae-bb22-4edc-ac73-5394885d9b58",
   "metadata": {},
   "outputs": [
    {
     "name": "stdout",
     "output_type": "stream",
     "text": [
      "Content of the file:\n",
      "I want to become a Data Scientist\n"
     ]
    }
   ],
   "source": [
    "# Open and read the content of the file\n",
    "with open('data.txt', 'r') as file:\n",
    "    content = file.read()\n",
    "    print(\"Content of the file:\")\n",
    "    print(content)"
   ]
  },
  {
   "cell_type": "markdown",
   "id": "d1bedbaa-b152-4749-82a3-bfb21e69c0d8",
   "metadata": {},
   "source": [
    "Q4. Explain the following with python code: read(), readline() and readlines()."
   ]
  },
  {
   "cell_type": "code",
   "execution_count": 7,
   "id": "5c6070f3-1025-4f04-b884-1a395746691a",
   "metadata": {},
   "outputs": [
    {
     "name": "stdout",
     "output_type": "stream",
     "text": [
      "Content of the file:\n",
      "Hello, world!\n",
      "Appending a new line.\n",
      "Adding new data.\n"
     ]
    }
   ],
   "source": [
    "#ANS:\n",
    "#The read() method reads the entire content of the file as a single string.\n",
    "with open('example.txt', 'r') as file:\n",
    "    content = file.read()\n",
    "    print(\"Content of the file:\")\n",
    "    print(content)"
   ]
  },
  {
   "cell_type": "code",
   "execution_count": 8,
   "id": "5b5f281c-911b-43c2-a398-6576d42d78c9",
   "metadata": {},
   "outputs": [
    {
     "name": "stdout",
     "output_type": "stream",
     "text": [
      "First Line: Hello, world!\n",
      "\n",
      "Second Line: Appending a new line.\n",
      "\n"
     ]
    }
   ],
   "source": [
    "#The readline() method reads a single line from the file each time it's called. If you call it multiple times, it will keep reading the next lines.\n",
    "\n",
    "with open('example.txt', 'r') as file:\n",
    "    line1 = file.readline()\n",
    "    line2 = file.readline()\n",
    "    print(\"First Line:\", line1)\n",
    "    print(\"Second Line:\", line2)\n"
   ]
  },
  {
   "cell_type": "code",
   "execution_count": 9,
   "id": "13f9bdfd-4b9a-4031-9356-37954c6eccaf",
   "metadata": {},
   "outputs": [
    {
     "name": "stdout",
     "output_type": "stream",
     "text": [
      "Lines from the file:\n",
      "Hello, world!\n",
      "Appending a new line.\n",
      "Adding new data.\n"
     ]
    }
   ],
   "source": [
    "#The readlines() method reads all the lines of the file and returns a list where each item represents a line from the file.\n",
    "with open('example.txt', 'r') as file:\n",
    "    lines = file.readlines()\n",
    "    print(\"Lines from the file:\")\n",
    "    for line in lines:\n",
    "        print(line.strip())"
   ]
  },
  {
   "cell_type": "markdown",
   "id": "51c76988-6b37-49ac-9c26-63e77cc51d08",
   "metadata": {},
   "source": [
    "Q5. Explain why with statement is used with open(). What is the advantage of using with statement and\n",
    "open() together?"
   ]
  },
  {
   "cell_type": "markdown",
   "id": "2a63f343-b57b-4a03-a099-b4b61ad307e6",
   "metadata": {},
   "source": [
    "ANS:The with statement in Python is used in conjunction with the open() function to ensure proper management of resources, particularly when working with files. The main advantage of using the with statement and open() together is that it provides automatic handling of file operations, including proper opening and closing of the file. This helps in improving code readability, reducing the chances of resource leaks, and ensuring that files are closed properly after use."
   ]
  },
  {
   "cell_type": "markdown",
   "id": "3e69b087-fb9c-44ca-a662-60ed31cc0400",
   "metadata": {},
   "source": [
    "Q6. Explain the write() and writelines() functions. Give a suitable example."
   ]
  },
  {
   "cell_type": "code",
   "execution_count": 10,
   "id": "31572486-7d74-4a23-9dda-56eb9c2d18eb",
   "metadata": {},
   "outputs": [],
   "source": [
    "#ANS\n",
    "#The write() function is used to write a single string to a file. It replaces any existing content in the file with the new string.\n",
    "with open('output.txt', 'w') as file:\n",
    "    file.write(\"Hello, world!\\n\")\n",
    "    file.write(\"This is a new line.\")"
   ]
  },
  {
   "cell_type": "code",
   "execution_count": 12,
   "id": "f4651df2-217d-4d06-9126-62b0f0c6064e",
   "metadata": {},
   "outputs": [],
   "source": [
    "#The writelines() function is used to write a list of strings to a file. \n",
    "#It does not add newline characters automatically, so you need to include them in the strings if we want separate lines.\n",
    "lines = [\"Line 1\\n\", \"Line 2\\n\", \"Line 3\\n\"]\n",
    "with open('output.txt', 'w') as file:\n",
    "    file.writelines(lines)"
   ]
  },
  {
   "cell_type": "code",
   "execution_count": null,
   "id": "6b22c15a-b36d-4822-9523-976cda9ac279",
   "metadata": {},
   "outputs": [],
   "source": []
  }
 ],
 "metadata": {
  "kernelspec": {
   "display_name": "Python 3 (ipykernel)",
   "language": "python",
   "name": "python3"
  },
  "language_info": {
   "codemirror_mode": {
    "name": "ipython",
    "version": 3
   },
   "file_extension": ".py",
   "mimetype": "text/x-python",
   "name": "python",
   "nbconvert_exporter": "python",
   "pygments_lexer": "ipython3",
   "version": "3.10.8"
  }
 },
 "nbformat": 4,
 "nbformat_minor": 5
}
