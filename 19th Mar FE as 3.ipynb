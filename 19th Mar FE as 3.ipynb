{
 "cells": [
  {
   "cell_type": "markdown",
   "id": "5c688552-5c76-4730-b33d-eb143ae256ec",
   "metadata": {},
   "source": [
    "Q1. What is Min-Max scaling, and how is it used in data preprocessing? Provide an example to illustrate its\n",
    "application."
   ]
  },
  {
   "cell_type": "markdown",
   "id": "666a3a84-53df-418c-a2d5-8e9b97beb736",
   "metadata": {},
   "source": [
    "ANS:\n",
    "Min-Max Scaling:\n",
    "Min-Max scaling, also known as normalization, is a data preprocessing technique used to transform numerical features into a specific range. The transformation scales the values between a minimum and maximum value, typically 0 and 1. This is achieved by applying the following formula to each data point:\n",
    "\n",
    "X scaled = (Xi - Xmin)/ (Xmax- Xmin)\n",
    "\n",
    "where Xi is the original data point, Xmin is the minimum value in the feature,\n",
    "Xmax is the maximum value in the feature, X scaled is the scaled (normalized) vlaue.\n",
    "\n",
    "Example:\n",
    "Let's consider a dataset of ages (in years) with values ranging from 20 to 40. We want to apply Min-Max scaling to normalize these ages to the range [0, 1].\n",
    "\n",
    "X scaled = Xi -20 / 40-20 so X scaled will be 0.5 when we havig Xi=30\n",
    "\n",
    "therefore , the age 30 would be normalized to 0.5 using min max scaling.\n",
    "\n",
    "Min-Max scaling is particularly useful when the features have different ranges, ensuring that all features contribute equally to the model's training. It's a common step in preparing data for machine learning algorithms, especially those sensitive to the scale of input features, such as neural networks and support vector machines."
   ]
  },
  {
   "cell_type": "markdown",
   "id": "7d537a86-87fb-4031-b0e3-2d2222d9e2cc",
   "metadata": {},
   "source": [
    "Q2. What is the Unit Vector technique in feature scaling, and how does it differ from Min-Max scaling?\n",
    "Provide an example to illustrate its application."
   ]
  },
  {
   "attachments": {
    "8df56321-ec3e-4728-a2a9-ef948413fc74.png": {
     "image/png": "[encoded data removed]"
    }
   },
   "cell_type": "markdown",
   "id": "a382f4f0-9f16-47e4-93dd-f6c19276b7d9",
   "metadata": {},
   "source": [
    "ANS:\n",
    "Unit Vector (Vector Normalization):\n",
    "\n",
    "The unit vector technique in feature scaling involves scaling individual data points to have a length of 1, transforming them into vectors of unit magnitude. This is achieved by dividing each data point by its Euclidean norm (magnitude). The formula for unit vector transformation is:\n",
    "\n",
    "\n",
    "![image.png](attachment:8df56321-ec3e-4728-a2a9-ef948413fc74.png)\n",
    "\n",
    "\n",
    "Example:\n",
    "Consider a dataset with two features, X1 and X2 , and tdata point is [3, 4].the eclidean norm of this vector is calculated as \n",
    "||X|| = sq root of 3^2 + 4^2 = 5\n",
    "\n",
    "Now, to obtain the unit vector, each component is divided by the Euclidean norm:\n",
    "\n",
    "X sclaed = [3/5, 4,5]\n",
    "The resulting unit vector has a magnitude of 1.\n",
    "\n",
    "Differences from Min-Max Scaling:\n",
    "\n",
    "Range: Min-Max scaling transforms data points into a specific range (e.g., [0, 1]), while unit vector scaling normalizes each data point to have a magnitude of 1.\n",
    "\n",
    "Direction: Unit vector scaling preserves the direction of the data points while adjusting their magnitude. Min-Max scaling, on the other hand, may alter the direction if the original range is not symmetric.\n",
    "\n",
    "Magnitude: In unit vector scaling, the magnitude is fixed at 1. In Min-Max scaling, the magnitude depends on the original range of the data.\n",
    "\n",
    "Unit vector scaling is useful when the direction of the data points is important, such as in clustering algorithms where the relative angles between data points matter more than their distances.\n"
   ]
  },
  {
   "cell_type": "markdown",
   "id": "97c5b2db-dfd7-4a28-882e-6dc5570fb721",
   "metadata": {},
   "source": [
    "Q3. What is PCA (Principle Component Analysis), and how is it used in dimensionality reduction? Provide an\n",
    "example to illustrate its application."
   ]
  },
  {
   "cell_type": "markdown",
   "id": "b5bf9f96-bf6a-4f01-aad1-159cb6d3d661",
   "metadata": {},
   "source": [
    "ANS\n",
    "PCA (Principal Component Analysis):\n",
    "\n",
    "PCA is a dimensionality reduction technique used to transform high-dimensional data into a lower-dimensional space while retaining as much of the original variability as possible. It does so by identifying the principal components, which are linear combinations of the original features.\n",
    "\n",
    "Steps in PCA:\n",
    "\n",
    "Standardization: Standardize the data by subtracting the mean and dividing by the standard deviation for each feature.\n",
    "\n",
    "Covariance Matrix: Compute the covariance matrix for the standardized data.\n",
    "\n",
    "Eigendecomposition: Find the eigenvalues and eigenvectors of the covariance matrix.\n",
    "\n",
    "Select Principal Components: Sort the eigenvalues in descending order and choose the top \n",
    "k eigenvectors corresponding to thelargest eigenvalues, where k is the desired dimensionality of the reduced space.\n",
    "\n",
    "Projection: Project the original data onto the selected eigenvectors to obtain the new, lower-dimensional representation.\n",
    "\n",
    "Example:\n",
    "Consider a dataset with two feature, X1 and X2 ,\n",
    "After standardization and covariance matrix computation, the eigendecomposition yields eigenvaluers λ1 and λ2 along with corresponding eigenvectors v1 and v2.\n",
    "\n",
    "suppose λ1 > λ2 indicating that the first principal component PC1 captures more variace than the second PC2, by projectiong the data onto PC1 , we retain the most important info in a one dimentional space."
   ]
  },
  {
   "cell_type": "markdown",
   "id": "44bd4f87-749a-4a66-87de-abc2095ca88b",
   "metadata": {},
   "source": [
    "Q4. What is the relationship between PCA and Feature Extraction, and how can PCA be used for Feature\n",
    "Extraction? Provide an example to illustrate this concept."
   ]
  },
  {
   "cell_type": "markdown",
   "id": "13ea913e-f5bc-4620-ae05-e41614a383b8",
   "metadata": {},
   "source": [
    "ANS:\n",
    "Relationship between PCA and Feature Extraction:\n",
    "\n",
    "Principal Component Analysis (PCA) is a technique commonly used for feature extraction. In the context of feature extraction, PCA identifies and retains the most important features (principal components) while discarding less important ones. The idea is to reduce the dimensionality of the data while preserving as much of its original variability as possible.\n",
    "\n",
    "How PCA is Used for Feature Extraction:\n",
    "\n",
    "Compute Eigenvectors and Eigenvalues: PCA computes the eigenvectors and eigenvalues of the covariance matrix of the standardized data.\n",
    "\n",
    "Select Principal Components: The eigenvectors corresponding to the largest eigenvalues represent the principal components. These components capture the directions in which the data varies the most.\n",
    "\n",
    "Projection: The data is projected onto the selected principal components, creating a new feature space. The new features are linear combinations of the original features."
   ]
  },
  {
   "cell_type": "markdown",
   "id": "77703a4b-794e-499a-9a7b-aedbfe062580",
   "metadata": {},
   "source": [
    "Example:\n",
    "\n",
    "Consider a dataset with multiple features. We can use PCA for feature extraction to reduce the dimensionality of the data while retaining the most important information."
   ]
  },
  {
   "cell_type": "code",
   "execution_count": 1,
   "id": "2f966752-75fc-4641-b24d-b3fe1afc63c1",
   "metadata": {},
   "outputs": [
    {
     "name": "stdout",
     "output_type": "stream",
     "text": [
      "Original data:\n",
      " [[1 2 3]\n",
      " [4 5 6]\n",
      " [7 8 9]]\n",
      "Reduced data:\n",
      " [[-5.19615242e+00  2.56395025e-16]\n",
      " [ 0.00000000e+00  0.00000000e+00]\n",
      " [ 5.19615242e+00  2.56395025e-16]]\n"
     ]
    }
   ],
   "source": [
    "import numpy as np\n",
    "from sklearn.decomposition import PCA\n",
    "\n",
    "# Example data with three features\n",
    "X = np.array([[1, 2, 3], [4, 5, 6], [7, 8, 9]])\n",
    "\n",
    "# PCA for feature extraction\n",
    "pca = PCA(n_components=2)\n",
    "X_pca = pca.fit_transform(X)\n",
    "\n",
    "print(\"Original data:\\n\", X)\n",
    "print(\"Reduced data:\\n\", X_pca)\n"
   ]
  },
  {
   "cell_type": "markdown",
   "id": "84f6c09f-3dea-42c0-9613-cc3737929dba",
   "metadata": {},
   "source": [
    "In this example, PCA is applied to reduce the three-dimensional data to two dimensions. The new features in X_pca capture the most important information in the original data. This reduced representation is particularly useful when dealing with high-dimensional datasets or when trying to visualize the data in a lower-dimensional space."
   ]
  },
  {
   "cell_type": "markdown",
   "id": "8ecd9161-8093-43cc-9d97-da620ddb6fda",
   "metadata": {},
   "source": [
    "Q5. You are working on a project to build a recommendation system for a food delivery service. The dataset\n",
    "contains features such as price, rating, and delivery time. Explain how you would use Min-Max scaling to\n",
    "preprocess the data."
   ]
  },
  {
   "cell_type": "markdown",
   "id": "539e378e-bbb4-4a06-af1f-a204532d0e70",
   "metadata": {},
   "source": [
    "ANS:\n",
    "Using Min-Max Scaling for Data Preprocessing in a Recommendation System:\n",
    "\n",
    "In the context of building a recommendation system for a food delivery service, Min-Max scaling can be employed to standardize or normalize the features like price, rating, and delivery time. The goal is to transform these features so that they fall within a specific range, typically [0, 1], making them comparable and preventing one feature from dominating due to its scale. Here's how you might use Min-Max scaling:\n",
    "\n",
    "Understand the Data Range:\n",
    "\n",
    "For each feature (e.g., price, rating, delivery time), assess the range of values. Different features might have different scales.\n",
    "Apply Min-Max Scaling:\n",
    "\n",
    "Use the Min-Max scaling formula for each feature \n",
    "this scales the values to the range [0, 1].\n",
    "\n",
    "Implement in Python:\n",
    "\n",
    "Use a library like scikit-learn to apply Min-Max scaling.\n"
   ]
  },
  {
   "cell_type": "code",
   "execution_count": 2,
   "id": "9c8beccf-ce3b-40c0-9a74-b11d992ac13c",
   "metadata": {},
   "outputs": [
    {
     "name": "stdout",
     "output_type": "stream",
     "text": [
      "Original Data:\n",
      " [[10, 4.5, 30], [20, 3.8, 45], [15, 4.2, 20]]\n",
      "Scaled Data:\n",
      " [[0.         1.         0.4       ]\n",
      " [1.         0.         1.        ]\n",
      " [0.5        0.57142857 0.        ]]\n"
     ]
    }
   ],
   "source": [
    "from sklearn.preprocessing import MinMaxScaler\n",
    "\n",
    "# Example dataset with features: price, rating, delivery time\n",
    "data = [[10, 4.5, 30], [20, 3.8, 45], [15, 4.2, 20]]\n",
    "\n",
    "# Initialize the scaler\n",
    "scaler = MinMaxScaler()\n",
    "\n",
    "# Fit and transform the data\n",
    "data_scaled = scaler.fit_transform(data)\n",
    "\n",
    "print(\"Original Data:\\n\", data)\n",
    "print(\"Scaled Data:\\n\", data_scaled)\n"
   ]
  },
  {
   "cell_type": "markdown",
   "id": "9f990e50-5e73-4c72-ab8e-62e741e01e4d",
   "metadata": {},
   "source": [
    "Interpretation:\n",
    "\n",
    "After scaling, each feature will have values between 0 and 1, making them comparable. This is crucial for algorithms that rely on distance metrics, such as collaborative filtering used in recommendation systems.\n",
    "Effect on Recommendation Model:\n",
    "\n",
    "Min-Max scaling ensures that features with different scales contribute equally to the recommendation model, preventing biases based on the scale of the features.\n",
    "By applying Min-Max scaling, you create a standardized representation of the features, contributing to the robustness and effectiveness of the recommendation system."
   ]
  },
  {
   "cell_type": "markdown",
   "id": "2cbdf08c-2e56-434c-889b-2f1dcda08170",
   "metadata": {},
   "source": [
    "Q6. You are working on a project to build a model to predict stock prices. The dataset contains many\n",
    "features, such as company financial data and market trends. Explain how you would use PCA to reduce the\n",
    "dimensionality of the dataset."
   ]
  },
  {
   "cell_type": "markdown",
   "id": "70a0ba7c-f97b-42f4-aedb-316059a0f014",
   "metadata": {},
   "source": [
    "ANS:\n",
    "Using PCA for Dimensionality Reduction in Stock Price Prediction:\n",
    "\n",
    "In the context of building a model to predict stock prices, Principal Component Analysis (PCA) can be a valuable tool for reducing the dimensionality of the dataset. Here's how you might use PCA:\n",
    "\n",
    "Understand the High-Dimensional Dataset:\n",
    "\n",
    "In stock price prediction, datasets often include numerous features, such as financial metrics, market trends, and economic indicators. This can result in a high-dimensional dataset.\n",
    "Apply PCA:\n",
    "\n",
    "PCA is used to transform the original features into a new set of uncorrelated features called principal components. These components are ordered by the amount of variance they capture. By selecting a subset of principal components, you can achieve dimensionality reduction.\n",
    "Steps to Apply PCA in Python:\n",
    "\n",
    "Import necessary libraries and load the dataset.\n",
    "Standardize the features if they are on different scales.\n",
    "Apply PCA to obtain the principal components.\n",
    "Decide on the number of components to keep based on explained variance.\n",
    "Transform the dataset using the selected principal components."
   ]
  },
  {
   "cell_type": "code",
   "execution_count": 5,
   "id": "51417430-c6c6-4afc-b792-7381fea570d1",
   "metadata": {},
   "outputs": [
    {
     "name": "stdout",
     "output_type": "stream",
     "text": [
      "Original Shape: (3, 3)\n",
      "Reduced Shape: (3, 3)\n"
     ]
    }
   ],
   "source": [
    "from sklearn.decomposition import PCA\n",
    "from sklearn.preprocessing import StandardScaler\n",
    "import numpy as np\n",
    "\n",
    "data = np.array([[1, 2, 3], [4, 5, 6], [7, 8, 9]])\n",
    "scaler = StandardScaler()\n",
    "data_standardized = scaler.fit_transform(data)\n",
    "\n",
    "# Apply PCA\n",
    "pca = PCA(n_components=3)  # Choose the number of components\n",
    "data_pca = pca.fit_transform(data_standardized)\n",
    "\n",
    "print(\"Original Shape:\", data.shape)\n",
    "print(\"Reduced Shape:\", data_pca.shape)\n"
   ]
  },
  {
   "cell_type": "markdown",
   "id": "324ca70e-aaa4-46fd-b526-976d20e9b1ea",
   "metadata": {},
   "source": [
    "Interpretation:\n",
    "\n",
    "The new dataset (data_pca) has a reduced number of features (dimensions) compared to the original dataset.\n",
    "Benefits of Dimensionality Reduction:\n",
    "\n",
    "Computational Efficiency: Reducing dimensions can speed up training and testing processes.\n",
    "Improved Model Performance: Removing irrelevant or redundant features can enhance model performance and reduce overfitting.\n",
    "Visualization: It becomes easier to visualize and understand the data when working with fewer dimensions.\n",
    "Effect on Stock Price Prediction Model:\n",
    "\n",
    "The reduced dataset can be used as input for building predictive models. The selected principal components capture the most significant variance in the data.\n",
    "Applying PCA helps address the curse of dimensionality, simplifying the dataset while retaining crucial information for predicting stock prices. It is important to strike a balance between dimensionality reduction and preserving predictive power."
   ]
  },
  {
   "cell_type": "markdown",
   "id": "bc2c5b68-b487-4d30-b2b1-4076d76d7a27",
   "metadata": {},
   "source": [
    "Q7. For a dataset containing the following values: [1, 5, 10, 15, 20], perform Min-Max scaling to transform the values to a range of -1 to 1."
   ]
  },
  {
   "cell_type": "code",
   "execution_count": 6,
   "id": "724eba5d-5f45-47b3-86bb-b150ad838716",
   "metadata": {},
   "outputs": [
    {
     "name": "stdout",
     "output_type": "stream",
     "text": [
      "[[-1.        ]\n",
      " [-0.57894737]\n",
      " [-0.05263158]\n",
      " [ 0.47368421]\n",
      " [ 1.        ]]\n"
     ]
    }
   ],
   "source": [
    "from sklearn.preprocessing import MinMaxScaler\n",
    "\n",
    "# Your dataset\n",
    "data = [[1], [5], [10], [15], [20]]\n",
    "\n",
    "# Create a MinMaxScaler instance\n",
    "scaler = MinMaxScaler(feature_range=(-1, 1))\n",
    "\n",
    "# Fit and transform the data\n",
    "scaled_data = scaler.fit_transform(data)\n",
    "\n",
    "# Print the scaled data\n",
    "print(scaled_data)\n"
   ]
  },
  {
   "cell_type": "markdown",
   "id": "7cd3ff6d-c658-45d2-b36d-a9a45d91e66a",
   "metadata": {},
   "source": [
    "Q8. For a dataset containing the following features: [height, weight, age, gender, blood pressure], perform\n",
    "Feature Extraction using PCA. How many principal components would you choose to retain, and why?"
   ]
  },
  {
   "cell_type": "markdown",
   "id": "395fa1b8-995a-4a65-9a72-57e9cd6b48e7",
   "metadata": {},
   "source": [
    "ANS:\n",
    "The decision of how many principal components (PCs) to retain in PCA is often based on the cumulative explained variance. Here's a general approach:\n",
    "\n",
    "Calculate Explained Variance:\n",
    "\n",
    "Run PCA on your dataset.\n",
    "For each principal component, calculate the proportion of the variance it explains.\n",
    "Decide on a Threshold:\n",
    "\n",
    "Choose a threshold for the cumulative explained variance you want to retain. A common choice is often 95% or 99%.\n",
    "The threshold represents the amount of variance you want your retained principal components to explain.\n",
    "Select Principal Components:\n",
    "\n",
    "Add up the explained variances of the principal components until you reach or exceed the chosen threshold.\n",
    "The number of principal components at this point is the number you retain.\n",
    "\n"
   ]
  },
  {
   "cell_type": "code",
   "execution_count": null,
   "id": "afa402c1-6c67-4fc2-a6ed-f23ae94bcee9",
   "metadata": {},
   "outputs": [],
   "source": [
    "#Here's a Python example using sklearn:\n",
    "\n",
    "from sklearn.decomposition import PCA\n",
    "\n",
    "# Assuming 'data' is your dataset\n",
    "data = [[height1, weight1, age1, gender1, bp1],\n",
    "        [height2, weight2, age2, gender2, bp2]# ... more data ... \n",
    "       ]\n",
    "        \n",
    "\n",
    "# Create a PCA instance\n",
    "pca = PCA()\n",
    "\n",
    "# Fit on data\n",
    "pca.fit(data)\n",
    "\n",
    "# Get explained variances\n",
    "explained_variances = pca.explained_variance_ratio_\n",
    "\n",
    "# Calculate cumulative explained variance\n",
    "cumulative_explained_variance = explained_variances.cumsum()\n",
    "\n",
    "# Decide on a threshold, e.g., 95%\n",
    "threshold = 0.95\n",
    "\n",
    "# Find the number of components to retain\n",
    "num_components_to_retain = len(cumulative_explained_variance[cumulative_explained_variance < threshold]) + 1\n",
    "\n",
    "print(f\"Number of components to retain: {num_components_to_retain}\")\n"
   ]
  },
  {
   "cell_type": "code",
   "execution_count": null,
   "id": "d36c3334-a040-4258-bb22-a2da35c4e7d4",
   "metadata": {},
   "outputs": [],
   "source": []
  }
 ],
 "metadata": {
  "kernelspec": {
   "display_name": "Python 3 (ipykernel)",
   "language": "python",
   "name": "python3"
  },
  "language_info": {
   "codemirror_mode": {
    "name": "ipython",
    "version": 3
   },
   "file_extension": ".py",
   "mimetype": "text/x-python",
   "name": "python",
   "nbconvert_exporter": "python",
   "pygments_lexer": "ipython3",
   "version": "3.10.8"
  }
 },
 "nbformat": 4,
 "nbformat_minor": 5
}
