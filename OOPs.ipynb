{
 "cells": [
  {
   "cell_type": "markdown",
   "id": "4e66e11c-37f5-40f4-8cc8-a08e854a6ff2",
   "metadata": {},
   "source": [
    "Q1. Explain Class and Object with respect to Object-Oriented Programming. Give a suitable example."
   ]
  },
  {
   "cell_type": "markdown",
   "id": "269c1990-020e-4154-9f3b-2b8981d81805",
   "metadata": {},
   "source": [
    "ANS: In object-oriented programming (OOP), a class and an object are fundamental concepts that help structure and model the real-world entities and their behavior. OOP allows us to define custom data types (classes) that encapsulate data and functions (methods) to operate on that data, In simpler terms, a class acts as a user-defined data type.\n",
    "\n",
    "An object is an instance of a class. It is a concrete representation of the class, created based on the class blueprint. Objects have their own unique data and can execute the methods defined in the class."
   ]
  },
  {
   "cell_type": "code",
   "execution_count": 14,
   "id": "c3214170-e110-4987-9acc-f3b4013ac92e",
   "metadata": {},
   "outputs": [],
   "source": [
    "#example of Class:\n",
    "class cell_model:\n",
    "    def __init__(self, brand, ram, rom):\n",
    "        self.brand = brand\n",
    "        self.ram = ram\n",
    "        self.rom = rom\n",
    "        \n",
    "    def Mobile_brand(self):\n",
    "        print(f\"{self.brand} is company\")\n",
    "        \n",
    "    def get_ram(self):\n",
    "        return self.ram\n",
    "    def get_rom(self):\n",
    "        return self.rom\n",
    "    "
   ]
  },
  {
   "cell_type": "code",
   "execution_count": 15,
   "id": "1c098b76-e9b2-43b3-8c7d-a035242a9cab",
   "metadata": {},
   "outputs": [],
   "source": [
    "#example of object\n",
    "model1= cell_model(\"samsung s23\", 8, 128)"
   ]
  },
  {
   "cell_type": "code",
   "execution_count": 16,
   "id": "1e4dec64-09f7-4c48-916e-e429b841c041",
   "metadata": {},
   "outputs": [
    {
     "name": "stdout",
     "output_type": "stream",
     "text": [
      "samsung s23\n",
      "8\n",
      "128\n"
     ]
    }
   ],
   "source": [
    "print(model1.brand)\n",
    "print(model1.get_ram())\n",
    "print(model1.get_rom())"
   ]
  },
  {
   "cell_type": "markdown",
   "id": "b47ae288-a5ff-42b9-b2da-5f6925b42abd",
   "metadata": {},
   "source": [
    "Q2. Name the four pillars of OOPs."
   ]
  },
  {
   "cell_type": "markdown",
   "id": "ad71a06f-c694-4379-a9b9-2c441e21b15a",
   "metadata": {},
   "source": [
    "ANS: 4 pillars of OOPs are \n",
    "1. Encapsulation: Bundling data and methods within a class for data protection and abstraction.\n",
    "2. Abstraction : Simplifying complex entities by defining their essential characteristics.\n",
    "3. Inheritance:  Subclasses inheriting attributes and methods from a superclass for code reusability.\n",
    "4. Polymorphism: Treating different objects as objects of a common superclass for flexibility."
   ]
  },
  {
   "cell_type": "markdown",
   "id": "c0f47919-f719-4244-87ae-7c6f09564d64",
   "metadata": {},
   "source": [
    "Q3. Explain why the __init__() function is used. Give a suitable example."
   ]
  },
  {
   "cell_type": "markdown",
   "id": "3721d16e-1532-4fef-ac03-19b2f0b16267",
   "metadata": {},
   "source": [
    "ANS: The __init__() function is a special method in Python that is automatically called when an object is created from a class. It is also known as the constructor method. \n",
    "The primary purpose of the __init__() function is to initialize the attributes (data members) of the object with the values provided during object creation. It allows us to set up the initial state of the object before any other methods are called on it."
   ]
  },
  {
   "cell_type": "code",
   "execution_count": 29,
   "id": "b907e1d3-0add-4615-8961-646b037d832e",
   "metadata": {},
   "outputs": [
    {
     "name": "stdout",
     "output_type": "stream",
     "text": [
      "Hello, my name is Sumeet, and I am 30 years old.\n"
     ]
    }
   ],
   "source": [
    "#example of init\n",
    "class Person:\n",
    "    def __init__(self, name, age):\n",
    "        self.name = name\n",
    "        self.age = age\n",
    "\n",
    "    def introduce(self):\n",
    "        print(f\"Hello, my name is {self.name}, and I am {self.age} years old.\")\n",
    "\n",
    "person1 = Person(\"Sumeet\", 30)\n",
    "\n",
    "person1.introduce()"
   ]
  },
  {
   "cell_type": "markdown",
   "id": "66e3d682-62be-468e-b1a8-0244861861f2",
   "metadata": {},
   "source": [
    "Q4. Why self is used in OOPs?"
   ]
  },
  {
   "cell_type": "markdown",
   "id": "6b6f1408-2316-4ba9-9198-c1e3ce32042c",
   "metadata": {},
   "source": [
    "ANS:  In Object-Oriented Programming (OOP), self is used as a reference to the instance of the object being operated on. It allows access to the instance's attributes and distinguishes between instance variables and local variables within instance methods. Using self ensures methods correctly operate on the object's data and maintain encapsulation."
   ]
  },
  {
   "cell_type": "markdown",
   "id": "2da41f9f-095c-44bf-9290-a2bd10ce6aa0",
   "metadata": {},
   "source": [
    "Q5. What is inheritance? Give an example for each type of inheritance."
   ]
  },
  {
   "cell_type": "markdown",
   "id": "417f8f67-ba0f-41de-847e-7d6fffcd5edb",
   "metadata": {},
   "source": [
    "ANS: \n",
    "Inheritance is a fundamental concept in Object-Oriented Programming (OOP) where a class (called a subclass or derived class) can acquire the attributes and methods of another class (called a superclass or base class). The subclass inherits the properties of the superclass, allowing code reuse and promoting a hierarchical relationship between classes.\n",
    "\n",
    "Types of inheritance:\n",
    "single inheritance, multiple inheritance, multilevel inheritance, Hierarchical inheritance"
   ]
  },
  {
   "cell_type": "code",
   "execution_count": 23,
   "id": "1742494d-1943-440b-b28d-8c387444d991",
   "metadata": {},
   "outputs": [],
   "source": [
    "#example\n",
    "class Shape:\n",
    "    def area(self):\n",
    "        print(\"Area method of the base class\")\n",
    "\n",
    "class Rectangle(Shape):\n",
    "    def area(self, length, width):\n",
    "        result = length * width\n",
    "        print(\"Area of the rectangle:\", result)\n",
    "\n",
    "class Circle(Shape):\n",
    "    def area(self, radius):\n",
    "        result = 3.14 * radius ** 2\n",
    "        print(\"Area of the circle:\", result)"
   ]
  },
  {
   "cell_type": "code",
   "execution_count": 24,
   "id": "d530eeb8-95eb-4fb8-8c9a-686da2fa76c3",
   "metadata": {},
   "outputs": [
    {
     "name": "stdout",
     "output_type": "stream",
     "text": [
      "Area of the rectangle: 24\n"
     ]
    }
   ],
   "source": [
    "rectangle = Rectangle()\n",
    "rectangle.area(4, 6)"
   ]
  },
  {
   "cell_type": "code",
   "execution_count": 25,
   "id": "7798ac2a-5dee-48f4-93d4-528da918873b",
   "metadata": {},
   "outputs": [
    {
     "name": "stdout",
     "output_type": "stream",
     "text": [
      "Area of the circle: 28.26\n"
     ]
    }
   ],
   "source": [
    "circle = Circle()\n",
    "circle.area(3)"
   ]
  },
  {
   "cell_type": "code",
   "execution_count": null,
   "id": "bb40afa8-d1cb-498d-983b-28ac6b6c1fd0",
   "metadata": {},
   "outputs": [],
   "source": []
  },
  {
   "cell_type": "code",
   "execution_count": null,
   "id": "7e087f91-0ce9-4880-9a5c-19ed9d46a6be",
   "metadata": {},
   "outputs": [],
   "source": []
  }
 ],
 "metadata": {
  "kernelspec": {
   "display_name": "Python 3 (ipykernel)",
   "language": "python",
   "name": "python3"
  },
  "language_info": {
   "codemirror_mode": {
    "name": "ipython",
    "version": 3
   },
   "file_extension": ".py",
   "mimetype": "text/x-python",
   "name": "python",
   "nbconvert_exporter": "python",
   "pygments_lexer": "ipython3",
   "version": "3.10.8"
  }
 },
 "nbformat": 4,
 "nbformat_minor": 5
}
