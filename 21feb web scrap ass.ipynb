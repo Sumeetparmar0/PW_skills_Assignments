{
 "cells": [
  {
   "cell_type": "markdown",
   "id": "6b62a1f5-59d4-4c5d-882e-14e03ef3c272",
   "metadata": {},
   "source": [
    "Q1. What is Web Scraping? Why is it Used? Give three areas where Web Scraping is used to get data."
   ]
  },
  {
   "cell_type": "markdown",
   "id": "a1dcd006-9271-4a5a-b90a-33af473b87ad",
   "metadata": {},
   "source": [
    "ANS:\n",
    "Web Scraping:\n",
    "Web scraping is the process of extracting data from websites. It involves fetching the web page, parsing its HTML, and then extracting the desired information. This can be done manually, but it's often automated using programming languages like Python. Web scraping is used to gather data from the web for various purposes.\n",
    "\n",
    "Data Collection: Web scraping is used to collect large amounts of data from websites, transforming unstructured web data into structured data that can be stored and analyzed.\n",
    "\n",
    "Competitive Analysis: Businesses use web scraping to monitor competitors' prices, product details, and reviews to gain a competitive edge.\n",
    "\n",
    "Research and Analysis: Researchers leverage web scraping to gather data for academic or market research, extracting information from multiple sources efficiently.\n",
    "\n",
    "Monitoring and Alerts: Web scraping is used to monitor websites for changes, track prices of products, or receive alerts when specific conditions are met.\n",
    "\n",
    "Automated Testing: Web scraping can be used to automate testing of websites, ensuring that web pages are rendering correctly and that data is being presented as expected.\n",
    "\n",
    "Three Areas where Web Scraping is Used:\n",
    "\n",
    "E-commerce: Retailers use web scraping to monitor competitors' prices, analyze customer reviews, and track product availability.\n",
    "\n",
    "Finance: Web scraping is employed in finance for collecting financial data, stock prices, economic indicators, and news from various sources.\n",
    "\n",
    "Real Estate: Web scraping is used to gather information on real estate listings, property prices, and market trends for analysis."
   ]
  },
  {
   "cell_type": "markdown",
   "id": "35b164a3-f2e4-40ce-9b06-2d5c50f104df",
   "metadata": {},
   "source": [
    "Q2. What are the different methods used for Web Scraping?"
   ]
  },
  {
   "cell_type": "markdown",
   "id": "7492bca4-5a42-4b51-8ce2-ef1bb28916da",
   "metadata": {},
   "source": [
    "ANS:\n",
    "There are several methods for web scraping, ranging from simple manual methods to complex automated approaches. Here are some common methods:\n",
    "\n",
    "Manual Copy-Pasting:\n",
    "The simplest form of web scraping involves manually copying and pasting data from a website into a local file or spreadsheet.\n",
    "\n",
    "HTML Parsing with Libraries:\n",
    "Using programming libraries like Beautiful Soup (for Python) to parse and navigate HTML structures.Allows for more structured and efficient extraction of data from HTML documents.\n",
    "\n",
    "APIs (Application Programming Interfaces):\n",
    "Some websites provide APIs that allow developers to access data in a structured format without scraping the HTML.\n",
    "Preferred when available, as it's a more reliable and ethical method."
   ]
  },
  {
   "cell_type": "markdown",
   "id": "fee15a39-223f-445f-919d-71e7dc7dc937",
   "metadata": {},
   "source": [
    "Q3. What is Beautiful Soup? Why is it used?"
   ]
  },
  {
   "cell_type": "markdown",
   "id": "461b64a3-19bf-4f71-918f-55f1ca680b2c",
   "metadata": {},
   "source": [
    "ANS:\n",
    "Beautiful Soup:\n",
    "Beautiful Soup is a Python library for pulling data out of HTML and XML files. It provides Pythonic idioms for iterating, searching, and modifying the parse tree. Beautiful Soup sits on top of popular Python parsers like html.parser, lxml, and html5lib, allowing it to navigate and search the parse tree in a Pythonic way.\n",
    "\n",
    "Why is it Used?\n",
    "\n",
    "HTML and XML Parsing:\n",
    "Beautiful Soup is primarily used for parsing HTML and XML documents. It transforms a complex HTML document into a tree of Python objects, such as tags, navigable strings, or comments.\n",
    "\n",
    "Ease of Use:\n",
    "It provides Pythonic idioms for iterating and searching the parse tree, making it intuitive and easy to use. Developers familiar with Python can quickly adapt to Beautiful Soup.\n",
    "\n",
    "\n",
    "Search and Navigation:\n",
    "Beautiful Soup allows you to search and navigate the parse tree using methods like find(), find_all(), and select(). These methods make it easy to locate specific elements based on tags, attributes, or CSS selectors.\n",
    "\n",
    "\n",
    "Modifying the Parse Tree:\n",
    "Besides parsing, Beautiful Soup supports modifying the parse tree. You can add, remove, or modify tags and their attributes, enabling the manipulation of HTML content.\n",
    "\n"
   ]
  },
  {
   "cell_type": "markdown",
   "id": "7e69eb44-2efe-4f5d-9ad8-4fc98bc1e2a4",
   "metadata": {},
   "source": [
    "Q4. Why is flask used in this Web Scraping project?"
   ]
  },
  {
   "cell_type": "markdown",
   "id": "2e7211d3-c0ee-401c-9654-9f6cecfbf3dc",
   "metadata": {},
   "source": [
    "ANS:\n",
    "Flask is a micro web framework for Python that is commonly used for building web applications, APIs, and, in some cases, for web scraping projects. \n",
    "\n",
    "RESTful APIs:\n",
    "\n",
    "Flask is well-suited for creating RESTful APIs. In a web scraping project, you might want to expose an API to allow users or other applications to retrieve the scraped data in a structured format.\n",
    "\n",
    "Web Interface:\n",
    "\n",
    "Flask can be used to create a simple web interface for interacting with the scraped data. This is beneficial when you want to provide a user-friendly way to view or query the scraped information.\n",
    "\n",
    "Data Presentation:\n",
    "\n",
    "Flask allows you to present the scraped data in a clean and organized manner through HTML templates. This can be useful for visualizing the data.\n",
    "\n",
    "Ease of Use:\n",
    "\n",
    "Flask is known for its simplicity and ease of use. If the primary goal of the web scraping project is to quickly set up a server for data presentation or API access, Flask provides a lightweight solution."
   ]
  },
  {
   "cell_type": "markdown",
   "id": "1009ab01-a1c0-489b-b8a3-6a25db562ec8",
   "metadata": {},
   "source": [
    "Q5. Write the names of AWS services used in this project. Also, explain the use of each service."
   ]
  },
  {
   "cell_type": "markdown",
   "id": "4c31c117-1601-4857-bfd0-8eb2e7692c34",
   "metadata": {},
   "source": [
    "ANS:\n",
    "In this project we used two AWS servieces named CodePipeline and Elastic Beanstalk.\n",
    "\n",
    "AWS CodePipeline:\n",
    "\n",
    "AWS CodePipeline is a fully managed continuous delivery service that helps automate the release pipelines for fast and reliable application and infrastructure updates. It automates the build, test, and deployment phases of your release process every time there is a code change. \n",
    "\n",
    "AWS Elastic Beanstalk:\n",
    "\n",
    "AWS Elastic Beanstalk is a fully managed service that makes it easy to deploy and run applications in multiple languages here we used python however it supports Java Ruby Node.js ..etc.\n",
    "\n",
    "both can be used together, with CodePipeline orchestrating the deployment process, including deployments to Elastic Beanstalk environments."
   ]
  },
  {
   "cell_type": "code",
   "execution_count": null,
   "id": "17374734-e9b4-49dd-b103-b985d4501fc8",
   "metadata": {},
   "outputs": [],
   "source": []
  }
 ],
 "metadata": {
  "kernelspec": {
   "display_name": "Python 3 (ipykernel)",
   "language": "python",
   "name": "python3"
  },
  "language_info": {
   "codemirror_mode": {
    "name": "ipython",
    "version": 3
   },
   "file_extension": ".py",
   "mimetype": "text/x-python",
   "name": "python",
   "nbconvert_exporter": "python",
   "pygments_lexer": "ipython3",
   "version": "3.10.8"
  }
 },
 "nbformat": 4,
 "nbformat_minor": 5
}
