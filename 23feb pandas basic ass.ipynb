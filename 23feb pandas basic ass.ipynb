{
 "cells": [
  {
   "cell_type": "markdown",
   "id": "3e4aaf37-fe68-4511-ac26-47fe3f409d9a",
   "metadata": {},
   "source": [
    "Q1. Create a Pandas Series that contains the following data: 4, 8, 15, 16, 23, and 42. Then, print the series."
   ]
  },
  {
   "cell_type": "code",
   "execution_count": 1,
   "id": "d685757d-06f7-4ee2-a305-a61e2da7a2e8",
   "metadata": {},
   "outputs": [],
   "source": [
    "import pandas as pd"
   ]
  },
  {
   "cell_type": "code",
   "execution_count": 2,
   "id": "d85486f8-ac8c-4c95-8b5b-5337c2b87c3e",
   "metadata": {},
   "outputs": [],
   "source": [
    "a= [4,8,15,16,23,42]"
   ]
  },
  {
   "cell_type": "code",
   "execution_count": 4,
   "id": "d643fc18-cd40-4f80-abb3-de0405dfd9c7",
   "metadata": {},
   "outputs": [],
   "source": [
    "Series = pd.Series(a)"
   ]
  },
  {
   "cell_type": "code",
   "execution_count": 5,
   "id": "6499173a-3a66-4844-be99-88cc689eb623",
   "metadata": {},
   "outputs": [
    {
     "name": "stdout",
     "output_type": "stream",
     "text": [
      "0     4\n",
      "1     8\n",
      "2    15\n",
      "3    16\n",
      "4    23\n",
      "5    42\n",
      "dtype: int64\n"
     ]
    }
   ],
   "source": [
    "print(Series)"
   ]
  },
  {
   "cell_type": "markdown",
   "id": "aea3b0ab-ab28-4818-ba54-2293c39882c3",
   "metadata": {},
   "source": [
    "Q2. Create a variable of list type containing 10 elements in it, and apply pandas.Series function on the\n",
    "variable print it."
   ]
  },
  {
   "cell_type": "code",
   "execution_count": 6,
   "id": "4ac9ac60-cf28-4002-9fef-3b0a3926d75f",
   "metadata": {},
   "outputs": [],
   "source": [
    "VAR = ['apple', 'ball', 'cat', 1,2,3,4,5,6,7]"
   ]
  },
  {
   "cell_type": "code",
   "execution_count": 7,
   "id": "de63feda-c721-46ee-99c0-4dcd59050da3",
   "metadata": {},
   "outputs": [],
   "source": [
    "VAR_series= pd.Series(VAR)"
   ]
  },
  {
   "cell_type": "code",
   "execution_count": 8,
   "id": "bb612845-7256-4867-b4af-c0d9a081aed3",
   "metadata": {},
   "outputs": [
    {
     "name": "stdout",
     "output_type": "stream",
     "text": [
      "0    apple\n",
      "1     ball\n",
      "2      cat\n",
      "3        1\n",
      "4        2\n",
      "5        3\n",
      "6        4\n",
      "7        5\n",
      "8        6\n",
      "9        7\n",
      "dtype: object\n"
     ]
    }
   ],
   "source": [
    "print(VAR_series)"
   ]
  },
  {
   "cell_type": "markdown",
   "id": "f962c326-2787-4dc0-a99e-222fcd65a597",
   "metadata": {},
   "source": [
    "Q3. Create a Pandas DataFrame that contains the following data:"
   ]
  },
  {
   "cell_type": "code",
   "execution_count": 13,
   "id": "83e5ed4e-ddf9-408c-993a-77dd28a77f61",
   "metadata": {},
   "outputs": [],
   "source": [
    "Dict_1 = {\"Name\": [\"Alice\", \"Bob\", \"Claire\"],\"Age\": [25,30,27], \"Gender\": [\"Female\", \"Male\", \"Female\"] }"
   ]
  },
  {
   "cell_type": "code",
   "execution_count": 14,
   "id": "cf667285-a2a6-45c7-87df-7ffec27218be",
   "metadata": {},
   "outputs": [],
   "source": [
    "A= pd.DataFrame(Dict_1)"
   ]
  },
  {
   "cell_type": "code",
   "execution_count": 15,
   "id": "ce41326b-cf61-4655-96fe-23fa83e9b32e",
   "metadata": {},
   "outputs": [
    {
     "data": {
      "text/html": [
       "<div>\n",
       "<style scoped>\n",
       "    .dataframe tbody tr th:only-of-type {\n",
       "        vertical-align: middle;\n",
       "    }\n",
       "\n",
       "    .dataframe tbody tr th {\n",
       "        vertical-align: top;\n",
       "    }\n",
       "\n",
       "    .dataframe thead th {\n",
       "        text-align: right;\n",
       "    }\n",
       "</style>\n",
       "<table border=\"1\" class=\"dataframe\">\n",
       "  <thead>\n",
       "    <tr style=\"text-align: right;\">\n",
       "      <th></th>\n",
       "      <th>Name</th>\n",
       "      <th>Age</th>\n",
       "      <th>Gender</th>\n",
       "    </tr>\n",
       "  </thead>\n",
       "  <tbody>\n",
       "    <tr>\n",
       "      <th>0</th>\n",
       "      <td>Alice</td>\n",
       "      <td>25</td>\n",
       "      <td>Female</td>\n",
       "    </tr>\n",
       "    <tr>\n",
       "      <th>1</th>\n",
       "      <td>Bob</td>\n",
       "      <td>30</td>\n",
       "      <td>Male</td>\n",
       "    </tr>\n",
       "    <tr>\n",
       "      <th>2</th>\n",
       "      <td>Claire</td>\n",
       "      <td>27</td>\n",
       "      <td>Female</td>\n",
       "    </tr>\n",
       "  </tbody>\n",
       "</table>\n",
       "</div>"
      ],
      "text/plain": [
       "     Name  Age  Gender\n",
       "0   Alice   25  Female\n",
       "1     Bob   30    Male\n",
       "2  Claire   27  Female"
      ]
     },
     "execution_count": 15,
     "metadata": {},
     "output_type": "execute_result"
    }
   ],
   "source": [
    "A"
   ]
  },
  {
   "cell_type": "markdown",
   "id": "6e32b615-b415-43ad-9a59-9f813e246fbc",
   "metadata": {},
   "source": [
    "Q4. What is ‘DataFrame’ in pandas and how is it different from pandas.series? Explain with an example."
   ]
  },
  {
   "cell_type": "markdown",
   "id": "498aabff-d5b3-4bc8-b90a-d83b6d670953",
   "metadata": {},
   "source": [
    "ANS: \n",
    "In Pandas, a DataFrame is a two-dimensional, tabular data structure with labeled axes (rows and columns). It is essentially a collection of Pandas Series where each column of the DataFrame is a Series. The key difference between a DataFrame and a Series is that a DataFrame can have multiple columns, whereas a Series is a one-dimensional array."
   ]
  },
  {
   "cell_type": "code",
   "execution_count": 16,
   "id": "6e23177a-7ced-4d5f-b722-cb0b332c22a6",
   "metadata": {},
   "outputs": [
    {
     "name": "stdout",
     "output_type": "stream",
     "text": [
      "0     4\n",
      "1     8\n",
      "2    15\n",
      "3    16\n",
      "4    23\n",
      "5    42\n",
      "dtype: int64\n"
     ]
    }
   ],
   "source": [
    "#for example see above code of series \n",
    "print(Series)"
   ]
  },
  {
   "cell_type": "code",
   "execution_count": 17,
   "id": "6cf79091-909f-4e51-8f4f-d72e03e08afa",
   "metadata": {},
   "outputs": [
    {
     "data": {
      "text/html": [
       "<div>\n",
       "<style scoped>\n",
       "    .dataframe tbody tr th:only-of-type {\n",
       "        vertical-align: middle;\n",
       "    }\n",
       "\n",
       "    .dataframe tbody tr th {\n",
       "        vertical-align: top;\n",
       "    }\n",
       "\n",
       "    .dataframe thead th {\n",
       "        text-align: right;\n",
       "    }\n",
       "</style>\n",
       "<table border=\"1\" class=\"dataframe\">\n",
       "  <thead>\n",
       "    <tr style=\"text-align: right;\">\n",
       "      <th></th>\n",
       "      <th>Name</th>\n",
       "      <th>Age</th>\n",
       "      <th>Gender</th>\n",
       "    </tr>\n",
       "  </thead>\n",
       "  <tbody>\n",
       "    <tr>\n",
       "      <th>0</th>\n",
       "      <td>Alice</td>\n",
       "      <td>25</td>\n",
       "      <td>Female</td>\n",
       "    </tr>\n",
       "    <tr>\n",
       "      <th>1</th>\n",
       "      <td>Bob</td>\n",
       "      <td>30</td>\n",
       "      <td>Male</td>\n",
       "    </tr>\n",
       "    <tr>\n",
       "      <th>2</th>\n",
       "      <td>Claire</td>\n",
       "      <td>27</td>\n",
       "      <td>Female</td>\n",
       "    </tr>\n",
       "  </tbody>\n",
       "</table>\n",
       "</div>"
      ],
      "text/plain": [
       "     Name  Age  Gender\n",
       "0   Alice   25  Female\n",
       "1     Bob   30    Male\n",
       "2  Claire   27  Female"
      ]
     },
     "execution_count": 17,
     "metadata": {},
     "output_type": "execute_result"
    }
   ],
   "source": [
    "#for example see above code of Data frame\n",
    "A"
   ]
  },
  {
   "cell_type": "markdown",
   "id": "57f8500c-0f78-43e7-ab05-71b30ddfa0ee",
   "metadata": {},
   "source": [
    "Q5. What are some common functions you can use to manipulate data in a Pandas DataFrame? Can\n",
    "you give an example of when you might use one of these functions?"
   ]
  },
  {
   "cell_type": "markdown",
   "id": "96d74161-92fe-48d6-b4e2-a1478fbe661e",
   "metadata": {},
   "source": [
    "ANS: there are many functions to manipulate data in dataframe, some key functions are\n",
    "head(), tail(), info(), describe(), shape, columns, drop(), groupby(), merge() etc."
   ]
  },
  {
   "cell_type": "code",
   "execution_count": 21,
   "id": "765874ea-7dab-4859-97c9-8925c47ff2f7",
   "metadata": {},
   "outputs": [
    {
     "data": {
      "text/html": [
       "<div>\n",
       "<style scoped>\n",
       "    .dataframe tbody tr th:only-of-type {\n",
       "        vertical-align: middle;\n",
       "    }\n",
       "\n",
       "    .dataframe tbody tr th {\n",
       "        vertical-align: top;\n",
       "    }\n",
       "\n",
       "    .dataframe thead th {\n",
       "        text-align: right;\n",
       "    }\n",
       "</style>\n",
       "<table border=\"1\" class=\"dataframe\">\n",
       "  <thead>\n",
       "    <tr style=\"text-align: right;\">\n",
       "      <th></th>\n",
       "      <th>Name</th>\n",
       "      <th>Age</th>\n",
       "      <th>Gender</th>\n",
       "    </tr>\n",
       "  </thead>\n",
       "  <tbody>\n",
       "    <tr>\n",
       "      <th>0</th>\n",
       "      <td>Alice</td>\n",
       "      <td>25</td>\n",
       "      <td>Female</td>\n",
       "    </tr>\n",
       "    <tr>\n",
       "      <th>1</th>\n",
       "      <td>Bob</td>\n",
       "      <td>30</td>\n",
       "      <td>Male</td>\n",
       "    </tr>\n",
       "    <tr>\n",
       "      <th>2</th>\n",
       "      <td>Claire</td>\n",
       "      <td>27</td>\n",
       "      <td>Female</td>\n",
       "    </tr>\n",
       "  </tbody>\n",
       "</table>\n",
       "</div>"
      ],
      "text/plain": [
       "     Name  Age  Gender\n",
       "0   Alice   25  Female\n",
       "1     Bob   30    Male\n",
       "2  Claire   27  Female"
      ]
     },
     "execution_count": 21,
     "metadata": {},
     "output_type": "execute_result"
    }
   ],
   "source": [
    "#examples \n",
    "A.head()\n"
   ]
  },
  {
   "cell_type": "code",
   "execution_count": 22,
   "id": "19f22e3a-b6ea-4d14-8865-49ef9ccea7f8",
   "metadata": {},
   "outputs": [
    {
     "data": {
      "text/html": [
       "<div>\n",
       "<style scoped>\n",
       "    .dataframe tbody tr th:only-of-type {\n",
       "        vertical-align: middle;\n",
       "    }\n",
       "\n",
       "    .dataframe tbody tr th {\n",
       "        vertical-align: top;\n",
       "    }\n",
       "\n",
       "    .dataframe thead th {\n",
       "        text-align: right;\n",
       "    }\n",
       "</style>\n",
       "<table border=\"1\" class=\"dataframe\">\n",
       "  <thead>\n",
       "    <tr style=\"text-align: right;\">\n",
       "      <th></th>\n",
       "      <th>Name</th>\n",
       "      <th>Age</th>\n",
       "      <th>Gender</th>\n",
       "    </tr>\n",
       "  </thead>\n",
       "  <tbody>\n",
       "    <tr>\n",
       "      <th>0</th>\n",
       "      <td>Alice</td>\n",
       "      <td>25</td>\n",
       "      <td>Female</td>\n",
       "    </tr>\n",
       "    <tr>\n",
       "      <th>1</th>\n",
       "      <td>Bob</td>\n",
       "      <td>30</td>\n",
       "      <td>Male</td>\n",
       "    </tr>\n",
       "    <tr>\n",
       "      <th>2</th>\n",
       "      <td>Claire</td>\n",
       "      <td>27</td>\n",
       "      <td>Female</td>\n",
       "    </tr>\n",
       "  </tbody>\n",
       "</table>\n",
       "</div>"
      ],
      "text/plain": [
       "     Name  Age  Gender\n",
       "0   Alice   25  Female\n",
       "1     Bob   30    Male\n",
       "2  Claire   27  Female"
      ]
     },
     "execution_count": 22,
     "metadata": {},
     "output_type": "execute_result"
    }
   ],
   "source": [
    "A.tail()"
   ]
  },
  {
   "cell_type": "code",
   "execution_count": 23,
   "id": "90caf222-0f3a-427c-89dd-293657266ceb",
   "metadata": {},
   "outputs": [
    {
     "name": "stdout",
     "output_type": "stream",
     "text": [
      "<class 'pandas.core.frame.DataFrame'>\n",
      "RangeIndex: 3 entries, 0 to 2\n",
      "Data columns (total 3 columns):\n",
      " #   Column  Non-Null Count  Dtype \n",
      "---  ------  --------------  ----- \n",
      " 0   Name    3 non-null      object\n",
      " 1   Age     3 non-null      int64 \n",
      " 2   Gender  3 non-null      object\n",
      "dtypes: int64(1), object(2)\n",
      "memory usage: 200.0+ bytes\n"
     ]
    }
   ],
   "source": [
    "A.info()"
   ]
  },
  {
   "cell_type": "code",
   "execution_count": 24,
   "id": "5e5781f3-2b92-400a-ac17-1df16670aa9c",
   "metadata": {},
   "outputs": [
    {
     "data": {
      "text/html": [
       "<div>\n",
       "<style scoped>\n",
       "    .dataframe tbody tr th:only-of-type {\n",
       "        vertical-align: middle;\n",
       "    }\n",
       "\n",
       "    .dataframe tbody tr th {\n",
       "        vertical-align: top;\n",
       "    }\n",
       "\n",
       "    .dataframe thead th {\n",
       "        text-align: right;\n",
       "    }\n",
       "</style>\n",
       "<table border=\"1\" class=\"dataframe\">\n",
       "  <thead>\n",
       "    <tr style=\"text-align: right;\">\n",
       "      <th></th>\n",
       "      <th>Age</th>\n",
       "    </tr>\n",
       "  </thead>\n",
       "  <tbody>\n",
       "    <tr>\n",
       "      <th>count</th>\n",
       "      <td>3.000000</td>\n",
       "    </tr>\n",
       "    <tr>\n",
       "      <th>mean</th>\n",
       "      <td>27.333333</td>\n",
       "    </tr>\n",
       "    <tr>\n",
       "      <th>std</th>\n",
       "      <td>2.516611</td>\n",
       "    </tr>\n",
       "    <tr>\n",
       "      <th>min</th>\n",
       "      <td>25.000000</td>\n",
       "    </tr>\n",
       "    <tr>\n",
       "      <th>25%</th>\n",
       "      <td>26.000000</td>\n",
       "    </tr>\n",
       "    <tr>\n",
       "      <th>50%</th>\n",
       "      <td>27.000000</td>\n",
       "    </tr>\n",
       "    <tr>\n",
       "      <th>75%</th>\n",
       "      <td>28.500000</td>\n",
       "    </tr>\n",
       "    <tr>\n",
       "      <th>max</th>\n",
       "      <td>30.000000</td>\n",
       "    </tr>\n",
       "  </tbody>\n",
       "</table>\n",
       "</div>"
      ],
      "text/plain": [
       "             Age\n",
       "count   3.000000\n",
       "mean   27.333333\n",
       "std     2.516611\n",
       "min    25.000000\n",
       "25%    26.000000\n",
       "50%    27.000000\n",
       "75%    28.500000\n",
       "max    30.000000"
      ]
     },
     "execution_count": 24,
     "metadata": {},
     "output_type": "execute_result"
    }
   ],
   "source": [
    "A.describe()"
   ]
  },
  {
   "cell_type": "code",
   "execution_count": 25,
   "id": "98ba12c1-a371-49cd-9d69-cb31d151749a",
   "metadata": {},
   "outputs": [
    {
     "data": {
      "text/plain": [
       "(3, 3)"
      ]
     },
     "execution_count": 25,
     "metadata": {},
     "output_type": "execute_result"
    }
   ],
   "source": [
    "A.shape"
   ]
  },
  {
   "cell_type": "code",
   "execution_count": 26,
   "id": "e469bd7a-8f7a-48d0-b1af-63a677023369",
   "metadata": {},
   "outputs": [
    {
     "data": {
      "text/plain": [
       "Index(['Name', 'Age', 'Gender'], dtype='object')"
      ]
     },
     "execution_count": 26,
     "metadata": {},
     "output_type": "execute_result"
    }
   ],
   "source": [
    "A.columns"
   ]
  },
  {
   "cell_type": "code",
   "execution_count": 27,
   "id": "5a829c46-7b88-4aa4-a051-643546e95161",
   "metadata": {},
   "outputs": [
    {
     "data": {
      "text/plain": [
       "Name       Alice\n",
       "Age           25\n",
       "Gender    Female\n",
       "Name: 0, dtype: object"
      ]
     },
     "execution_count": 27,
     "metadata": {},
     "output_type": "execute_result"
    }
   ],
   "source": [
    "A.loc[0]"
   ]
  },
  {
   "cell_type": "markdown",
   "id": "8d6bc1fd-8aef-4770-8a61-313ae305389e",
   "metadata": {},
   "source": [
    "Q6. Which of the following is mutable in nature Series, DataFrame, Panel?"
   ]
  },
  {
   "cell_type": "markdown",
   "id": "4893d59e-2082-413f-9531-cab9c20f5942",
   "metadata": {},
   "source": [
    "ANS:\n",
    "Series: It is mutable. You can modify the values in a Series after it has been created.\n",
    "\n",
    "DataFrame: It is mutable as well. You can add, remove, or modify columns, and you can modify the data within the columns.\n",
    "\n",
    "Panel: Panel is also mutable but not used till now.\n",
    "So, in summary, both Series and DataFrame are mutable in nature."
   ]
  },
  {
   "cell_type": "markdown",
   "id": "1f9efe0f-fab6-4988-99a7-933dd873ce4e",
   "metadata": {},
   "source": [
    "Q7. Create a DataFrame using multiple Series. Explain with an example."
   ]
  },
  {
   "cell_type": "code",
   "execution_count": 34,
   "id": "23ad18cf-2268-4c40-9b08-1a13d8681039",
   "metadata": {},
   "outputs": [],
   "source": [
    "#ANS:\n",
    "# Creating Pandas Series\n",
    "age = pd.Series([25, 30, 22, 35])\n",
    "salary = pd.Series([50000, 60000, 45000, 75000])\n",
    "city = pd.Series(['Ahmedabad', 'Mumbai', 'Chandigarh', 'Bangalore'])\n",
    "\n",
    "# Creating a DataFrame using the Series\n",
    "df = pd.DataFrame({'Age': age, 'Salary': salary, 'City': city})\n"
   ]
  },
  {
   "cell_type": "code",
   "execution_count": 35,
   "id": "9f04618c-1eee-4479-9f08-facc74f51dbc",
   "metadata": {},
   "outputs": [
    {
     "data": {
      "text/html": [
       "<div>\n",
       "<style scoped>\n",
       "    .dataframe tbody tr th:only-of-type {\n",
       "        vertical-align: middle;\n",
       "    }\n",
       "\n",
       "    .dataframe tbody tr th {\n",
       "        vertical-align: top;\n",
       "    }\n",
       "\n",
       "    .dataframe thead th {\n",
       "        text-align: right;\n",
       "    }\n",
       "</style>\n",
       "<table border=\"1\" class=\"dataframe\">\n",
       "  <thead>\n",
       "    <tr style=\"text-align: right;\">\n",
       "      <th></th>\n",
       "      <th>Age</th>\n",
       "      <th>Salary</th>\n",
       "      <th>City</th>\n",
       "    </tr>\n",
       "  </thead>\n",
       "  <tbody>\n",
       "    <tr>\n",
       "      <th>0</th>\n",
       "      <td>25</td>\n",
       "      <td>50000</td>\n",
       "      <td>Ahmedabad</td>\n",
       "    </tr>\n",
       "    <tr>\n",
       "      <th>1</th>\n",
       "      <td>30</td>\n",
       "      <td>60000</td>\n",
       "      <td>Mumbai</td>\n",
       "    </tr>\n",
       "    <tr>\n",
       "      <th>2</th>\n",
       "      <td>22</td>\n",
       "      <td>45000</td>\n",
       "      <td>Chandigarh</td>\n",
       "    </tr>\n",
       "    <tr>\n",
       "      <th>3</th>\n",
       "      <td>35</td>\n",
       "      <td>75000</td>\n",
       "      <td>Bangalore</td>\n",
       "    </tr>\n",
       "  </tbody>\n",
       "</table>\n",
       "</div>"
      ],
      "text/plain": [
       "   Age  Salary        City\n",
       "0   25   50000   Ahmedabad\n",
       "1   30   60000      Mumbai\n",
       "2   22   45000  Chandigarh\n",
       "3   35   75000   Bangalore"
      ]
     },
     "execution_count": 35,
     "metadata": {},
     "output_type": "execute_result"
    }
   ],
   "source": [
    "df"
   ]
  },
  {
   "cell_type": "code",
   "execution_count": null,
   "id": "62e76e19-0581-4793-bb28-941a8adcac3d",
   "metadata": {},
   "outputs": [],
   "source": []
  }
 ],
 "metadata": {
  "kernelspec": {
   "display_name": "Python 3 (ipykernel)",
   "language": "python",
   "name": "python3"
  },
  "language_info": {
   "codemirror_mode": {
    "name": "ipython",
    "version": 3
   },
   "file_extension": ".py",
   "mimetype": "text/x-python",
   "name": "python",
   "nbconvert_exporter": "python",
   "pygments_lexer": "ipython3",
   "version": "3.10.8"
  }
 },
 "nbformat": 4,
 "nbformat_minor": 5
}
