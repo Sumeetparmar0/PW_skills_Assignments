{
 "cells": [
  {
   "cell_type": "markdown",
   "id": "6261850d-4bf3-4885-a227-73d3e0f2f544",
   "metadata": {},
   "source": [
    "Q1 who developed python programming languege?"
   ]
  },
  {
   "cell_type": "markdown",
   "id": "b50fd78e-134b-4ee3-b4f0-2b00887cfc93",
   "metadata": {},
   "source": [
    "Ans: Guido van Rossum"
   ]
  },
  {
   "cell_type": "markdown",
   "id": "ca5148c4-f1f3-40f3-936e-d9e67af7cb25",
   "metadata": {},
   "source": [
    "Q2. which type of programming does python support?"
   ]
  },
  {
   "cell_type": "markdown",
   "id": "87744667-d18b-431d-b912-2effb239aa9b",
   "metadata": {},
   "source": [
    "ANS: python supports wide range of programming tasks.key things mentioned below.\n",
    "Imperative Programming, Object-Oriented Programming (OOP), Functional Programming, Procedural Programming, \n",
    "Scripting, Dynamic Programming, Structured Programming."
   ]
  },
  {
   "cell_type": "markdown",
   "id": "59933e8b-93e3-4eb8-adcc-a5b8040699ba",
   "metadata": {},
   "source": [
    "Q3. is python case sensitive when dealing with identifiers?\n"
   ]
  },
  {
   "cell_type": "markdown",
   "id": "a9fc8988-e38c-40be-89ef-53d5ac964731",
   "metadata": {},
   "source": [
    "Ans: Yes"
   ]
  },
  {
   "cell_type": "markdown",
   "id": "d65fd1ad-25d1-4372-97d8-9c905bd028d9",
   "metadata": {},
   "source": [
    "Q4. what is the correct extension of the python file"
   ]
  },
  {
   "cell_type": "markdown",
   "id": "c2d824e3-d59b-45a7-9430-0dc890e0e05d",
   "metadata": {},
   "source": [
    "Ans: ' .py' is correct extension of the python file."
   ]
  },
  {
   "cell_type": "markdown",
   "id": "c3f34bcc-0ae8-458a-9883-09970f439d61",
   "metadata": {},
   "source": [
    "Q5. is python code complied or interpreted?"
   ]
  },
  {
   "cell_type": "markdown",
   "id": "efccbc46-8092-4df1-93b2-d50eb78b9db6",
   "metadata": {},
   "source": [
    "Ans: Python code is interpreted. "
   ]
  },
  {
   "cell_type": "markdown",
   "id": "9155265d-1064-4e40-8959-9163b291704c",
   "metadata": {},
   "source": [
    "Q6. name a few blocks of code used to define in python language?"
   ]
  },
  {
   "cell_type": "markdown",
   "id": "a4155a2b-9901-4c7f-ae61-b4708fec6d60",
   "metadata": {},
   "source": [
    "Ans: function defination block, Conditional statement block(like if else), loop block (like for and while), exception handling block, classdefination block.. etc."
   ]
  },
  {
   "cell_type": "markdown",
   "id": "8460a2ad-2530-4e9e-8800-72296f32277b",
   "metadata": {},
   "source": [
    "Q7. state a character used to give single-line comments in python?"
   ]
  },
  {
   "cell_type": "markdown",
   "id": "e721f543-06a3-4e5d-a432-190d5cd35162",
   "metadata": {},
   "source": [
    "Ans: In Python, the character # is used to create single-line comments."
   ]
  },
  {
   "cell_type": "markdown",
   "id": "64cd47bd-3692-4dff-ad44-40fd4005da6a",
   "metadata": {},
   "source": [
    "Q8. mention functions which can help us to find version of python that we are currently working on ?"
   ]
  },
  {
   "cell_type": "code",
   "execution_count": 4,
   "id": "d3907d27-1f2f-46c3-9e9b-c3b62125eece",
   "metadata": {},
   "outputs": [
    {
     "name": "stdout",
     "output_type": "stream",
     "text": [
      "3.10.8 | packaged by conda-forge | (main, Nov 22 2022, 08:26:04) [GCC 10.4.0]\n"
     ]
    }
   ],
   "source": [
    "#ANS:\n",
    "import sys\n",
    "print(sys.version)\n",
    "#other than this we can use platform module also."
   ]
  },
  {
   "cell_type": "markdown",
   "id": "6b1ea5cd-3c37-49d4-920d-1a59ff65e366",
   "metadata": {},
   "source": [
    "Q9. Python supports the creation of anonymous functions at runtime using a construct called"
   ]
  },
  {
   "cell_type": "markdown",
   "id": "e1aa6aac-dedc-4710-a5a1-a1d3ae39e030",
   "metadata": {},
   "source": [
    "Ans: yes lambda function is used for that."
   ]
  },
  {
   "cell_type": "markdown",
   "id": "c98989eb-208b-48d8-a49e-5f29fff3c292",
   "metadata": {},
   "source": [
    "Q10. what does pip statd for in python?"
   ]
  },
  {
   "cell_type": "markdown",
   "id": "970361b1-4ab0-4545-b1b3-c0ac868839aa",
   "metadata": {},
   "source": [
    "Ans: pip  “Preferred Installer Program” is a package manager used in Python for installing, managing, and distributing software packages. It stands for \"Pip Installs Packages\" or \"Pip Installs Python,\" and it simplifies the process of installing and managing third-party libraries and packages that are not included in the Python standard library."
   ]
  },
  {
   "cell_type": "markdown",
   "id": "1dd97d97-4f99-445f-a92c-f7421ced8894",
   "metadata": {},
   "source": [
    "Q11. mention a few built in function in python?"
   ]
  },
  {
   "cell_type": "markdown",
   "id": "f1f419f5-cfb7-41d0-b5b0-c600d048b8e3",
   "metadata": {},
   "source": [
    "Ans. there are many , few examples are print(), len(), input(), int(), float(), sum()..etc."
   ]
  },
  {
   "cell_type": "markdown",
   "id": "b3b614f8-8184-4e9d-951d-e3ec757fd355",
   "metadata": {},
   "source": [
    "Q12. what is the maximum possible length of an identifier in python?"
   ]
  },
  {
   "cell_type": "markdown",
   "id": "21949121-570c-452b-b671-5f9888893bea",
   "metadata": {},
   "source": [
    "Ans: An identifier can have a maximum length of 79 characters in Python. "
   ]
  },
  {
   "cell_type": "markdown",
   "id": "655e03f4-e06c-42c6-a79f-844b8faaa2ee",
   "metadata": {},
   "source": [
    "Q13. what are the benefit of using python?"
   ]
  },
  {
   "cell_type": "markdown",
   "id": "f7764e0d-5c39-4de4-8395-f4485cb44903",
   "metadata": {},
   "source": [
    "Ans: few benefits are mentioned below.\n",
    "Open Source, Readability and Simplicity, Large Standard Library, Cross-Platform Compatibility, Third-Party Libraries..etc"
   ]
  },
  {
   "cell_type": "markdown",
   "id": "26cc8c06-7db3-40bf-9d13-13b7e7cf50b0",
   "metadata": {},
   "source": [
    "Q14. how is memory managed in python?"
   ]
  },
  {
   "cell_type": "markdown",
   "id": "353fdee8-9155-470d-9264-e7d1bd1b0dea",
   "metadata": {},
   "source": [
    "Ans: Memory management in Python is automatic and primarily handled by the Python Memory Manager. Python's memory management system is designed to provide developers with a high level of abstraction"
   ]
  },
  {
   "cell_type": "markdown",
   "id": "c86f9a0a-44ad-408b-83a6-68b29529d8a8",
   "metadata": {},
   "source": [
    "Q15. How to install thon on windows and set path variables?"
   ]
  },
  {
   "cell_type": "markdown",
   "id": "f8a0e698-e0f1-48be-8d02-5364c7edc0c7",
   "metadata": {},
   "source": [
    "Ans: first download pthon installer, then run it, compleate installation,  check the box that says \"Add Python X.X to PATH\" during installation. This will automatically set up the necessary environment variables."
   ]
  },
  {
   "cell_type": "markdown",
   "id": "fec74beb-db38-48cd-83d3-59bf15ef4d1a",
   "metadata": {},
   "source": [
    "Q16. is indentation required in python?"
   ]
  },
  {
   "cell_type": "markdown",
   "id": "e639cb49-3d80-4f89-a100-c8c63719b75e",
   "metadata": {},
   "source": [
    "Ans:Yes, indentation is required in Python."
   ]
  },
  {
   "cell_type": "code",
   "execution_count": null,
   "id": "64300392-6de2-4e4c-bf6d-2bffffd99abd",
   "metadata": {},
   "outputs": [],
   "source": []
  }
 ],
 "metadata": {
  "kernelspec": {
   "display_name": "Python 3 (ipykernel)",
   "language": "python",
   "name": "python3"
  },
  "language_info": {
   "codemirror_mode": {
    "name": "ipython",
    "version": 3
   },
   "file_extension": ".py",
   "mimetype": "text/x-python",
   "name": "python",
   "nbconvert_exporter": "python",
   "pygments_lexer": "ipython3",
   "version": "3.10.8"
  }
 },
 "nbformat": 4,
 "nbformat_minor": 5
}
