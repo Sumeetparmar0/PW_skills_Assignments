{
 "cells": [
  {
   "cell_type": "markdown",
   "id": "475082ae-a207-46ee-835f-f53b9a765234",
   "metadata": {},
   "source": [
    "Q1: What are the Probability Mass Function (PMF) and Probability Density Function (PDF)? Explain with\n",
    "an example."
   ]
  },
  {
   "cell_type": "markdown",
   "id": "42435711-fd9b-472e-98cf-f5f76b8297de",
   "metadata": {},
   "source": [
    "ANS:\n",
    "The Probability Mass Function (PMF) is used for discrete random variables and provides the probability of a specific outcome occurring. It gives the probability of each possible value of the discrete variable.\n",
    "\n",
    "Example:\n",
    "For a fair six-sided die, the PMF would assign a probability of 1/6 to each face, as each face has an equal chance of showing up.\n",
    "\n",
    "The Probability Density Function (PDF) is used for continuous random variables. Unlike the PMF, the PDF itself doesn't give the probability of a specific value; instead, it gives the probability density at each point. The probability of the variable falling within a range is found by integrating the PDF over that range.\n",
    "\n",
    "Example:\n",
    "For a standard normal distribution, the PDF is the bell-shaped curve. The probability of the variable falling within a particular range is given by the area under the curve within that range.\n",
    "\n",
    "In summary, PMF is for discrete variables, and PDF is for continuous variables."
   ]
  },
  {
   "cell_type": "markdown",
   "id": "42063102-31c3-4738-878b-3c7d5fdf3768",
   "metadata": {},
   "source": [
    "Q2: What is Cumulative Density Function (CDF)? Explain with an example. Why CDF is used?"
   ]
  },
  {
   "cell_type": "markdown",
   "id": "3d73c695-530c-42d9-bf67-e8b390a3cf34",
   "metadata": {},
   "source": [
    "ANS:\n",
    "The Cumulative Distribution Function (CDF) gives the probability that a random variable takes a value less than or equal to a given value. It is a function F(x) defined for all real numbers x, and it is non-decreasing.\n",
    "\n",
    "Mathematically, for a random variable X, the CDF is given by:\n",
    "\n",
    "F(x) = P(X ≤ x)\n",
    "\n",
    "Let's consider a fair six-sided die. The CDF for this die would be a step function. For any value of x, the CDF gives the probability that the outcome of the die is less than or equal to x.\n",
    "\n",
    "For x = 1: \n",
    "F(1)=P(X ≤ 1)= 1/6\n",
    " \n",
    "For x = 2: \n",
    "F(2)=P(X ≤ 2)= 2/6 = 1/3\n",
    "\n",
    "For x = 3: \n",
    "F(3)=P(X≤3)= 3/6 = 1/2\n",
    "And so on.\n",
    "\n",
    "The CDF is used to calculate probabilities involving ranges of values, and it's a crucial concept in statistics and probability theory. The probability that a random variable falls within a specified range is given by the difference in the CDF values at the upper and lower bounds of that range."
   ]
  },
  {
   "cell_type": "markdown",
   "id": "38d0a497-a861-4fc5-82df-79afb5c6f3bf",
   "metadata": {},
   "source": [
    "Q3: What are some examples of situations where the normal distribution might be used as a model?\n",
    "Explain how the parameters of the normal distribution relate to the shape of the distribution."
   ]
  },
  {
   "cell_type": "markdown",
   "id": "982ef1a0-16f7-4cb8-9097-08c7572b74ad",
   "metadata": {},
   "source": [
    "ANS:\n",
    "The normal distribution, also known as the Gaussian distribution, is widely used to model real-world phenomena due to the central limit theorem. Some examples of situations where the normal distribution might be used as a model include:\n",
    "\n",
    "Height of Individuals: The distribution of human heights tends to follow a normal distribution.\n",
    "\n",
    "IQ Scores: IQ scores in a population often follow a normal distribution.\n",
    "\n",
    "Measurement Errors: Errors in measurement instruments, assuming they are small and random, can often be modeled by a normal distribution.\n",
    "\n",
    "Stock Prices: Daily changes in stock prices are often modeled as normally distributed.\n",
    "\n",
    "In a normal distribution:\n",
    "\n",
    "About 68% of the data falls within one standard deviation of the mean.\n",
    "About 95% falls within two standard deviations.\n",
    "About 99.7% falls within three standard deviations.\n",
    "These properties make the normal distribution a powerful tool for modeling and understanding various phenomena in statistics and probability theory."
   ]
  },
  {
   "cell_type": "markdown",
   "id": "9a404595-232d-4afc-bc9f-4b2ccccef1ff",
   "metadata": {},
   "source": [
    "Q4: Explain the importance of Normal Distribution. Give a few real-life examples of Normal\n",
    "Distribution."
   ]
  },
  {
   "cell_type": "markdown",
   "id": "8fff37aa-70b3-4300-8c10-8c408851f5f5",
   "metadata": {},
   "source": [
    "ANS:\n",
    "The normal distribution is of paramount importance in statistics and data analysis due to its numerous applications and several key properties. Here are some reasons for its significance and real-life examples:\n",
    "\n",
    "Central Limit Theorem (CLT): The normal distribution is closely tied to the Central Limit Theorem, which states that the distribution of the sum (or average) of a large number of independent, identically distributed random variables approaches a normal distribution, regardless of the original distribution. This makes it a foundational concept in inferential statistics.\n",
    "\n",
    "Statistical Inference: Many statistical methods and hypothesis tests assume normality. For instance, t-tests and analysis of variance (ANOVA) are commonly used with the assumption of normality in the underlying data.\n",
    "\n",
    "Modeling Natural Phenomena: Various natural phenomena, such as height, weight, IQ scores, and errors in measurement, tend to follow a normal distribution. This makes the normal distribution a suitable model for describing and understanding these phenomena.\n",
    "\n",
    "Quality Control: In manufacturing processes, variations in product characteristics often follow a normal distribution. Quality control charts and statistical process control heavily rely on the normal distribution to identify deviations from the expected.\n",
    "\n",
    "Financial Markets: In finance, returns on investments, stock prices, and other financial metrics often exhibit a normal distribution or are close to it. This assumption is foundational in financial modeling and risk management.\n",
    "\n",
    "In essence, the normal distribution serves as a fundamental tool for describing, modeling, and making inferences about a wide range of phenomena across diverse fields. Its mathematical properties and ease of use make it a cornerstone in statistical analysis."
   ]
  },
  {
   "cell_type": "markdown",
   "id": "8f7c0828-2394-4dbb-b85a-820aa1365b17",
   "metadata": {},
   "source": [
    "Q5: What is Bernaulli Distribution? Give an Example. What is the difference between Bernoulli\n",
    "Distribution and Binomial Distribution?"
   ]
  },
  {
   "cell_type": "markdown",
   "id": "8fc63b01-8f04-4ce7-99d7-5226b92d8378",
   "metadata": {},
   "source": [
    "ANS:\n",
    "The Bernoulli distribution is a discrete probability distribution representing a random experiment with only two possible outcomes: success (usually denoted as 1) and failure (usually denoted as 0). \n",
    "Example:\n",
    "Consider a single toss of a biased coin where p is the probability of getting heads. The outcome of interest might be whether it's heads (success) or tails (failure). The Bernoulli distribution models this scenario.\n",
    "\n",
    "The key difference between Bernoulli and Binomial distributions lies in the number of trials:\n",
    "\n",
    "Bernoulli Distribution is applicable to a single trial with two possible outcomes.\n",
    "\n",
    "Binomial Distribution arises from a fixed number of independent and identically distributed Bernoulli trials (repeated Bernoulli experiments).\n",
    "\n",
    "In summary, Bernoulli is for a single trial, and Binomial is for the sum of outcomes over multiple independent and identical trials. The Bernoulli distribution is a special case of the Binomial distribution where n=1."
   ]
  },
  {
   "cell_type": "markdown",
   "id": "943d6617-5075-4483-8ed9-fe65ddba6b6e",
   "metadata": {},
   "source": [
    "Q6. Consider a dataset with a mean of 50 and a standard deviation of 10. If we assume that the dataset\n",
    "is normally distributed, what is the probability that a randomly selected observation will be greater\n",
    "than 60? Use the appropriate formula and show your calculations."
   ]
  },
  {
   "cell_type": "markdown",
   "id": "195c6cd4-0673-4ded-b526-6dd60c34045e",
   "metadata": {},
   "source": [
    "ANS:\n",
    "To find the probability that a randomly selected observation from a normally distributed dataset with a mean of 50 and a standard deviation of 10 is greater than 60, we can use the standard normal distribution (Z) and the Z-score formula.\n",
    "\n",
    "Z= (X- u)/ sigma\n",
    "where\n",
    "X is the value (60)\n",
    "u is the mean \n",
    "sigma is standard deviation.\n",
    "\n",
    "form this Z will be 1.\n",
    "\n",
    "Once we have the Z-score, we can use a standard normal distribution table or a calculator to find the probability associated with that Z-score. In this case, we're looking for P(Z>1).\n",
    "\n",
    "From a standard normal distribution table or a calculator, you can find that P(Z>1) is approximately 0.1587.\n",
    "\n",
    "Therefore, the probability that a randomly selected observation from the given dataset is greater than 60 is approximately 0.1587 or 15.87%."
   ]
  },
  {
   "cell_type": "markdown",
   "id": "da96907f-29fa-4029-9773-e9ebb1edc6ae",
   "metadata": {},
   "source": [
    "Q7: Explain uniform Distribution with an example."
   ]
  },
  {
   "cell_type": "markdown",
   "id": "71d6bb29-53d2-48b5-ae62-5399485a740a",
   "metadata": {},
   "source": [
    "Ans:\n",
    "Uniform Distribution is a probability distribution in which all outcomes are equally likely. In a uniform distribution, each value within a given range has the same probability of occurring. It is characterized by a constant probability density function.\n",
    "\n",
    "Example: Rolling a Fair Die\n",
    "\n",
    "Consider rolling a fair six-sided die. Each number (1, 2, 3, 4, 5, 6) has an equal chance of being rolled, and the probability of rolling any specific number is 1/6, since there are six possible outcomes.\n",
    "\n",
    "Probability of rolling a 1 = 1/6, 2 = 1/6 .. and so on.\n",
    "\n",
    "The probability density function for a uniform distribution in this example is constant across all possible outcomes, making it a uniform distribution."
   ]
  },
  {
   "cell_type": "markdown",
   "id": "8f52833f-d37c-4325-b1bc-7badfc77463e",
   "metadata": {},
   "source": [
    "Q8: What is the z score? State the importance of the z score."
   ]
  },
  {
   "cell_type": "markdown",
   "id": "e692d472-67fd-4ec2-bd03-601ca8a9d057",
   "metadata": {},
   "source": [
    "ANS:\n",
    "The z-score, also known as standard score or z-value, measures how many standard deviations a particular data point is from the mean of a dataset. It is calculated using the formula:\n",
    "Z= (X- u)/ sigma\n",
    "\n",
    "X is the individual data point, u(myu) is te mean , sigma is the standard deviation of the dataset.\n",
    "\n",
    "Importance of Z-Score:\n",
    "\n",
    "Standardization: Z-scores are used to standardize data, making it easier to compare scores from different distributions.\n",
    "Outlier Detection: Z-scores help identify outliers by flagging data points that deviate significantly from the mean.\n",
    "Normal Distribution Comparison: Z-scores allow comparing scores from different normal distributions, facilitating a standardized comparison.\n",
    "Probability Calculation: In a standard normal distribution (mean = 0, standard deviation = 1), the z-score directly corresponds to the probability of observing a value less than or equal to X."
   ]
  },
  {
   "cell_type": "markdown",
   "id": "649a053c-7fee-46a0-b43b-ae9c3ad9f198",
   "metadata": {},
   "source": [
    "Q9: What is Central Limit Theorem? State the significance of the Central Limit Theorem."
   ]
  },
  {
   "cell_type": "markdown",
   "id": "fede568f-6cfd-45d7-9763-9c70ed19efb4",
   "metadata": {},
   "source": [
    "ANS:\n",
    "Central Limit Theorem (CLT):\n",
    "\n",
    "The Central Limit Theorem is a fundamental concept in statistics, stating that the distribution of the sum (or average) of a large number of independent, identically distributed random variables approaches a normal distribution, regardless of the original distribution of the variables. This holds true as long as the sample size is sufficiently large.\n",
    "\n",
    "Significance of the Central Limit Theorem:\n",
    "\n",
    "Normal Distribution Approximation: The CLT allows us to assume that the distribution of the sample mean (or sum) of a sufficiently large random sample will be approximately normal, even if the underlying population distribution is not normal. This is particularly important for statistical inference.\n",
    "\n",
    "Statistical Inference: Since the normal distribution is well understood and extensively studied, the CLT forms the basis for many statistical methods and hypothesis tests, especially when dealing with sample means.\n",
    "\n",
    "Large Sample Sizes: The CLT justifies why statistical procedures that rely on normality assumptions work well with large sample sizes. It provides a mathematical explanation for the effectiveness of methods like confidence intervals and hypothesis testing.\n",
    "\n",
    "Sampling from Any Distribution: Regardless of the original shape of the population distribution, if the sample size is sufficiently large, the distribution of the sample mean becomes approximately normal. This is a powerful concept in practical statistics."
   ]
  },
  {
   "cell_type": "markdown",
   "id": "cf3420d4-01e1-4da1-b5a2-4258df56e49d",
   "metadata": {},
   "source": [
    "Q10: State the assumptions of the Central Limit Theorem."
   ]
  },
  {
   "cell_type": "markdown",
   "id": "6ac1c5c8-f896-428e-8383-52d313eb94ac",
   "metadata": {},
   "source": [
    "ANS:\n",
    "Assumptions of the Central Limit Theorem (CLT):\n",
    "\n",
    "Random Sampling: The observations in the sample must be selected randomly. This means that each member of the population has an equal chance of being included in the sample.\n",
    "\n",
    "Independence: The sampled observations must be independent of each other. In practical terms, the occurrence of one observation should not affect the occurrence of another.\n",
    "\n",
    "Sample Size: The sample size should be sufficiently large. While there is no fixed rule, a commonly cited guideline is that the sample size should be at least 30. However, the larger the sample size, the better the normal approximation.\n",
    "\n",
    "Population Distribution: The shape of the population distribution from which the samples are drawn is not critical, as long as the sample size is large enough. However, if the population is extremely non-normal, a larger sample size may be required for the CLT to hold.\n",
    "\n",
    "Finite Variance: The population should have a finite variance. This is because the sample variance is used in the calculations involved in the CLT.\n",
    "\n",
    "Identically Distributed: The sampled random variables should be identically distributed. This means that they should have the same mean and variance."
   ]
  },
  {
   "cell_type": "code",
   "execution_count": null,
   "id": "4157f2dc-eb44-4743-92fd-4a62401c9b68",
   "metadata": {},
   "outputs": [],
   "source": []
  }
 ],
 "metadata": {
  "kernelspec": {
   "display_name": "Python 3 (ipykernel)",
   "language": "python",
   "name": "python3"
  },
  "language_info": {
   "codemirror_mode": {
    "name": "ipython",
    "version": 3
   },
   "file_extension": ".py",
   "mimetype": "text/x-python",
   "name": "python",
   "nbconvert_exporter": "python",
   "pygments_lexer": "ipython3",
   "version": "3.10.8"
  }
 },
 "nbformat": 4,
 "nbformat_minor": 5
}
