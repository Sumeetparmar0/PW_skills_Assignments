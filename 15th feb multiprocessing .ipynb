{
 "cells": [
  {
   "cell_type": "markdown",
   "id": "e2f640ab-5263-4d6b-b0fd-bd653d3b82fe",
   "metadata": {},
   "source": [
    "Q1 What is multiprocessing in python? Why is it useful?"
   ]
  },
  {
   "cell_type": "markdown",
   "id": "aa2d5cdd-2ab0-41d3-b09d-9f3996b29c23",
   "metadata": {},
   "source": [
    "ANS: Multiprocessing in Python refers to the capability of creating and running multiple processes Simultaniously, we can take advantage of multi-core processors to achieve parallelism. \n",
    "Multiprocessing is usefull in Parallelism, Intensive tasks hadling efficiently, Isolation as each process has its own memory space, Resource Utilization if we have high end core system."
   ]
  },
  {
   "cell_type": "markdown",
   "id": "63ab2fb4-e4ac-4a28-97f3-5f565ebd5053",
   "metadata": {},
   "source": [
    "Q2. What are the differences between multiprocessing and multithreading?"
   ]
  },
  {
   "cell_type": "markdown",
   "id": "99b7de34-f2a0-4db0-8e5c-78686c14bbe3",
   "metadata": {},
   "source": [
    "ANS: Key difference between multiprocessing and multithreding is mentioned below\n",
    "Parallelism: in multiprocessing , parallelism is achived by runnig multiple processes, each with its own python interpreter and memory space, process run independetly and can execute on multiple CPU cores.\n",
    "on other hand Multithreding achives parallelism withn a single process by running mutliple therads.\n",
    "\n",
    "Memory space:\n",
    "in Mutiprocessing  each process has its own memory space, means they are isolated from each other.\n",
    "in Multithreading thereads within the same process share the same memory space.\n",
    "\n",
    "Communication and Data Sharing:\n",
    "Multiprocessing Communication between processes is more explicit and involves serialization and deserialization of data.\n",
    "Multithreading: Since threads share the same memory space, communication between threads is more implicit."
   ]
  },
  {
   "cell_type": "markdown",
   "id": "96d5f324-9012-480d-8a8e-cec8fd79bf2b",
   "metadata": {},
   "source": [
    "Q3. Write a python code to create a process using the multiprocessing module."
   ]
  },
  {
   "cell_type": "code",
   "execution_count": 5,
   "id": "15656d49-5238-4ff0-a7a5-8c38c2c03a5b",
   "metadata": {},
   "outputs": [
    {
     "name": "stdout",
     "output_type": "stream",
     "text": [
      "Process A (ID: 951) is running.\n",
      "Process B (ID: 954) is running.\n",
      "Process A (ID: 951) is done.\n",
      "Process B (ID: 954) is done.\n",
      "Main process is Completed.\n"
     ]
    }
   ],
   "source": [
    "#ANS:\n",
    "import multiprocessing\n",
    "import os\n",
    "import time\n",
    "\n",
    "def print_info(process_name):\n",
    "    print(f\"Process {process_name} (ID: {os.getpid()}) is running.\")\n",
    "    time.sleep(2)\n",
    "    print(f\"Process {process_name} (ID: {os.getpid()}) is done.\")\n",
    "\n",
    "if __name__ == \"__main__\":\n",
    "    \n",
    "    process1 = multiprocessing.Process(target=print_info, args=(\"A\",))\n",
    "    process2 = multiprocessing.Process(target=print_info, args=(\"B\",))\n",
    "\n",
    "    \n",
    "    process1.start()\n",
    "    process2.start()\n",
    "\n",
    "    \n",
    "    process1.join()\n",
    "    process2.join()\n",
    "\n",
    "    print(\"Main process is Completed.\")\n"
   ]
  },
  {
   "cell_type": "markdown",
   "id": "ff86743c-ba1a-4cc4-8fa1-5d0f54e755ca",
   "metadata": {},
   "source": [
    "Q4. What is a multiprocessing pool in python? Why is it used?"
   ]
  },
  {
   "cell_type": "markdown",
   "id": "a5b5cf40-2142-48a6-83f2-69ad88732547",
   "metadata": {},
   "source": [
    "ANS: In Python, a multiprocessing pool is a part of the multiprocessing module that provides a convenient way to parallelize the execution of a function across multiple input values. It allows us to distribute the workload among a specified number of worker processes, with each process executing the function on a different input.\n",
    "Key characteristics of a multiprocessing Pool are, parallel excecution, Automatic Work distribution, Simplified syntax, Rusult handling, Resource managment etc."
   ]
  },
  {
   "cell_type": "markdown",
   "id": "64fd0a23-3c12-4adb-8458-164254f62c7d",
   "metadata": {},
   "source": [
    "Q5. How can we create a pool of worker processes in python using the multiprocessing module?"
   ]
  },
  {
   "cell_type": "code",
   "execution_count": 13,
   "id": "fbcbaebd-a532-4895-af9e-297254e69a76",
   "metadata": {},
   "outputs": [
    {
     "name": "stdout",
     "output_type": "stream",
     "text": [
      "[1, 4, 9, 16, 25]\n"
     ]
    }
   ],
   "source": [
    "#Ans:\n",
    "import multiprocessing\n",
    "\n",
    "def square(x):\n",
    "    return x * x\n",
    "\n",
    "if __name__ == \"__main__\":\n",
    "    values = [1, 2, 3, 4, 5]\n",
    "\n",
    "    num_processes = 2\n",
    "\n",
    "    \n",
    "    with multiprocessing.Pool(processes=num_processes) as pool:\n",
    "        results = pool.map(square, values)\n",
    "\n",
    "    print(results)\n"
   ]
  },
  {
   "cell_type": "markdown",
   "id": "209678a2-e6ee-4162-acf8-0e083985c102",
   "metadata": {},
   "source": [
    "Q6. Write a python program to create 4 processes, each process should print a different number using the\n",
    "multiprocessing module in python."
   ]
  },
  {
   "cell_type": "code",
   "execution_count": 17,
   "id": "a22f36bd-96d1-47dd-8be1-a2478698b24d",
   "metadata": {},
   "outputs": [
    {
     "name": "stdout",
     "output_type": "stream",
     "text": [
      "Process-2: The square of 2 is 4.\n",
      "Process-4: The square of 4 is 16.\n",
      "Process-6: The square of 6 is 36.\n",
      "Process-8: The square of 8 is 64.\n",
      "\n",
      "\n",
      "\n",
      "\n"
     ]
    }
   ],
   "source": [
    "#Ans:\n",
    "import multiprocessing\n",
    "\n",
    "def calculate_square(number):\n",
    "    result = number * number\n",
    "    print(f\"Process-{number}: The square of {number} is {result}.\\n\")\n",
    "\n",
    "if __name__ == \"__main__\": \n",
    "    numbers = [2, 4, 6, 8]\n",
    "\n",
    "    with multiprocessing.Pool(processes=4) as pool:\n",
    "        pool.map(calculate_square, numbers)"
   ]
  },
  {
   "cell_type": "code",
   "execution_count": null,
   "id": "8befb1b7-cdd1-47a9-90eb-fb019a3fe14d",
   "metadata": {},
   "outputs": [],
   "source": []
  }
 ],
 "metadata": {
  "kernelspec": {
   "display_name": "Python 3 (ipykernel)",
   "language": "python",
   "name": "python3"
  },
  "language_info": {
   "codemirror_mode": {
    "name": "ipython",
    "version": 3
   },
   "file_extension": ".py",
   "mimetype": "text/x-python",
   "name": "python",
   "nbconvert_exporter": "python",
   "pygments_lexer": "ipython3",
   "version": "3.10.8"
  }
 },
 "nbformat": 4,
 "nbformat_minor": 5
}
